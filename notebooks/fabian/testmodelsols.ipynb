{
 "cells": [
  {
   "cell_type": "code",
   "execution_count": 1,
   "id": "26c76c9a",
   "metadata": {},
   "outputs": [],
   "source": [
    "import joblib\n",
    "import pandas as pd\n",
    "import unicodedata\n",
    "import re\n",
    "import pickle\n",
    "import os\n",
    "import pandas as pd\n",
    "import numpy as np\n",
    "from sklearn.model_selection import train_test_split\n",
    "from sklearn.pipeline import Pipeline\n",
    "from sklearn.compose import ColumnTransformer\n",
    "from sklearn.preprocessing import StandardScaler, OneHotEncoder\n",
    "from sklearn.impute import SimpleImputer\n",
    "from sklearn.ensemble import RandomForestClassifier, RandomForestRegressor\n",
    "from sklearn.multioutput import MultiOutputClassifier\n",
    "from sklearn.metrics import accuracy_score, mean_squared_error"
   ]
  },
  {
   "cell_type": "code",
   "execution_count": 2,
   "id": "bfe9fd2a",
   "metadata": {},
   "outputs": [],
   "source": [
    "pipeline_path = \"/Users/fabiancordenod/code/fqbq69/BIMpredict-/pipeline/randomforestsolspipeline.pkl\"\n",
    "pipeline = joblib.load(pipeline_path)"
   ]
  },
  {
   "cell_type": "code",
   "execution_count": 3,
   "id": "2626c359",
   "metadata": {},
   "outputs": [],
   "source": [
    "# Charger le CSV\n",
    "csv_path = \"/Users/fabiancordenod/code/fqbq69/BIMpredict-/datatest/test21020/sols21020.csv\"\n",
    "df_test = pd.read_csv(csv_path, delimiter=';', header=1)\n",
    "\n",
    "# Nettoyer les noms de colonnes comme à l'entraînement\n",
    "def clean_col(col):\n",
    "    col = ''.join(c for c in unicodedata.normalize('NFD', col) if unicodedata.category(c) != 'Mn')\n",
    "    col = col.lower()\n",
    "    col = re.sub(r\"[ \\-\\(\\)]\", \"_\", col)\n",
    "    col = re.sub(r\"[^a-z0-9_]\", \"\", col)\n",
    "    col = re.sub(r\"_+\", \"_\", col)\n",
    "    col = col.strip(\"_\")\n",
    "    return col\n",
    "\n",
    "df_test.columns = [clean_col(c) for c in df_test.columns]"
   ]
  },
  {
   "cell_type": "code",
   "execution_count": 4,
   "id": "1c554ea0",
   "metadata": {},
   "outputs": [],
   "source": [
    "# Les targets à prédire (après nettoyage)\n",
    "targets = [\n",
    "    \"011ec_lot\",\n",
    "    \"012ec_ouvrage\",\n",
    "    \"013ec_localisation\",\n",
    "    \"014ec_mode_constructif\"\n",
    "]\n",
    "\n",
    "# Colonnes explicatives attendues par le pipeline\n",
    "features = pipeline.named_steps['preprocessor'].feature_names_in_\n",
    "\n",
    "# S'assurer que toutes les colonnes sont présentes\n",
    "for col in features:\n",
    "    if col not in df_test.columns:\n",
    "        df_test[col] = np.nan\n",
    "X_test = df_test[features].copy()"
   ]
  },
  {
   "cell_type": "code",
   "execution_count": 5,
   "id": "434396ca",
   "metadata": {},
   "outputs": [],
   "source": [
    "# Remove duplicate columns if any (especially 'epaisseur')\n",
    "X_test_unique = X_test.loc[:, ~X_test.columns.duplicated()]\n",
    "\n",
    "# Reorder columns to match the order used during pipeline training\n",
    "X_test_ordered = X_test_unique[features]\n",
    "y_pred = pipeline.predict(X_test_ordered)"
   ]
  },
  {
   "cell_type": "code",
   "execution_count": 6,
   "id": "3141f843",
   "metadata": {},
   "outputs": [
    {
     "name": "stdout",
     "output_type": "stream",
     "text": [
      "   011ec_lot 012ec_ouvrage 013ec_localisation 014ec_mode_constructif\n",
      "0         GO       DALLAGE            COURANT         COULE EN PLACE\n",
      "1         GO      PLANCHER            COURANT         COULE EN PLACE\n",
      "2         GO      PLANCHER            COURANT         COULE EN PLACE\n",
      "3         GO       DALLAGE            COURANT         COULE EN PLACE\n",
      "4         GO       DALLAGE            COURANT         COULE EN PLACE\n",
      "5         GO       DALLAGE            COURANT         COULE EN PLACE\n",
      "6         GO      PLANCHER            COURANT         COULE EN PLACE\n",
      "7         GO      PLANCHER            COURANT         COULE EN PLACE\n",
      "8         GO      PLANCHER            COURANT         COULE EN PLACE\n",
      "9         GO      PLANCHER            COURANT         COULE EN PLACE\n",
      "10        GO      PLANCHER            COURANT         COULE EN PLACE\n",
      "11        GO      PLANCHER            COURANT         COULE EN PLACE\n",
      "12        GO      PLANCHER            COURANT         COULE EN PLACE\n",
      "13        GO      PLANCHER            COURANT         COULE EN PLACE\n",
      "14        GO      PLANCHER            COURANT         COULE EN PLACE\n",
      "15        GO      PLANCHER            COURANT         COULE EN PLACE\n",
      "16        GO      PLANCHER            COURANT         COULE EN PLACE\n",
      "17        GO      PLANCHER            COURANT         COULE EN PLACE\n",
      "18        GO       DALLAGE            COURANT         COULE EN PLACE\n",
      "19        GO      PLANCHER            COURANT         COULE EN PLACE\n",
      "20        GO      PLANCHER            COURANT         COULE EN PLACE\n",
      "21        GO       DALLAGE            COURANT         COULE EN PLACE\n",
      "22        GO      PLANCHER            COURANT         COULE EN PLACE\n",
      "23        GO       DALLAGE            COURANT         COULE EN PLACE\n",
      "24        GO      PLANCHER            COURANT         COULE EN PLACE\n",
      "25        GO      PLANCHER            COURANT         COULE EN PLACE\n",
      "26        GO       DALLAGE            COURANT         COULE EN PLACE\n",
      "27        GO      PLANCHER            COURANT         COULE EN PLACE\n",
      "28        GO      PLANCHER            COURANT         COULE EN PLACE\n",
      "29        GO       DALLAGE            COURANT         COULE EN PLACE\n",
      "30        GO      PLANCHER            COURANT         COULE EN PLACE\n",
      "31        GO      PLANCHER            COURANT         COULE EN PLACE\n",
      "32        GO      PLANCHER            COURANT         COULE EN PLACE\n",
      "33        GO      PLANCHER            COURANT         COULE EN PLACE\n",
      "34        GO      PLANCHER            COURANT         COULE EN PLACE\n",
      "35        GO      PLANCHER            COURANT         COULE EN PLACE\n",
      "36        GO      PLANCHER            COURANT         COULE EN PLACE\n",
      "37        GO      PLANCHER            COURANT         COULE EN PLACE\n",
      "38        GO      PLANCHER            COURANT         COULE EN PLACE\n",
      "39        GO      PLANCHER            COURANT         COULE EN PLACE\n",
      "40        GO      PLANCHER            COURANT         COULE EN PLACE\n",
      "41        GO      PLANCHER            COURANT         COULE EN PLACE\n",
      "42        GO      PLANCHER            COURANT         COULE EN PLACE\n",
      "43        GO      PLANCHER            COURANT         COULE EN PLACE\n",
      "44        GO      PLANCHER            COURANT         COULE EN PLACE\n",
      "45        GO      PLANCHER            COURANT         COULE EN PLACE\n",
      "46        GO      PLANCHER            COURANT         COULE EN PLACE\n",
      "47        GO      PLANCHER            COURANT         COULE EN PLACE\n",
      "48        GO      PLANCHER            COURANT         COULE EN PLACE\n",
      "49        GO      PLANCHER            COURANT         COULE EN PLACE\n"
     ]
    }
   ],
   "source": [
    "# Les targets à prédire (après nettoyage)\n",
    "targets = [\n",
    "    \"011ec_lot\",\n",
    "    \"012ec_ouvrage\",\n",
    "    \"013ec_localisation\",\n",
    "    \"014ec_mode_constructif\"\n",
    "]\n",
    "\n",
    "# Mettre les prédictions dans un DataFrame\n",
    "df_pred = pd.DataFrame(y_pred, columns=targets)\n",
    "\n",
    "# Afficher les premières lignes\n",
    "print(df_pred.head(50))"
   ]
  },
  {
   "cell_type": "code",
   "execution_count": 7,
   "id": "1dd555f4",
   "metadata": {},
   "outputs": [],
   "source": [
    "df_pred.to_csv(\"resultats_predictionssols21020.csv\", index=False)"
   ]
  },
  {
   "cell_type": "code",
   "execution_count": null,
   "id": "48841e9a",
   "metadata": {},
   "outputs": [],
   "source": []
  }
 ],
 "metadata": {
  "kernelspec": {
   "display_name": "BIMpredict2",
   "language": "python",
   "name": "python3"
  },
  "language_info": {
   "codemirror_mode": {
    "name": "ipython",
    "version": 3
   },
   "file_extension": ".py",
   "mimetype": "text/x-python",
   "name": "python",
   "nbconvert_exporter": "python",
   "pygments_lexer": "ipython3",
   "version": "3.10.6"
  }
 },
 "nbformat": 4,
 "nbformat_minor": 5
}
