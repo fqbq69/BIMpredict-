{
 "cells": [
  {
   "cell_type": "code",
   "execution_count": 1,
   "id": "2cf5954c",
   "metadata": {},
   "outputs": [],
   "source": [
    "import numpy as np\n",
    "import os\n",
    "import pandas as pd\n",
    "import seaborn as sns\n",
    "import matplotlib as plt\n"
   ]
  },
  {
   "cell_type": "code",
   "execution_count": 2,
   "id": "ca8edf2c",
   "metadata": {},
   "outputs": [],
   "source": [
    "base_dir = \"../../raw_data/\"\n"
   ]
  },
  {
   "cell_type": "markdown",
   "id": "ff912c9d",
   "metadata": {},
   "source": [
    "## Trying the Poteaux csv files"
   ]
  },
  {
   "cell_type": "code",
   "execution_count": 3,
   "id": "f03d0f41",
   "metadata": {},
   "outputs": [],
   "source": [
    "def import_csv(tableau, files):\n",
    "    dfs = []\n",
    "\n",
    "    for i in files:\n",
    "        csv_path = os.path.join(base_dir, f\"maquette{i}\", f\"{tableau}{i}.csv\")\n",
    "        if os.path.exists(csv_path):\n",
    "            # Cherche la ligne d'en-tête réelle\n",
    "            with open(csv_path, encoding=\"utf-8\") as f:\n",
    "                for idx, line in enumerate(f):\n",
    "                    if line.startswith(\"Id;\"):\n",
    "                        header_row = idx\n",
    "                        break\n",
    "            try:\n",
    "                df = pd.read_csv(csv_path, sep=';', decimal=\",\", header=header_row)\n",
    "                dfs.append(df)\n",
    "                print(f\"Chargé : {csv_path} ({df.shape[0]} lignes, {df.shape[1]} colonnes)\")\n",
    "                #print(df.head())\n",
    "            except Exception as e:\n",
    "                print(f\"Erreur de parsing : {csv_path} -> {e}\")\n",
    "        else:\n",
    "            print(f\"Fichier non trouvé : {csv_path}\")\n",
    "\n",
    "    if dfs:\n",
    "        dfs_concat = pd.concat(dfs, ignore_index=True)\n",
    "        print(f\"Total concaténé : {dfs_concat.shape[0]} lignes, {dfs_concat.shape[1]} colonnes\")\n",
    "    else:\n",
    "        dfs_concat = pd.DataFrame()\n",
    "        print(\"Aucun fichier murs.csv trouvé.\")\n",
    "\n",
    "    return dfs_concat\n"
   ]
  },
  {
   "cell_type": "code",
   "execution_count": 4,
   "id": "776d7051",
   "metadata": {},
   "outputs": [
    {
     "name": "stdout",
     "output_type": "stream",
     "text": [
      "Chargé : ../../raw_data/maquette1/murs1.csv (1589 lignes, 146 colonnes)\n",
      "Chargé : ../../raw_data/maquette2/murs2.csv (215 lignes, 149 colonnes)\n",
      "Chargé : ../../raw_data/maquette3/murs3.csv (203 lignes, 143 colonnes)\n",
      "Chargé : ../../raw_data/maquette4/murs4.csv (312 lignes, 96 colonnes)\n",
      "Chargé : ../../raw_data/maquette5/murs5.csv (345 lignes, 94 colonnes)\n",
      "Chargé : ../../raw_data/maquette6/murs6.csv (203 lignes, 91 colonnes)\n",
      "Chargé : ../../raw_data/maquette11/murs11.csv (121 lignes, 115 colonnes)\n",
      "Chargé : ../../raw_data/maquette12/murs12.csv (121 lignes, 118 colonnes)\n",
      "Chargé : ../../raw_data/maquette13/murs13.csv (797 lignes, 104 colonnes)\n",
      "Chargé : ../../raw_data/maquette14/murs14.csv (3518 lignes, 107 colonnes)\n",
      "Chargé : ../../raw_data/maquette15/murs15.csv (1228 lignes, 113 colonnes)\n",
      "Chargé : ../../raw_data/maquette16/murs16.csv (1088 lignes, 87 colonnes)\n",
      "Chargé : ../../raw_data/maquette17/murs17.csv (84 lignes, 86 colonnes)\n",
      "Chargé : ../../raw_data/maquette18/murs18.csv (1743 lignes, 91 colonnes)\n",
      "Chargé : ../../raw_data/maquette19/murs19.csv (2018 lignes, 91 colonnes)\n",
      "Chargé : ../../raw_data/maquette20/murs20.csv (48 lignes, 86 colonnes)\n",
      "Total concaténé : 13633 lignes, 258 colonnes\n"
     ]
    }
   ],
   "source": [
    "files = [1,2,3,4,5,6,11,12,13,14,15,16,17,18,19,20]\n",
    "dfs_concat = import_csv('murs', files)"
   ]
  },
  {
   "cell_type": "markdown",
   "id": "479be204",
   "metadata": {},
   "source": [
    "### FEATURES SELECTION:"
   ]
  },
  {
   "cell_type": "code",
   "execution_count": 5,
   "id": "0daeade7",
   "metadata": {},
   "outputs": [],
   "source": [
    "all_features = dfs_concat.columns.to_list()"
   ]
  },
  {
   "cell_type": "code",
   "execution_count": 6,
   "id": "02ea4696",
   "metadata": {},
   "outputs": [],
   "source": [
    "percent_missing = dfs_concat.isnull().sum() * 100 / len(dfs_concat)\n",
    "\n",
    "missing_value_df = pd.DataFrame({'column_name': dfs_concat.columns,\n",
    "                                 'percent_missing': percent_missing})"
   ]
  },
  {
   "cell_type": "code",
   "execution_count": 7,
   "id": "59130d05",
   "metadata": {},
   "outputs": [],
   "source": [
    "feature_list = missing_value_df.sort_values('percent_missing',\n",
    "                                            ascending=False)['column_name'].to_list()\n"
   ]
  },
  {
   "cell_type": "code",
   "execution_count": 8,
   "id": "d34acc76",
   "metadata": {},
   "outputs": [
    {
     "data": {
      "text/plain": [
       "(13508, 21)"
      ]
     },
     "execution_count": 8,
     "metadata": {},
     "output_type": "execute_result"
    }
   ],
   "source": [
    "selected_features_list = [\n",
    "    \"011EC_Lot\",\n",
    "    \"012EC_Ouvrage\",\n",
    "    \"013EC_Localisation\",\n",
    "    \"014EC_Mode Constructif\",\n",
    "    \"Epaisseur\",\n",
    "    \"Sols en intersection\",\n",
    "    \"Sols coupés (u)\",\n",
    "    \"Sols coupants (u)\",\n",
    "    \"Sol au-dessus\",\n",
    "    \"Sol en-dessous\",\n",
    "    \"Fenêtres\",\n",
    "    \"Portes\",\n",
    "    \"Ouvertures\",\n",
    "    #\"Murs imbriqués\",\n",
    "    \"Mur multicouche\",\n",
    "    \"Profil modifié\",\n",
    "    #\"Extension inférieure\",\n",
    "    #\"Extension supérieure\",\n",
    "    \"Partie inférieure attachée\",\n",
    "    \"Partie supérieure attachée\",\n",
    "    \"Décalage supérieur\",\n",
    "    \"Décalage inférieur\",\n",
    "    \"Matériau structurel\",\n",
    "    \"Famille et type\"\n",
    "]\n",
    "\n",
    "targets = [\n",
    "    \"011ec_lot\",\n",
    "    \"012ec_ouvrage\",\n",
    "    \"013ec_localisation\",\n",
    "    \"014ec_mode_constructif\"\n",
    "]\n",
    "\n",
    "df_clean = dfs_concat[selected_features_list].dropna(axis=0, how='any')\n",
    "df_clean.shape"
   ]
  },
  {
   "cell_type": "code",
   "execution_count": 224,
   "id": "3a6e2acd",
   "metadata": {},
   "outputs": [
    {
     "data": {
      "text/plain": [
       "((13508, 1), (13508, 17))"
      ]
     },
     "execution_count": 224,
     "metadata": {},
     "output_type": "execute_result"
    }
   ],
   "source": [
    "#ignoring '011EC_Lot' for now / all GO\n",
    "X = df_clean.drop(columns = ['012EC_Ouvrage','013EC_Localisation','014EC_Mode Constructif','011EC_Lot'])\n",
    "y = df_clean[['012EC_Ouvrage']]#,'013EC_Localisation','014EC_Mode Constructif','011EC_Lot']]\n",
    "y.shape, X.shape"
   ]
  },
  {
   "cell_type": "code",
   "execution_count": 225,
   "id": "be116daa",
   "metadata": {},
   "outputs": [
    {
     "data": {
      "text/html": [
       "<div>\n",
       "<style scoped>\n",
       "    .dataframe tbody tr th:only-of-type {\n",
       "        vertical-align: middle;\n",
       "    }\n",
       "\n",
       "    .dataframe tbody tr th {\n",
       "        vertical-align: top;\n",
       "    }\n",
       "\n",
       "    .dataframe thead th {\n",
       "        text-align: right;\n",
       "    }\n",
       "</style>\n",
       "<table border=\"1\" class=\"dataframe\">\n",
       "  <thead>\n",
       "    <tr style=\"text-align: right;\">\n",
       "      <th></th>\n",
       "      <th>Epaisseur</th>\n",
       "      <th>Sols en intersection</th>\n",
       "      <th>Sols coupés (u)</th>\n",
       "      <th>Sols coupants (u)</th>\n",
       "      <th>Sol au-dessus</th>\n",
       "      <th>Sol en-dessous</th>\n",
       "      <th>Fenêtres</th>\n",
       "      <th>Portes</th>\n",
       "      <th>Ouvertures</th>\n",
       "      <th>Mur multicouche</th>\n",
       "      <th>Profil modifié</th>\n",
       "      <th>Partie inférieure attachée</th>\n",
       "      <th>Partie supérieure attachée</th>\n",
       "      <th>Décalage supérieur</th>\n",
       "      <th>Décalage inférieur</th>\n",
       "      <th>Matériau structurel</th>\n",
       "      <th>Famille et type</th>\n",
       "    </tr>\n",
       "  </thead>\n",
       "  <tbody>\n",
       "    <tr>\n",
       "      <th>0</th>\n",
       "      <td>0.2</td>\n",
       "      <td>0</td>\n",
       "      <td>0</td>\n",
       "      <td>3</td>\n",
       "      <td>True</td>\n",
       "      <td>True</td>\n",
       "      <td>0</td>\n",
       "      <td>0</td>\n",
       "      <td>0</td>\n",
       "      <td>False</td>\n",
       "      <td>True</td>\n",
       "      <td>0</td>\n",
       "      <td>0</td>\n",
       "      <td>0.0</td>\n",
       "      <td>0.0</td>\n",
       "      <td>ECSA - Béton Voiles</td>\n",
       "      <td>Mur de base: Voile BA 20</td>\n",
       "    </tr>\n",
       "    <tr>\n",
       "      <th>1</th>\n",
       "      <td>0.2</td>\n",
       "      <td>0</td>\n",
       "      <td>0</td>\n",
       "      <td>1</td>\n",
       "      <td>False</td>\n",
       "      <td>True</td>\n",
       "      <td>0</td>\n",
       "      <td>0</td>\n",
       "      <td>0</td>\n",
       "      <td>False</td>\n",
       "      <td>True</td>\n",
       "      <td>0</td>\n",
       "      <td>0</td>\n",
       "      <td>0.0</td>\n",
       "      <td>0.0</td>\n",
       "      <td>ECSA - Béton Voiles</td>\n",
       "      <td>Mur de base: Voile BA 20</td>\n",
       "    </tr>\n",
       "    <tr>\n",
       "      <th>2</th>\n",
       "      <td>0.2</td>\n",
       "      <td>0</td>\n",
       "      <td>0</td>\n",
       "      <td>3</td>\n",
       "      <td>True</td>\n",
       "      <td>True</td>\n",
       "      <td>0</td>\n",
       "      <td>1</td>\n",
       "      <td>0</td>\n",
       "      <td>False</td>\n",
       "      <td>True</td>\n",
       "      <td>0</td>\n",
       "      <td>0</td>\n",
       "      <td>0.0</td>\n",
       "      <td>0.0</td>\n",
       "      <td>ECSA - Béton Voiles</td>\n",
       "      <td>Mur de base: Voile BA 20</td>\n",
       "    </tr>\n",
       "    <tr>\n",
       "      <th>3</th>\n",
       "      <td>0.2</td>\n",
       "      <td>0</td>\n",
       "      <td>0</td>\n",
       "      <td>3</td>\n",
       "      <td>True</td>\n",
       "      <td>True</td>\n",
       "      <td>0</td>\n",
       "      <td>1</td>\n",
       "      <td>0</td>\n",
       "      <td>False</td>\n",
       "      <td>True</td>\n",
       "      <td>0</td>\n",
       "      <td>0</td>\n",
       "      <td>0.0</td>\n",
       "      <td>0.0</td>\n",
       "      <td>ECSA - Béton Voiles</td>\n",
       "      <td>Mur de base: Voile BA 20</td>\n",
       "    </tr>\n",
       "    <tr>\n",
       "      <th>4</th>\n",
       "      <td>0.2</td>\n",
       "      <td>0</td>\n",
       "      <td>0</td>\n",
       "      <td>3</td>\n",
       "      <td>False</td>\n",
       "      <td>True</td>\n",
       "      <td>0</td>\n",
       "      <td>0</td>\n",
       "      <td>0</td>\n",
       "      <td>False</td>\n",
       "      <td>True</td>\n",
       "      <td>0</td>\n",
       "      <td>0</td>\n",
       "      <td>0.0</td>\n",
       "      <td>0.0</td>\n",
       "      <td>ECSA - Béton Voiles</td>\n",
       "      <td>Mur de base: Voile BA 20</td>\n",
       "    </tr>\n",
       "  </tbody>\n",
       "</table>\n",
       "</div>"
      ],
      "text/plain": [
       "   Epaisseur  Sols en intersection  Sols coupés (u)  Sols coupants (u)  \\\n",
       "0        0.2                     0                0                  3   \n",
       "1        0.2                     0                0                  1   \n",
       "2        0.2                     0                0                  3   \n",
       "3        0.2                     0                0                  3   \n",
       "4        0.2                     0                0                  3   \n",
       "\n",
       "   Sol au-dessus  Sol en-dessous  Fenêtres  Portes  Ouvertures  \\\n",
       "0           True            True         0       0           0   \n",
       "1          False            True         0       0           0   \n",
       "2           True            True         0       1           0   \n",
       "3           True            True         0       1           0   \n",
       "4          False            True         0       0           0   \n",
       "\n",
       "   Mur multicouche  Profil modifié  Partie inférieure attachée  \\\n",
       "0            False            True                           0   \n",
       "1            False            True                           0   \n",
       "2            False            True                           0   \n",
       "3            False            True                           0   \n",
       "4            False            True                           0   \n",
       "\n",
       "   Partie supérieure attachée  Décalage supérieur  Décalage inférieur  \\\n",
       "0                           0                 0.0                 0.0   \n",
       "1                           0                 0.0                 0.0   \n",
       "2                           0                 0.0                 0.0   \n",
       "3                           0                 0.0                 0.0   \n",
       "4                           0                 0.0                 0.0   \n",
       "\n",
       "   Matériau structurel           Famille et type  \n",
       "0  ECSA - Béton Voiles  Mur de base: Voile BA 20  \n",
       "1  ECSA - Béton Voiles  Mur de base: Voile BA 20  \n",
       "2  ECSA - Béton Voiles  Mur de base: Voile BA 20  \n",
       "3  ECSA - Béton Voiles  Mur de base: Voile BA 20  \n",
       "4  ECSA - Béton Voiles  Mur de base: Voile BA 20  "
      ]
     },
     "execution_count": 225,
     "metadata": {},
     "output_type": "execute_result"
    }
   ],
   "source": [
    "X.head(5)"
   ]
  },
  {
   "cell_type": "code",
   "execution_count": 226,
   "id": "07ccddb8",
   "metadata": {},
   "outputs": [
    {
     "name": "stdout",
     "output_type": "stream",
     "text": [
      "the uniques for Epaisseur: 29\n",
      "the uniques for Sols en intersection: 7\n",
      "the uniques for Sols coupés (u): 2\n",
      "the uniques for Sols coupants (u): 11\n",
      "the uniques for Sol au-dessus: 2\n",
      "the uniques for Sol en-dessous: 2\n",
      "the uniques for Fenêtres: 13\n",
      "the uniques for Portes: 11\n",
      "the uniques for Ouvertures: 3\n",
      "the uniques for Mur multicouche: 2\n",
      "the uniques for Profil modifié: 2\n",
      "the uniques for Partie inférieure attachée: 2\n",
      "the uniques for Partie supérieure attachée: 2\n",
      "the uniques for Décalage supérieur: 532\n",
      "the uniques for Décalage inférieur: 343\n",
      "the uniques for Matériau structurel: 25\n",
      "the uniques for Famille et type: 143\n"
     ]
    }
   ],
   "source": [
    "for feat in X.columns:\n",
    "    print(f'the uniques for {feat}: {len(X[feat].unique())}')\n"
   ]
  },
  {
   "cell_type": "code",
   "execution_count": 227,
   "id": "547e2fa6",
   "metadata": {},
   "outputs": [
    {
     "name": "stdout",
     "output_type": "stream",
     "text": [
      "the uniques for Epaisseur: 29 || They are: \n",
      " [0.2  0.3  0.16 0.18 0.25 0.15 0.4  0.35 0.47 0.67 0.17 1.01 0.61 1.28\n",
      " 0.88 1.51 0.21 0.33 0.1  0.06 0.01 0.22 0.12 0.53 0.34 0.28 0.24 0.26\n",
      " 0.5 ]\n",
      "the uniques for Sols en intersection: 7 || They are: \n",
      " [0 1 2 3 4 9 8]\n",
      "the uniques for Sols coupés (u): 2 || They are: \n",
      " [0 1]\n",
      "the uniques for Sols coupants (u): 11 || They are: \n",
      " [ 3  1  2  4  5  6  7  0  8 10  9]\n",
      "the uniques for Sol au-dessus: 2 || They are: \n",
      " [ True False]\n",
      "the uniques for Sol en-dessous: 2 || They are: \n",
      " [ True False]\n",
      "the uniques for Fenêtres: 13 || They are: \n",
      " [ 0  1 15 13  2  3  4  8  5 18  6 10  7]\n",
      "the uniques for Portes: 11 || They are: \n",
      " [ 0  1  2  9  8  3  4  7  6  5 24]\n",
      "the uniques for Ouvertures: 3 || They are: \n",
      " [0 1 2]\n",
      "the uniques for Mur multicouche: 2 || They are: \n",
      " [False  True]\n",
      "the uniques for Profil modifié: 2 || They are: \n",
      " [ True False]\n",
      "the uniques for Partie inférieure attachée: 2 || They are: \n",
      " [0 1]\n",
      "the uniques for Partie supérieure attachée: 2 || They are: \n",
      " [0 1]\n",
      "the uniques for Décalage supérieur: 532 || They are: \n",
      " [ 0.00000000e+00  4.36973665e-01 -1.50000000e-01 -2.70000000e-01\n",
      " -3.00000000e-01 -7.00000000e-02 -7.00000000e-02 -7.00000000e-02\n",
      " -4.00000000e-01  2.57000000e+00  1.14400000e+00  3.06800000e+00\n",
      "  2.35200000e+00  1.80859655e+00  7.58800000e-01  7.58546798e-01\n",
      "  1.03400000e-01  2.63000000e-01  3.20024352e+00  7.56000000e-01\n",
      "  1.69165831e-01  1.55199997e+00  2.05800000e+00 -6.00000000e-03\n",
      "  1.00000000e+00  3.70000000e-01  3.70000000e-01  4.50000000e-01\n",
      " -5.90000000e+00 -8.70000000e-01 -2.30000000e-01  3.00000000e-16\n",
      "  2.12841458e-01 -2.50000000e-01 -2.00000000e-02 -2.00000000e-01\n",
      " -7.00000000e-01 -5.00000000e-01 -1.26000000e+00 -2.00000000e-01\n",
      " -3.07000000e+00 -3.27000000e+00 -3.27000000e+00 -2.67000000e+00\n",
      " -2.09000000e+00 -1.69000000e+00 -1.88000000e+00 -2.55000000e+00\n",
      " -1.25000000e+00 -4.04000000e+00 -2.80000000e+00 -3.69000000e+00\n",
      " -3.49000000e+00 -8.30000000e-01  1.00000000e-02  3.00000000e-01\n",
      " -4.70000000e-01 -4.70000000e-01 -1.30000000e-01 -5.70000000e-01\n",
      " -5.70000000e-01  1.50000000e-01 -6.20000000e-01  2.85000000e-01\n",
      "  4.35000000e-01 -1.50000000e-02  6.00000000e-01 -2.40033955e-01\n",
      " -2.70000000e-01 -2.10000000e-01 -1.53000000e+00 -1.50669922e+00\n",
      " -1.50670000e+00 -1.49640531e+00 -5.00000000e-01 -6.20000000e-01\n",
      " -1.03000000e+00  2.00000000e-01  7.00000000e-02 -2.00000000e-02\n",
      " -3.20000000e-01 -3.20000000e-01 -4.35000000e-01 -1.85000000e-01\n",
      "  1.35000000e-01 -4.70000000e-01  2.50000000e+00  3.16098611e+00\n",
      "  3.16100000e+00  2.03000044e-01  6.20000000e-01  5.00000000e-01\n",
      "  3.80000000e-01  6.40000000e-15 -1.38126339e-01 -7.00000000e-02\n",
      " -2.10000000e-01 -2.70000000e-01 -7.00000000e-02 -7.00000000e-02\n",
      " -7.00000000e-02 -7.00000000e-02 -3.00000000e-01 -7.00000000e-02\n",
      " -7.00000000e-02 -7.00000000e-02  1.23000000e+00 -7.00000000e-02\n",
      " -1.40000000e-01 -1.00000000e-15 -1.44740632e-01 -3.75963394e-01\n",
      " -2.70000000e-01 -7.00000000e-02 -2.70000000e-01 -3.69711370e-01\n",
      " -1.44740632e-01 -1.44740632e-01 -9.21613286e-01 -2.70000000e-01\n",
      " -9.00000000e-01 -3.75456900e-01 -1.44740632e-01  6.60458936e-01\n",
      " -9.24768143e-01 -2.70000000e-01 -7.00000000e-02 -7.00000000e-02\n",
      " -7.00000000e-02 -7.00000000e-02 -3.00000000e-01 -7.00000000e-02\n",
      " -7.00000000e-02 -7.00000000e-02 -2.70000000e-01 -7.50000000e-01\n",
      " -3.80000000e-01 -4.50000000e-01 -6.80000000e-01  1.10000000e-01\n",
      " -7.50000000e-01 -2.20000000e-01  1.00000000e+00 -2.70000000e-01\n",
      " -2.73105787e-01 -8.00000000e-02  2.80000000e+00  5.00000000e-01\n",
      "  5.80000000e-01  3.60000000e-14 -7.00000000e-01 -2.70000000e-01\n",
      " -3.70000000e-01  5.00000000e-01  5.00000000e-01  4.76000000e-01\n",
      " -2.00000000e-01 -4.80000000e-01 -2.70000000e-01  3.00000000e-01\n",
      " -4.20000000e-01  1.40000000e-15 -2.90000000e-01  1.30000000e-01\n",
      "  1.18570855e-01  8.00000000e-02  4.80001391e-01  4.80000000e-01\n",
      "  4.80000000e-01 -5.25813908e-01  1.47428685e+00  1.37378045e+00\n",
      "  4.03759361e-01  4.37162675e-01  1.08255150e+00 -1.35120000e+00\n",
      "  2.08000000e+00 -1.08000000e-14 -2.00000000e-01 -1.05000000e+00\n",
      " -8.30000000e-01 -1.07000000e+00 -8.70000000e-01 -1.09000000e+00\n",
      " -7.00000000e-02  1.89000000e+00 -3.81000000e+00 -3.78000000e+00\n",
      " -1.40000000e-01  1.60000000e-01  7.00000000e-02  1.89000000e+00\n",
      " -3.77542534e+00 -4.01000000e+00 -3.98000000e+00  1.86000000e+00\n",
      "  1.89457466e+00  1.86000000e+00  3.96297233e-02 -2.20000000e-01\n",
      "  4.00000000e-02 -9.90000000e-01  6.00000000e-02 -1.90000000e-01\n",
      "  2.30243691e-01 -3.00000000e-02 -6.00000000e-02  1.60000000e-01\n",
      " -1.40000000e-01 -8.30000000e-01 -4.00000000e-02 -1.60000000e-01\n",
      " -3.00000000e-01 -3.46000000e-14 -9.90000000e-01 -6.10000000e-01\n",
      "  6.17579276e-02  1.00000000e-02 -3.60000000e-01 -9.20000000e-01\n",
      " -2.20000000e-01 -1.22000000e+00 -5.90000000e-01 -1.12000000e+00\n",
      " -8.10000000e-01 -3.90000000e-01 -1.62000000e+00 -9.90000000e-01\n",
      " -2.00000000e-01 -1.19000000e+00 -2.50000000e-01  1.60000000e+00\n",
      " -9.97440926e-02 -5.00001692e-02 -5.00000000e-02 -6.00000000e-01\n",
      " -2.50000000e-01  8.80000000e-01  2.60000000e-01 -6.50000000e-01\n",
      " -1.03430000e+00 -2.20000000e-01 -9.87424754e-01 -7.20000000e-01\n",
      " -1.12000000e+00 -1.00000000e+00 -1.03000000e+00 -2.40000000e-01\n",
      " -6.90000000e-01  2.20000000e-01 -1.05000000e+00 -7.50000000e-01\n",
      "  1.70000000e-14 -9.00000000e-01  1.05000000e+00 -1.52000000e-14\n",
      "  8.50000000e-01  7.50000000e-01  4.00000000e-02 -9.60000000e-01\n",
      "  1.59000000e+00 -9.40000000e-01 -9.40000000e-01 -1.20000000e-01\n",
      " -1.07000000e+00 -4.30000000e-01 -3.20000000e-01  6.80000000e-01\n",
      " -4.90000000e-01 -1.30000000e+00 -1.50000000e+00 -1.02000000e+00\n",
      " -3.20000000e-01 -3.70000000e-01 -1.60000000e-01 -2.00000000e+00\n",
      " -9.00000000e-02  1.02000000e+00 -4.80000000e-01 -1.15000000e+00\n",
      " -3.50000000e-01 -8.50000000e-01  1.12000000e+00 -3.40000000e-01\n",
      " -6.50000000e-01 -2.80000000e-01 -8.30000000e-01 -5.00000000e-02\n",
      " -1.70000000e-01 -2.60000000e-01 -8.10000000e-01 -8.20000000e-01\n",
      " -7.90000000e-01 -3.90000000e-01 -5.00000000e-02 -3.50000000e+00\n",
      " -3.02200000e+00 -1.09000000e+00 -2.05000000e+00 -8.00000000e-01\n",
      " -8.80000000e-01 -2.30000000e-01 -2.85237320e-01 -1.84697149e-01\n",
      "  3.50000000e-01  2.00000000e-02 -1.19800000e-13  4.50000000e-15\n",
      " -2.20000000e-01 -8.52000000e-14 -2.20000000e-01  9.05700000e-01\n",
      "  9.05700000e-01  1.00000000e-02 -2.00000000e-02  2.57000000e+00\n",
      " -2.00000000e-02  2.00000000e-02 -6.60000000e-01 -3.90000000e-01\n",
      " -2.10000000e-01 -1.02700000e-13 -2.10000000e-01 -1.22000000e-13\n",
      " -2.20000000e-01  2.00000000e-02 -2.20000000e-01 -4.14300000e-01\n",
      " -4.40000000e-01 -4.40000000e-01 -4.40000000e-01 -1.20000000e-01\n",
      " -3.30000000e-01 -3.00000000e-01 -2.10000000e-01  9.20000000e-01\n",
      "  9.00000000e-01  9.00000000e-01  9.20000000e-01  5.54400000e-13\n",
      " -1.20000000e+00  1.00000000e-02  8.31600000e-13  7.62300000e-13\n",
      " -1.40000000e-01 -6.40000000e-01 -3.90000000e-01 -6.00000000e-02\n",
      " -2.20000000e-01 -2.20000000e-01 -2.20000000e-01 -2.80000000e-01\n",
      " -2.30000000e-01 -1.22000000e+00  1.00000000e-01  1.00000000e-01\n",
      " -8.00000000e-01  1.00000000e-01  1.00000000e-01  5.00000000e-02\n",
      "  1.80000000e+00  1.60000000e+00  8.00000000e-01  3.69809454e+00\n",
      " -3.03000000e+00 -2.10000000e+00 -1.80000000e+00 -3.02775462e+00\n",
      " -1.70000000e+00  2.00000000e-16 -1.00000000e+00 -7.04772923e-01\n",
      " -8.00000000e-01 -3.84764276e-01 -8.04317542e-01 -2.50000000e+00\n",
      "  9.00000000e-16  8.00000000e-02 -2.00000000e-16 -1.20000000e-01\n",
      "  8.00000000e-02  8.00000000e-02 -4.00000000e-01 -2.50000000e-01\n",
      " -2.52893549e-01 -2.64767220e-01 -8.50000000e-01 -8.50000000e-01\n",
      " -1.10000000e-01 -7.00000000e-01  1.34962523e+00 -1.88160179e-01\n",
      " -5.00000000e-02 -5.00000000e-02 -5.00000000e-02  1.75000000e+00\n",
      "  1.15000000e+00  3.25000000e+00  3.20000000e-01 -1.20000000e-15\n",
      "  7.00000000e-01  3.86470000e+00  1.33000000e+00 -8.50000000e-01\n",
      "  3.50000000e-15  8.00000000e-02  8.00000000e-02  8.00000000e-02\n",
      "  8.00000000e-02  8.00000000e-02  8.00000000e-02  8.00000000e-02\n",
      "  8.00000000e-02 -1.20000000e-01 -1.20000000e-01 -1.50000000e-01\n",
      "  6.10000000e-01  2.02629659e-01  3.70322514e-01 -2.80000000e-01\n",
      "  2.10000000e-01 -3.99716181e-01 -2.00000000e-01 -7.50000000e-15\n",
      " -1.10000000e+00 -7.00000000e-01 -7.00000000e-02 -2.70000000e-01\n",
      " -8.00000000e-01 -7.88428109e-01 -5.00000000e-02 -7.00000000e-01\n",
      "  2.50000000e-01  1.30000000e-01  3.30000000e-01  2.41961893e-01\n",
      " -7.00000000e-02  2.39454612e-01 -2.61000000e+00 -2.90000000e-01\n",
      " -2.90325242e-01  3.20748189e-01 -7.00000000e-01 -4.00000000e-01\n",
      " -6.20000000e-01 -5.00000000e-01  2.65000000e+00 -2.95410558e-01\n",
      "  2.41429740e-01  2.41428571e-01 -2.60000000e-01 -1.20000000e-01\n",
      " -7.88535796e-03 -1.05453880e-02  8.00000000e-02  3.19000000e-01\n",
      " -2.00000000e-01  3.30000000e-01 -3.70000000e-01 -2.70000000e-01\n",
      " -4.50456045e-01 -3.25792179e-01 -1.90566248e+00 -2.50085434e-01\n",
      " -3.20000000e+00 -2.50000000e-01 -1.24566327e+00 -6.00000000e-01\n",
      " -1.91405422e+00 -1.50000000e-01 -1.50000000e-01 -1.50000000e-01\n",
      " -1.50000000e-01 -3.20000000e-01 -1.37000000e+00 -7.20000000e-01\n",
      "  3.07000000e+00 -4.20000000e-01 -1.50000000e-01 -8.32545346e-01\n",
      " -2.60000000e-01 -1.10000000e-01 -1.20000000e-01 -3.70000000e-01\n",
      " -2.50000000e-01 -2.40000000e+00 -4.20000000e-01  1.75000000e+00\n",
      "  4.60000000e-01  4.60000000e-01 -1.19000000e-01  6.10000000e-01\n",
      " -6.30000000e-01 -6.30000000e-01 -1.80000000e-01 -1.80000000e-01\n",
      " -4.10000000e-01 -8.00000000e-02 -3.90000000e-01 -3.50000000e-01\n",
      "  1.80425602e-01  1.80000000e-01  1.80000000e-01 -1.50000000e-01\n",
      " -1.50000000e-01 -1.50000000e-01 -8.00000000e-02  4.61000000e-01\n",
      "  5.60000000e-01 -2.00000000e-02 -6.50000000e-02 -6.50000000e-02\n",
      " -8.00000000e-02  1.29500000e+00 -4.00000000e-01  1.50000000e+00\n",
      " -1.52352185e-01  1.32000000e+00  2.02000000e+00 -3.50000000e-01\n",
      " -3.20000000e-01 -4.00000000e-01 -9.83079956e-01  1.25400000e+00\n",
      " -4.10000000e-01  6.10000000e-01 -4.10000000e-01 -6.50000000e-02\n",
      "  2.60000000e+00  6.70000000e-01 -1.12000000e+00 -9.00000000e-01]\n",
      "the uniques for Décalage inférieur: 343 || They are: \n",
      " [ 0.00000000e+00 -4.50000000e-01 -5.00000000e-01 -7.50000000e-01\n",
      " -7.00000000e-01 -4.00000000e-01 -9.50000000e-01 -7.00000000e-02\n",
      " -1.50000000e+00 -7.00000000e-02 -3.00000000e-01  1.77000000e+00\n",
      " -1.99338674e+00  2.75000000e+00 -2.00000000e-02 -2.00000000e-02\n",
      " -1.30000000e-01  9.70000000e-01 -2.00000000e-01 -1.40000000e+00\n",
      " -2.00000000e-02 -6.00000000e-01 -6.00000000e-01  1.30000000e-01\n",
      " -8.00000000e-02 -1.20000000e-01  1.00000000e-02 -2.70000000e-01\n",
      " -2.70000000e-15  9.70000000e-01  9.72031202e-01 -5.70000000e-01\n",
      " -4.70000000e-01  2.65000000e+00  2.41500000e+00 -5.90000000e-01\n",
      " -3.20000000e-15 -4.05000000e-01 -8.30000000e-01 -8.00000000e-01\n",
      "  3.01500000e+00  2.80027078e+00  2.22500000e+00  2.25000000e+00\n",
      " -1.24141125e+00  2.64747465e+00 -3.50000000e-01 -2.20000000e-01\n",
      "  3.80000000e-01 -1.10000000e+00 -1.15000000e+00  5.50000000e-01\n",
      "  1.35000000e+00  2.05000000e+00  5.50000000e-01 -1.50000000e-01\n",
      " -3.50000000e-01 -1.50000000e-01 -1.50000000e-01 -1.37265822e+00\n",
      " -7.00000000e-02 -7.00000000e-02 -7.00000000e-02 -7.00000000e-02\n",
      " -7.00000000e-02 -7.00000000e-02 -7.00000000e-02 -1.50000000e-01\n",
      " -7.00000000e-02 -7.00000000e-02 -2.90000000e-01  1.10000000e-01\n",
      " -7.00000000e-02 -4.70535866e-01 -7.00000000e-02 -6.75689181e-02\n",
      " -1.00000000e-01 -7.00000000e-02 -7.00000000e-02  2.40000000e+00\n",
      " -7.01598207e-02 -1.15368529e-01 -7.00000000e-02 -7.00000000e-02\n",
      "  2.20000000e+00 -7.40196170e-02 -7.00000000e-02 -7.00000000e-02\n",
      " -7.59791682e-02 -7.00000000e-02 -1.06283474e-01 -6.90263232e-02\n",
      " -2.90000000e-01 -1.50000000e-01 -6.65166117e-02 -7.00000000e-02\n",
      "  2.50000000e+00 -1.57000000e+00 -4.90000000e-01 -1.20000000e-01\n",
      "  3.00000000e+00 -4.70191818e-01  2.70000000e+00 -7.00000000e-02\n",
      " -1.54843258e-01  3.00000000e-01  7.72000000e-13 -2.00000000e-01\n",
      "  7.83900000e-13  5.00000000e-01 -2.01738351e-01  4.00000000e-01\n",
      " -2.00379026e-01  1.00000000e-02 -2.00000000e-01 -2.00000000e-01\n",
      " -2.00000000e-01 -2.00000000e-02 -2.00000000e-02 -2.00000000e-02\n",
      " -2.00000000e-02 -2.00000000e-02 -6.90000000e-01 -5.30000000e-01\n",
      " -3.00000000e-02 -9.97440926e-02  2.20000000e-01  1.69347771e-07\n",
      " -1.00000000e-01 -4.20000000e-01  4.80001391e-01  1.14200000e-01\n",
      "  2.76418609e+00 -5.43257988e-01  1.00000000e-02 -2.50500002e-01\n",
      " -5.00000002e-01 -4.79000000e-01 -4.49043821e-01  1.00000000e-01\n",
      "  3.50956179e-01  7.00000000e-02  1.05000000e+00 -4.00000000e-02\n",
      "  1.05000000e+00  2.00000000e-02  1.05542534e+00 -1.09542534e+00\n",
      " -1.97871565e-02  1.89000000e+00  1.89457466e+00  1.89000000e+00\n",
      "  1.86000000e+00  4.94392672e-03 -1.08542534e+00 -9.39680429e-01\n",
      " -9.20000000e-01 -8.30000000e-01 -8.30000000e-01 -8.70000000e-01\n",
      " -9.30000000e-01  1.86000000e+00  1.60000000e-01  9.00000000e-02\n",
      "  1.60000000e-01  2.20000000e-01  2.00000000e-01 -3.00000000e-02\n",
      "  2.30000000e-01  2.30243691e-01  9.00000000e-02  1.59000000e-14\n",
      " -5.30000000e-01  3.96297233e-02  4.00000000e-02  6.17579276e-02\n",
      "  6.00000000e-02  2.20000000e-15 -8.20000000e-01 -1.99977819e-02\n",
      "  1.86000000e+00  1.20000000e-01 -6.90000000e-01  1.89000000e+00\n",
      "  4.80000000e-01  2.00000000e-02 -1.13000000e+00 -1.11000000e+00\n",
      "  6.00000000e-02  6.80000000e-01  6.80000000e-01 -2.80000000e-01\n",
      "  2.00000000e+00 -8.50000000e-01 -9.00000000e-02  1.02000000e+00\n",
      "  1.02000000e+00 -5.00000000e-02 -3.40000000e-01 -3.80000000e-01\n",
      " -4.40000000e-01 -9.00000000e-01 -2.00000000e-02 -1.68700000e-13\n",
      " -2.00000000e-02 -5.00000000e-02 -2.28300000e-13  2.90000000e-01\n",
      "  2.00000000e-02  2.00000000e-02 -1.19800000e-13 -8.52000000e-14\n",
      "  1.42000000e-14 -1.10000000e+00 -2.00000000e-02 -4.05700885e-02\n",
      "  2.30000000e-15 -1.03900000e-13 -1.22000000e-13  2.00000000e-02\n",
      " -2.30000000e-01 -3.00000000e-01 -2.10000000e-01 -2.10000000e-01\n",
      " -1.33000000e+00 -2.30000000e-01 -1.92000000e+00  5.54400000e-13\n",
      " -1.20000000e+00  7.62300000e-13 -2.70000000e-01 -1.40000000e-01\n",
      " -4.30000000e+00 -1.90000000e+00 -1.92000000e+00 -9.30000000e-01\n",
      " -1.22000000e+00 -1.22000000e+00 -1.40000000e-01 -4.80000000e-01\n",
      "  4.50000000e-01 -1.00000000e+00  2.00000000e-01 -7.90000000e-01\n",
      " -7.90000000e-01  7.00000000e-02  5.30000000e+01  5.21200000e+01\n",
      " -5.00000000e-02 -3.20000000e-01 -1.00000000e-16 -1.75000000e+00\n",
      " -3.60000000e-01 -1.16000000e+00  3.30000000e-01  1.30000000e-15\n",
      " -3.20000000e-01  2.41428571e-01  2.41429740e-01 -6.00000000e-02\n",
      " -1.55000000e+00  1.86000000e-14  8.00000000e-02 -4.10000000e-01\n",
      " -5.10000000e-01  4.00000000e-01 -2.00000000e-02  3.20000000e-01\n",
      " -4.00000000e-01 -5.00000000e-02 -8.10000000e-01 -1.50000000e-01\n",
      " -4.50000000e-01 -1.00000000e-15  8.00000000e-02  8.00000000e-02\n",
      " -1.20000000e-01  8.00000000e-02  8.00000000e-02 -1.12000000e+00\n",
      "  7.50000000e-01 -7.50000000e-01 -1.05000000e+00  8.00000000e-02\n",
      " -8.03810701e-03 -1.05453880e-02 -1.20000000e-01 -7.88535796e-03\n",
      "  1.44000000e+00 -8.10000000e-01 -2.50000000e-01 -7.00000000e-02\n",
      " -4.10000000e-01 -4.10000000e-01 -4.10000000e-01 -4.10000000e-01\n",
      "  1.65000000e+00 -4.10000000e-01  1.24000000e+00  4.50997229e+00\n",
      " -6.00000000e-02  8.00000000e-16  1.65000000e+00  1.90000000e-01\n",
      " -8.90000000e-01 -1.99000000e+00 -1.50000000e-01 -4.10000000e-01\n",
      " -3.90000000e-01 -5.80000000e-01 -3.20000000e-01 -1.50000000e-01\n",
      " -4.00000000e-01 -4.80000000e-01 -3.20000000e-01 -1.53000000e+00\n",
      " -3.50000000e-01 -4.00000000e-01 -8.00000000e-02 -6.00000000e-01\n",
      " -6.70000000e-01 -1.34000000e+00 -4.10000000e-01 -1.50000000e-01\n",
      " -4.10000000e-01 -1.19000000e+00 -8.80000000e-01 -8.80000000e-01\n",
      " -5.50000000e-01 -3.50000000e-01 -1.54000000e+00 -4.10000000e-01\n",
      " -1.50000000e-01 -1.49000000e+00 -1.34000000e+00 -3.60000000e-01\n",
      "  1.29500000e+00  3.10266269e+00  4.70000000e-01 -6.30000000e-01\n",
      " -8.80000000e-01  2.60000000e+00  6.84328621e-01]\n",
      "the uniques for Matériau structurel: 25 || They are: \n",
      " ['ECSA - Béton Voiles' 'EC - Béton' '<Par catégorie>'\n",
      " 'Maçonnerie - Voile BA' 'Blocs béton manufacturés' 'C25/30' 'Maçonnerie'\n",
      " 'BRIQUES' 'BÉTON' 'BRIQUES RAL 1013' 'EIF_STR - BETON'\n",
      " '.EC.R Béton TOUS chantier' 'Verre' 'C25/30 - béton standard'\n",
      " 'C25/30 - peaux extérieures prémurs' 'Maçonnerie - Parpaing creux'\n",
      " 'C25/30 - éléments préfa' 'Maçonnerie - Parpaing plein' 'TPFI_BA'\n",
      " 'TPFI_BOIS' 'GOE-Béton Coulé sur place-1ere PHASE'\n",
      " 'GOE-Béton Coulé sur Place' 'GOE-Parpaings Creux'\n",
      " 'GOE-Béton Coulé sur Place-VNP' 'GOE-Parpaings Pleins']\n",
      "the uniques for Famille et type: 143 || They are: \n",
      " ['Mur de base: Voile BA 20' 'Mur de base: Voile BA 30'\n",
      " 'Mur de base: Voile BA 16' 'Mur de base: EIF_VOILE_INT 16'\n",
      " 'Mur de base: EIF_VOILE_INT_20' 'Mur de base: EIF_VOILE_INT 18'\n",
      " 'Mur de base: EIF-VOILE-EXT-PARPAING 20' 'Mur de base: EIF_VOILE_EXT_20'\n",
      " 'Mur de base: ECA-Voile BA 200 mm' 'Mur de base: ECA-Voile BA 180 mm'\n",
      " 'Mur de base: ECA-Voile BA 250 mm' 'Mur de base: ECA-Voile BA 300 mm'\n",
      " 'Mur de base: ECA-Int. Parpaing 150 mm'\n",
      " 'Mur de base: ECA-Int. Parpaing 200 mm'\n",
      " 'Mur de base: ECA-Voile BA 400 mm' 'Mur de base: Mur BA ép.25 C25/30'\n",
      " 'Mur de base: Mur BA ép.20 C25/30' 'Mur de base: Mur agglos ép.15cm'\n",
      " 'Mur de base: Mur BA ép.35 C25/30' 'Mur de base: Relevé BA ep50cm'\n",
      " 'Mur de base: Relevé BA ep67cm' 'Mur de base: Mur BA ép.17 C25/30'\n",
      " 'Mur de base: Relevé BA ep101cm' 'Mur de base: Mur BA ép.15 C25/30'\n",
      " 'Mur de base: Mur BA ép.30 C25/30' 'Mur de base: Mur BA ép.61 C25/30'\n",
      " 'Mur de base: Relevé BA ep128cm' 'Mur de base: Relevé BA ep88cm'\n",
      " 'Mur de base: Mur BA ép.18 C25/30' 'Mur de base: Mur agglos ép.20cm'\n",
      " 'Mur de base: Relevé BA ep151cm' 'Mur de base: ECRL_MUR_EP20cm'\n",
      " 'Mur de base: ECRL_MUR_EP18cm' 'Mur de base: BRIQUE 20'\n",
      " 'Mur de base: Béton 16' 'Mur de base: Béton 20'\n",
      " 'Mur de base: BRIQUE 20 + ENDUIT 1013' 'Mur de base: Béton 18'\n",
      " 'Mur de base: EIF_STR - Mur ep. 16' 'Mur de base: EIF_STR - PVe ep. 16'\n",
      " 'Mur de base: EIF_STR - Mur ep. 20'\n",
      " 'Mur de base: EIF_STR - Maçonnerie NP ep. 16'\n",
      " 'Mur de base: EIF_STR - Mur ep. 18' 'Mur de base: EIF_STR - PV ep. 20'\n",
      " 'Mur de base: EIF_STR - PV ep. 18' 'Mur de base: EIF_STR - PVe ep. 18'\n",
      " 'Mur de base: EIF_STR - PV ep. 16'\n",
      " 'Mur de base: EIF_STR - Maçonnerie NP ep. 18'\n",
      " 'Mur de base: EIF_STR_ Mur 16cm' 'Mur de base: EIF_STR_ Mur 20cm'\n",
      " 'Mur de base: EIF_STR_ Mur 30cm' 'Mur de base: EIF_STR_ Mur 35cm'\n",
      " 'Mur de base: EIF_STR_ Mur 25cm' 'Mur de base: EIF_STR_ Mur 21cm'\n",
      " 'Mur de base: EIF_STR_ Mur 33cm' 'Mur de base: EIF_STR_ Mur 20cm P01'\n",
      " 'Mur de base: EIF_STR_ Mur 18cm' 'Mur de base: EIF_STR_ Mur 10cm'\n",
      " 'Mur de base: EIF_STR_ Mur 6cm' 'Mur de base: EIF_STR_Vitrage balcon'\n",
      " 'Mur de base: EIF_STR_ Mur 22cm'\n",
      " 'Mur de base: EIF_STR_Voile non-porteur 20cm'\n",
      " 'Mur de base: EIF_STR_Voile non-porteur 16cm'\n",
      " 'Mur de base: EIF_STR_Voile non-porteur 18cm'\n",
      " 'Mur de base: EIF_STR_ Mur 12cm'\n",
      " 'Mur de base: EIF_STR_Voile non-porteur 25cm'\n",
      " 'Mur de base: EC_MET_GO_Voile BA 25cm'\n",
      " 'Mur de base: EC_MET_GO_Prémur 20cm'\n",
      " 'Mur de base: EC_MET_GO_Voile BA 20cm'\n",
      " 'Mur de base: EC_MET_GO_Parpaing 20 creux'\n",
      " 'Mur de base: EC_MET_GO_Voile BA 30cm'\n",
      " 'Mur de base: EC_MET_GO_Prémur 30cm' 'Mur de base: EC_MET_GO_Prémur 25cm'\n",
      " 'Mur de base: EC_MET_GO_Préfa BA 20cm'\n",
      " 'Mur de base: EC_MET_GO_Parpaing 20 plein'\n",
      " 'Mur de base: EC_MET_GO_Voile BA 53cm'\n",
      " 'Mur de base: TPFI-BETON ARME-Voile S.sol-25'\n",
      " 'Mur de base: TPFI-BETON ARME-Voile S.sol-20'\n",
      " 'Mur de base: TPFI-BETON ARME-voile s.sol 25'\n",
      " 'Mur de base: TPFI-BETON ARME-voile s.sol 30'\n",
      " 'Mur de base: TPFI-BETON ARME-V.Intérieur porteur-20'\n",
      " 'Mur de base: TPFI-BETON ARME-V.Intérieur Porteur-18'\n",
      " 'Mur de base: TPFI-BETON ARME-V.Extérieur Porteur-16'\n",
      " 'Mur de base: TPFI-BETON ARME-V.Intérieur Porteur-16'\n",
      " 'Mur de base: TPFI-FOB-34'\n",
      " 'Mur de base: TPFI-BETON ARME-Mur extérieur porteur-16'\n",
      " 'Mur de base: TPFI-BETON ARME-V.extérieur porteur-18'\n",
      " 'Mur de base: TPFI-BETON ARME-V.Extérieur porteur-20'\n",
      " 'Mur de base: TPFI-BETON ARME-V.Intérieur non Porteur-15'\n",
      " 'Mur de base: TPFI-BETON ARME-V.Intérieur non Porteur-16'\n",
      " 'Mur de base: TPFI-BETON ARME-Voile intérieur non porteur-20'\n",
      " 'Mur de base: TPFI-BETON ARME-Voile intérieur porteur-18'\n",
      " 'Mur de base: TPFI-BETON ARME-Voile intérieur porteur-20'\n",
      " 'Mur de base: TPFI-BETON ARME-mur intérieur porteur-20'\n",
      " 'Mur de base: TPFI-BETON ARME-mur intérieur porteur-25'\n",
      " 'Mur de base: TPFI-BETON ARME-mur intérieur non porteur-20'\n",
      " 'Mur de base: TPFI-BETON ARME-mur intérieur porteur-18'\n",
      " 'Mur de base: TPFI-BETON ARME-voile s.sol 20'\n",
      " 'Mur de base: TPFI-BETON ARME-Mur intérieur porteur-16'\n",
      " 'Mur de base: ECRL_MUR_EP35cm' 'Mur de base: ECRL_MUR_EP30cm'\n",
      " 'Mur de base: VPP 25cm' 'Mur de base: VPP 20cm'\n",
      " 'Mur de base: Voile Int ep 0.20' 'Mur de base: Voile Int ep 0.30'\n",
      " 'Mur de base: Voile Int ep 0.16' 'Mur de base: Voile Int ep 0.25'\n",
      " 'Mur de base: Voile ext ep 0.16' 'Mur de base: Voile ext ep 0.30'\n",
      " 'Mur de base: Voile ext ep 0.20' 'Mur de base: Voile Int ep 0.18'\n",
      " 'Mur de base: PoutreVoile - ep 0.20' 'Mur de base: Voile Int ep 0.22'\n",
      " 'Mur de base: Voile Int ep 0.15' 'Mur de base: Acrotère Courant (0.28ht)'\n",
      " 'Mur de base: Acrotère TTJardin (0.85ht)'\n",
      " 'Mur de base: Edicule Ascenseur 0.20' 'Mur de base: Relevé .12x.12 JD'\n",
      " 'Mur de base: Générique - 200 mm' 'Mur de base: GOE-VPP 30cm'\n",
      " 'Mur de base: GOE-Voile BA 30cm' 'Mur de base: GOE-Voile BA 20cm'\n",
      " 'Mur de base: GOE-Voile BA 25cm' 'Mur de base: GOE-Parpaing Creux 20cm'\n",
      " 'Mur de base: GOE-Voile BA 15cm' 'Mur de base: GOE-Voile BA 18cm'\n",
      " 'Mur de base: GOE-Voile BA 20cm VNP'\n",
      " 'Mur de base: GOE-Parpaing Plein 10cm'\n",
      " 'Mur de base: GOE-Voile BA 30cm VNP' 'Mur de base: GOE-Voile BA 28cm'\n",
      " 'Mur de base: GOE-Parpaing Creux 15cm'\n",
      " 'Mur de base: GOE-Parpaing Plein 15cm' 'Mur de base: GOE-Voile BA 40cm'\n",
      " 'Mur de base: GOE-Relevé 15cm ép' 'Mur de base: GOE-Facade 15cm ép'\n",
      " 'Mur de base: GOE-Relevé 20cm ép' 'Mur de base: GOE-Relevé 16cm ép'\n",
      " 'Mur de base: GOE-Relevé 25cm ép' 'Mur de base: GOE-Voile BA 16cm'\n",
      " 'Mur de base: GOE-Relevé 24cm ép' 'Mur de base: GOE-Facade 26cm ép'\n",
      " 'Mur de base: GOE-Voile BA 50cm' 'Mur de base: ECRL_MOB_EP15cm']\n"
     ]
    }
   ],
   "source": [
    "for feat in X.columns:\n",
    "    print(f'the uniques for {feat}: {len(X[feat].unique())} || They are: \\n {X[feat].unique()}')\n"
   ]
  },
  {
   "cell_type": "code",
   "execution_count": 228,
   "id": "d93db061",
   "metadata": {},
   "outputs": [],
   "source": [
    "#Boolean to 0/1 for\n",
    "bool_feats = ['Sol au-dessus', 'Sol en-dessous','Mur multicouche','Profil modifié']\n",
    "for feat in bool_feats:\n",
    "    X[feat] = X[feat].apply(lambda x: 1 if x == True else 0)"
   ]
  },
  {
   "cell_type": "markdown",
   "id": "93da0ef6",
   "metadata": {},
   "source": [
    "# Scaling X"
   ]
  },
  {
   "cell_type": "code",
   "execution_count": 229,
   "id": "542aa6fe",
   "metadata": {},
   "outputs": [],
   "source": [
    "#features to scale:\n",
    "feats_to_scale = ['Epaisseur','Décalage supérieur','Décalage inférieur']\n",
    "\n",
    "#minmax scaling X features\n",
    "from sklearn.preprocessing import StandardScaler, MinMaxScaler\n",
    "\n",
    "#std_scaler = StandardScaler()\n",
    "\n",
    "for feat in feats_to_scale:\n",
    "    minmax_scaler = MinMaxScaler()\n",
    "    X[feat] = minmax_scaler.fit_transform(X[[feat]])"
   ]
  },
  {
   "cell_type": "markdown",
   "id": "1e1de322",
   "metadata": {},
   "source": [
    "# Encode"
   ]
  },
  {
   "cell_type": "code",
   "execution_count": 230,
   "id": "894b8722",
   "metadata": {},
   "outputs": [
    {
     "name": "stderr",
     "output_type": "stream",
     "text": [
      "/tmp/ipykernel_134104/496863905.py:8: PerformanceWarning: DataFrame is highly fragmented.  This is usually the result of calling `frame.insert` many times, which has poor performance.  Consider joining all columns at once using pd.concat(axis=1) instead. To get a de-fragmented frame, use `newframe = frame.copy()`\n",
      "  X[ohe.get_feature_names_out()] = ohe.transform(X[[feat]])\n",
      "/tmp/ipykernel_134104/496863905.py:8: PerformanceWarning: DataFrame is highly fragmented.  This is usually the result of calling `frame.insert` many times, which has poor performance.  Consider joining all columns at once using pd.concat(axis=1) instead. To get a de-fragmented frame, use `newframe = frame.copy()`\n",
      "  X[ohe.get_feature_names_out()] = ohe.transform(X[[feat]])\n",
      "/tmp/ipykernel_134104/496863905.py:8: PerformanceWarning: DataFrame is highly fragmented.  This is usually the result of calling `frame.insert` many times, which has poor performance.  Consider joining all columns at once using pd.concat(axis=1) instead. To get a de-fragmented frame, use `newframe = frame.copy()`\n",
      "  X[ohe.get_feature_names_out()] = ohe.transform(X[[feat]])\n",
      "/tmp/ipykernel_134104/496863905.py:8: PerformanceWarning: DataFrame is highly fragmented.  This is usually the result of calling `frame.insert` many times, which has poor performance.  Consider joining all columns at once using pd.concat(axis=1) instead. To get a de-fragmented frame, use `newframe = frame.copy()`\n",
      "  X[ohe.get_feature_names_out()] = ohe.transform(X[[feat]])\n",
      "/tmp/ipykernel_134104/496863905.py:8: PerformanceWarning: DataFrame is highly fragmented.  This is usually the result of calling `frame.insert` many times, which has poor performance.  Consider joining all columns at once using pd.concat(axis=1) instead. To get a de-fragmented frame, use `newframe = frame.copy()`\n",
      "  X[ohe.get_feature_names_out()] = ohe.transform(X[[feat]])\n",
      "/tmp/ipykernel_134104/496863905.py:8: PerformanceWarning: DataFrame is highly fragmented.  This is usually the result of calling `frame.insert` many times, which has poor performance.  Consider joining all columns at once using pd.concat(axis=1) instead. To get a de-fragmented frame, use `newframe = frame.copy()`\n",
      "  X[ohe.get_feature_names_out()] = ohe.transform(X[[feat]])\n",
      "/tmp/ipykernel_134104/496863905.py:8: PerformanceWarning: DataFrame is highly fragmented.  This is usually the result of calling `frame.insert` many times, which has poor performance.  Consider joining all columns at once using pd.concat(axis=1) instead. To get a de-fragmented frame, use `newframe = frame.copy()`\n",
      "  X[ohe.get_feature_names_out()] = ohe.transform(X[[feat]])\n",
      "/tmp/ipykernel_134104/496863905.py:8: PerformanceWarning: DataFrame is highly fragmented.  This is usually the result of calling `frame.insert` many times, which has poor performance.  Consider joining all columns at once using pd.concat(axis=1) instead. To get a de-fragmented frame, use `newframe = frame.copy()`\n",
      "  X[ohe.get_feature_names_out()] = ohe.transform(X[[feat]])\n",
      "/tmp/ipykernel_134104/496863905.py:8: PerformanceWarning: DataFrame is highly fragmented.  This is usually the result of calling `frame.insert` many times, which has poor performance.  Consider joining all columns at once using pd.concat(axis=1) instead. To get a de-fragmented frame, use `newframe = frame.copy()`\n",
      "  X[ohe.get_feature_names_out()] = ohe.transform(X[[feat]])\n",
      "/tmp/ipykernel_134104/496863905.py:8: PerformanceWarning: DataFrame is highly fragmented.  This is usually the result of calling `frame.insert` many times, which has poor performance.  Consider joining all columns at once using pd.concat(axis=1) instead. To get a de-fragmented frame, use `newframe = frame.copy()`\n",
      "  X[ohe.get_feature_names_out()] = ohe.transform(X[[feat]])\n",
      "/tmp/ipykernel_134104/496863905.py:8: PerformanceWarning: DataFrame is highly fragmented.  This is usually the result of calling `frame.insert` many times, which has poor performance.  Consider joining all columns at once using pd.concat(axis=1) instead. To get a de-fragmented frame, use `newframe = frame.copy()`\n",
      "  X[ohe.get_feature_names_out()] = ohe.transform(X[[feat]])\n",
      "/tmp/ipykernel_134104/496863905.py:8: PerformanceWarning: DataFrame is highly fragmented.  This is usually the result of calling `frame.insert` many times, which has poor performance.  Consider joining all columns at once using pd.concat(axis=1) instead. To get a de-fragmented frame, use `newframe = frame.copy()`\n",
      "  X[ohe.get_feature_names_out()] = ohe.transform(X[[feat]])\n",
      "/tmp/ipykernel_134104/496863905.py:8: PerformanceWarning: DataFrame is highly fragmented.  This is usually the result of calling `frame.insert` many times, which has poor performance.  Consider joining all columns at once using pd.concat(axis=1) instead. To get a de-fragmented frame, use `newframe = frame.copy()`\n",
      "  X[ohe.get_feature_names_out()] = ohe.transform(X[[feat]])\n",
      "/tmp/ipykernel_134104/496863905.py:8: PerformanceWarning: DataFrame is highly fragmented.  This is usually the result of calling `frame.insert` many times, which has poor performance.  Consider joining all columns at once using pd.concat(axis=1) instead. To get a de-fragmented frame, use `newframe = frame.copy()`\n",
      "  X[ohe.get_feature_names_out()] = ohe.transform(X[[feat]])\n",
      "/tmp/ipykernel_134104/496863905.py:8: PerformanceWarning: DataFrame is highly fragmented.  This is usually the result of calling `frame.insert` many times, which has poor performance.  Consider joining all columns at once using pd.concat(axis=1) instead. To get a de-fragmented frame, use `newframe = frame.copy()`\n",
      "  X[ohe.get_feature_names_out()] = ohe.transform(X[[feat]])\n",
      "/tmp/ipykernel_134104/496863905.py:8: PerformanceWarning: DataFrame is highly fragmented.  This is usually the result of calling `frame.insert` many times, which has poor performance.  Consider joining all columns at once using pd.concat(axis=1) instead. To get a de-fragmented frame, use `newframe = frame.copy()`\n",
      "  X[ohe.get_feature_names_out()] = ohe.transform(X[[feat]])\n",
      "/tmp/ipykernel_134104/496863905.py:8: PerformanceWarning: DataFrame is highly fragmented.  This is usually the result of calling `frame.insert` many times, which has poor performance.  Consider joining all columns at once using pd.concat(axis=1) instead. To get a de-fragmented frame, use `newframe = frame.copy()`\n",
      "  X[ohe.get_feature_names_out()] = ohe.transform(X[[feat]])\n",
      "/tmp/ipykernel_134104/496863905.py:8: PerformanceWarning: DataFrame is highly fragmented.  This is usually the result of calling `frame.insert` many times, which has poor performance.  Consider joining all columns at once using pd.concat(axis=1) instead. To get a de-fragmented frame, use `newframe = frame.copy()`\n",
      "  X[ohe.get_feature_names_out()] = ohe.transform(X[[feat]])\n",
      "/tmp/ipykernel_134104/496863905.py:8: PerformanceWarning: DataFrame is highly fragmented.  This is usually the result of calling `frame.insert` many times, which has poor performance.  Consider joining all columns at once using pd.concat(axis=1) instead. To get a de-fragmented frame, use `newframe = frame.copy()`\n",
      "  X[ohe.get_feature_names_out()] = ohe.transform(X[[feat]])\n",
      "/tmp/ipykernel_134104/496863905.py:8: PerformanceWarning: DataFrame is highly fragmented.  This is usually the result of calling `frame.insert` many times, which has poor performance.  Consider joining all columns at once using pd.concat(axis=1) instead. To get a de-fragmented frame, use `newframe = frame.copy()`\n",
      "  X[ohe.get_feature_names_out()] = ohe.transform(X[[feat]])\n",
      "/tmp/ipykernel_134104/496863905.py:8: PerformanceWarning: DataFrame is highly fragmented.  This is usually the result of calling `frame.insert` many times, which has poor performance.  Consider joining all columns at once using pd.concat(axis=1) instead. To get a de-fragmented frame, use `newframe = frame.copy()`\n",
      "  X[ohe.get_feature_names_out()] = ohe.transform(X[[feat]])\n",
      "/tmp/ipykernel_134104/496863905.py:8: PerformanceWarning: DataFrame is highly fragmented.  This is usually the result of calling `frame.insert` many times, which has poor performance.  Consider joining all columns at once using pd.concat(axis=1) instead. To get a de-fragmented frame, use `newframe = frame.copy()`\n",
      "  X[ohe.get_feature_names_out()] = ohe.transform(X[[feat]])\n",
      "/tmp/ipykernel_134104/496863905.py:8: PerformanceWarning: DataFrame is highly fragmented.  This is usually the result of calling `frame.insert` many times, which has poor performance.  Consider joining all columns at once using pd.concat(axis=1) instead. To get a de-fragmented frame, use `newframe = frame.copy()`\n",
      "  X[ohe.get_feature_names_out()] = ohe.transform(X[[feat]])\n",
      "/tmp/ipykernel_134104/496863905.py:8: PerformanceWarning: DataFrame is highly fragmented.  This is usually the result of calling `frame.insert` many times, which has poor performance.  Consider joining all columns at once using pd.concat(axis=1) instead. To get a de-fragmented frame, use `newframe = frame.copy()`\n",
      "  X[ohe.get_feature_names_out()] = ohe.transform(X[[feat]])\n",
      "/tmp/ipykernel_134104/496863905.py:8: PerformanceWarning: DataFrame is highly fragmented.  This is usually the result of calling `frame.insert` many times, which has poor performance.  Consider joining all columns at once using pd.concat(axis=1) instead. To get a de-fragmented frame, use `newframe = frame.copy()`\n",
      "  X[ohe.get_feature_names_out()] = ohe.transform(X[[feat]])\n",
      "/tmp/ipykernel_134104/496863905.py:8: PerformanceWarning: DataFrame is highly fragmented.  This is usually the result of calling `frame.insert` many times, which has poor performance.  Consider joining all columns at once using pd.concat(axis=1) instead. To get a de-fragmented frame, use `newframe = frame.copy()`\n",
      "  X[ohe.get_feature_names_out()] = ohe.transform(X[[feat]])\n",
      "/tmp/ipykernel_134104/496863905.py:8: PerformanceWarning: DataFrame is highly fragmented.  This is usually the result of calling `frame.insert` many times, which has poor performance.  Consider joining all columns at once using pd.concat(axis=1) instead. To get a de-fragmented frame, use `newframe = frame.copy()`\n",
      "  X[ohe.get_feature_names_out()] = ohe.transform(X[[feat]])\n",
      "/tmp/ipykernel_134104/496863905.py:8: PerformanceWarning: DataFrame is highly fragmented.  This is usually the result of calling `frame.insert` many times, which has poor performance.  Consider joining all columns at once using pd.concat(axis=1) instead. To get a de-fragmented frame, use `newframe = frame.copy()`\n",
      "  X[ohe.get_feature_names_out()] = ohe.transform(X[[feat]])\n",
      "/tmp/ipykernel_134104/496863905.py:8: PerformanceWarning: DataFrame is highly fragmented.  This is usually the result of calling `frame.insert` many times, which has poor performance.  Consider joining all columns at once using pd.concat(axis=1) instead. To get a de-fragmented frame, use `newframe = frame.copy()`\n",
      "  X[ohe.get_feature_names_out()] = ohe.transform(X[[feat]])\n",
      "/tmp/ipykernel_134104/496863905.py:8: PerformanceWarning: DataFrame is highly fragmented.  This is usually the result of calling `frame.insert` many times, which has poor performance.  Consider joining all columns at once using pd.concat(axis=1) instead. To get a de-fragmented frame, use `newframe = frame.copy()`\n",
      "  X[ohe.get_feature_names_out()] = ohe.transform(X[[feat]])\n",
      "/tmp/ipykernel_134104/496863905.py:8: PerformanceWarning: DataFrame is highly fragmented.  This is usually the result of calling `frame.insert` many times, which has poor performance.  Consider joining all columns at once using pd.concat(axis=1) instead. To get a de-fragmented frame, use `newframe = frame.copy()`\n",
      "  X[ohe.get_feature_names_out()] = ohe.transform(X[[feat]])\n",
      "/tmp/ipykernel_134104/496863905.py:8: PerformanceWarning: DataFrame is highly fragmented.  This is usually the result of calling `frame.insert` many times, which has poor performance.  Consider joining all columns at once using pd.concat(axis=1) instead. To get a de-fragmented frame, use `newframe = frame.copy()`\n",
      "  X[ohe.get_feature_names_out()] = ohe.transform(X[[feat]])\n",
      "/tmp/ipykernel_134104/496863905.py:8: PerformanceWarning: DataFrame is highly fragmented.  This is usually the result of calling `frame.insert` many times, which has poor performance.  Consider joining all columns at once using pd.concat(axis=1) instead. To get a de-fragmented frame, use `newframe = frame.copy()`\n",
      "  X[ohe.get_feature_names_out()] = ohe.transform(X[[feat]])\n",
      "/tmp/ipykernel_134104/496863905.py:8: PerformanceWarning: DataFrame is highly fragmented.  This is usually the result of calling `frame.insert` many times, which has poor performance.  Consider joining all columns at once using pd.concat(axis=1) instead. To get a de-fragmented frame, use `newframe = frame.copy()`\n",
      "  X[ohe.get_feature_names_out()] = ohe.transform(X[[feat]])\n",
      "/tmp/ipykernel_134104/496863905.py:8: PerformanceWarning: DataFrame is highly fragmented.  This is usually the result of calling `frame.insert` many times, which has poor performance.  Consider joining all columns at once using pd.concat(axis=1) instead. To get a de-fragmented frame, use `newframe = frame.copy()`\n",
      "  X[ohe.get_feature_names_out()] = ohe.transform(X[[feat]])\n",
      "/tmp/ipykernel_134104/496863905.py:8: PerformanceWarning: DataFrame is highly fragmented.  This is usually the result of calling `frame.insert` many times, which has poor performance.  Consider joining all columns at once using pd.concat(axis=1) instead. To get a de-fragmented frame, use `newframe = frame.copy()`\n",
      "  X[ohe.get_feature_names_out()] = ohe.transform(X[[feat]])\n",
      "/tmp/ipykernel_134104/496863905.py:8: PerformanceWarning: DataFrame is highly fragmented.  This is usually the result of calling `frame.insert` many times, which has poor performance.  Consider joining all columns at once using pd.concat(axis=1) instead. To get a de-fragmented frame, use `newframe = frame.copy()`\n",
      "  X[ohe.get_feature_names_out()] = ohe.transform(X[[feat]])\n",
      "/tmp/ipykernel_134104/496863905.py:8: PerformanceWarning: DataFrame is highly fragmented.  This is usually the result of calling `frame.insert` many times, which has poor performance.  Consider joining all columns at once using pd.concat(axis=1) instead. To get a de-fragmented frame, use `newframe = frame.copy()`\n",
      "  X[ohe.get_feature_names_out()] = ohe.transform(X[[feat]])\n",
      "/tmp/ipykernel_134104/496863905.py:8: PerformanceWarning: DataFrame is highly fragmented.  This is usually the result of calling `frame.insert` many times, which has poor performance.  Consider joining all columns at once using pd.concat(axis=1) instead. To get a de-fragmented frame, use `newframe = frame.copy()`\n",
      "  X[ohe.get_feature_names_out()] = ohe.transform(X[[feat]])\n",
      "/tmp/ipykernel_134104/496863905.py:8: PerformanceWarning: DataFrame is highly fragmented.  This is usually the result of calling `frame.insert` many times, which has poor performance.  Consider joining all columns at once using pd.concat(axis=1) instead. To get a de-fragmented frame, use `newframe = frame.copy()`\n",
      "  X[ohe.get_feature_names_out()] = ohe.transform(X[[feat]])\n",
      "/tmp/ipykernel_134104/496863905.py:8: PerformanceWarning: DataFrame is highly fragmented.  This is usually the result of calling `frame.insert` many times, which has poor performance.  Consider joining all columns at once using pd.concat(axis=1) instead. To get a de-fragmented frame, use `newframe = frame.copy()`\n",
      "  X[ohe.get_feature_names_out()] = ohe.transform(X[[feat]])\n",
      "/tmp/ipykernel_134104/496863905.py:8: PerformanceWarning: DataFrame is highly fragmented.  This is usually the result of calling `frame.insert` many times, which has poor performance.  Consider joining all columns at once using pd.concat(axis=1) instead. To get a de-fragmented frame, use `newframe = frame.copy()`\n",
      "  X[ohe.get_feature_names_out()] = ohe.transform(X[[feat]])\n",
      "/tmp/ipykernel_134104/496863905.py:8: PerformanceWarning: DataFrame is highly fragmented.  This is usually the result of calling `frame.insert` many times, which has poor performance.  Consider joining all columns at once using pd.concat(axis=1) instead. To get a de-fragmented frame, use `newframe = frame.copy()`\n",
      "  X[ohe.get_feature_names_out()] = ohe.transform(X[[feat]])\n",
      "/tmp/ipykernel_134104/496863905.py:8: PerformanceWarning: DataFrame is highly fragmented.  This is usually the result of calling `frame.insert` many times, which has poor performance.  Consider joining all columns at once using pd.concat(axis=1) instead. To get a de-fragmented frame, use `newframe = frame.copy()`\n",
      "  X[ohe.get_feature_names_out()] = ohe.transform(X[[feat]])\n",
      "/tmp/ipykernel_134104/496863905.py:8: PerformanceWarning: DataFrame is highly fragmented.  This is usually the result of calling `frame.insert` many times, which has poor performance.  Consider joining all columns at once using pd.concat(axis=1) instead. To get a de-fragmented frame, use `newframe = frame.copy()`\n",
      "  X[ohe.get_feature_names_out()] = ohe.transform(X[[feat]])\n",
      "/tmp/ipykernel_134104/496863905.py:8: PerformanceWarning: DataFrame is highly fragmented.  This is usually the result of calling `frame.insert` many times, which has poor performance.  Consider joining all columns at once using pd.concat(axis=1) instead. To get a de-fragmented frame, use `newframe = frame.copy()`\n",
      "  X[ohe.get_feature_names_out()] = ohe.transform(X[[feat]])\n"
     ]
    }
   ],
   "source": [
    "from sklearn.preprocessing import OneHotEncoder\n",
    "\n",
    "feats_to_encode = ['Matériau structurel', 'Famille et type']\n",
    "\n",
    "for feat in feats_to_encode:\n",
    "    ohe = OneHotEncoder(sparse_output=False)\n",
    "    ohe.fit(X[[feat]])\n",
    "    X[ohe.get_feature_names_out()] = ohe.transform(X[[feat]])\n",
    "    X.drop(columns=[feat], inplace=True)\n"
   ]
  },
  {
   "cell_type": "markdown",
   "id": "531ae2df",
   "metadata": {},
   "source": [
    "# TARGET WORK"
   ]
  },
  {
   "cell_type": "code",
   "execution_count": 231,
   "id": "6f8df6eb",
   "metadata": {},
   "outputs": [
    {
     "data": {
      "text/html": [
       "<div>\n",
       "<style scoped>\n",
       "    .dataframe tbody tr th:only-of-type {\n",
       "        vertical-align: middle;\n",
       "    }\n",
       "\n",
       "    .dataframe tbody tr th {\n",
       "        vertical-align: top;\n",
       "    }\n",
       "\n",
       "    .dataframe thead th {\n",
       "        text-align: right;\n",
       "    }\n",
       "</style>\n",
       "<table border=\"1\" class=\"dataframe\">\n",
       "  <thead>\n",
       "    <tr style=\"text-align: right;\">\n",
       "      <th></th>\n",
       "      <th>012EC_Ouvrage</th>\n",
       "    </tr>\n",
       "  </thead>\n",
       "  <tbody>\n",
       "    <tr>\n",
       "      <th>2354</th>\n",
       "      <td>MUR</td>\n",
       "    </tr>\n",
       "    <tr>\n",
       "      <th>8182</th>\n",
       "      <td>MUR</td>\n",
       "    </tr>\n",
       "    <tr>\n",
       "      <th>2930</th>\n",
       "      <td>MUR</td>\n",
       "    </tr>\n",
       "  </tbody>\n",
       "</table>\n",
       "</div>"
      ],
      "text/plain": [
       "     012EC_Ouvrage\n",
       "2354           MUR\n",
       "8182           MUR\n",
       "2930           MUR"
      ]
     },
     "execution_count": 231,
     "metadata": {},
     "output_type": "execute_result"
    }
   ],
   "source": [
    "y.sample(3)"
   ]
  },
  {
   "cell_type": "code",
   "execution_count": 232,
   "id": "8dc13dd4",
   "metadata": {},
   "outputs": [
    {
     "data": {
      "text/html": [
       "<div>\n",
       "<style scoped>\n",
       "    .dataframe tbody tr th:only-of-type {\n",
       "        vertical-align: middle;\n",
       "    }\n",
       "\n",
       "    .dataframe tbody tr th {\n",
       "        vertical-align: top;\n",
       "    }\n",
       "\n",
       "    .dataframe thead th {\n",
       "        text-align: right;\n",
       "    }\n",
       "</style>\n",
       "<table border=\"1\" class=\"dataframe\">\n",
       "  <thead>\n",
       "    <tr style=\"text-align: right;\">\n",
       "      <th></th>\n",
       "      <th>012EC_Ouvrage</th>\n",
       "    </tr>\n",
       "  </thead>\n",
       "  <tbody>\n",
       "    <tr>\n",
       "      <th>0</th>\n",
       "      <td>8</td>\n",
       "    </tr>\n",
       "    <tr>\n",
       "      <th>1</th>\n",
       "      <td>8</td>\n",
       "    </tr>\n",
       "    <tr>\n",
       "      <th>2</th>\n",
       "      <td>8</td>\n",
       "    </tr>\n",
       "    <tr>\n",
       "      <th>3</th>\n",
       "      <td>8</td>\n",
       "    </tr>\n",
       "    <tr>\n",
       "      <th>4</th>\n",
       "      <td>8</td>\n",
       "    </tr>\n",
       "  </tbody>\n",
       "</table>\n",
       "</div>"
      ],
      "text/plain": [
       "   012EC_Ouvrage\n",
       "0              8\n",
       "1              8\n",
       "2              8\n",
       "3              8\n",
       "4              8"
      ]
     },
     "execution_count": 232,
     "metadata": {},
     "output_type": "execute_result"
    }
   ],
   "source": [
    "from sklearn.preprocessing import LabelEncoder\n",
    "\n",
    "# Encode all columns in y to numerical values\n",
    "y_encoded = y.copy()\n",
    "label_encoders = {}\n",
    "\n",
    "for col in y.columns:\n",
    "    le = LabelEncoder()\n",
    "    y_encoded[col] = le.fit_transform(y[col])\n",
    "    label_encoders[col] = le\n",
    "\n",
    "y_encoded.head()"
   ]
  },
  {
   "cell_type": "code",
   "execution_count": null,
   "id": "c3455e7f",
   "metadata": {},
   "outputs": [],
   "source": [
    "#testing inverse transfor on target classes\n",
    "\n",
    "y_encoded1 = y.copy()\n",
    "y1_le = LabelEncoder()\n",
    "y_encoded1['012EC_Ouvrage'] = y1_le.fit_transform(y['012EC_Ouvrage'])\n",
    "#y_encoded1['012EC_Ouvrage'] = le"
   ]
  },
  {
   "cell_type": "code",
   "execution_count": 29,
   "id": "b4b3fa4b",
   "metadata": {},
   "outputs": [],
   "source": [
    "y_encoded1['012EC_Ouvrage'] = y1_le.inverse_transform(y_encoded1['012EC_Ouvrage'])"
   ]
  },
  {
   "cell_type": "markdown",
   "id": "f36a9525",
   "metadata": {},
   "source": [
    "## DL MODELing\n"
   ]
  },
  {
   "cell_type": "code",
   "execution_count": 233,
   "id": "b62af3c7",
   "metadata": {},
   "outputs": [],
   "source": [
    "from sklearn.model_selection import train_test_split"
   ]
  },
  {
   "cell_type": "code",
   "execution_count": 234,
   "id": "e401cc12",
   "metadata": {},
   "outputs": [
    {
     "data": {
      "text/plain": [
       "((9455, 183), (4053, 183), (9455, 1), (4053, 1))"
      ]
     },
     "execution_count": 234,
     "metadata": {},
     "output_type": "execute_result"
    }
   ],
   "source": [
    "X_train, X_test, y_train, y_test = train_test_split(X, y_encoded,\n",
    "\t\t\t\t\t\t\t\t\t\t\ttest_size=0.3,\n",
    "\t\t\t\t\t\t\t\t\t\t\trandom_state=5)\n",
    "X_train.shape, X_test.shape, y_train.shape, y_test.shape"
   ]
  },
  {
   "cell_type": "code",
   "execution_count": 244,
   "id": "1ed76e40",
   "metadata": {},
   "outputs": [
    {
     "data": {
      "text/plain": [
       "15"
      ]
     },
     "execution_count": 244,
     "metadata": {},
     "output_type": "execute_result"
    }
   ],
   "source": [
    "len(y['012EC_Ouvrage'].unique())"
   ]
  },
  {
   "cell_type": "code",
   "execution_count": 69,
   "id": "820fd8a0",
   "metadata": {},
   "outputs": [],
   "source": [
    "import tensorflow as tf\n",
    "from tensorflow.keras import Sequential, Input, layers, optimizers, callbacks\n"
   ]
  },
  {
   "cell_type": "code",
   "execution_count": null,
   "id": "70aab7b4",
   "metadata": {},
   "outputs": [],
   "source": [
    "model = Sequential()\n",
    "model.add(Input(shape=(183,)))\n",
    "model.add(layers.Dense(500, activation='relu'))\n",
    "model.add(layers.Dense(200, activation='relu'))\n",
    "model.add(layers.Dense(15, activation='Softmax'))\n"
   ]
  },
  {
   "cell_type": "code",
   "execution_count": 246,
   "id": "45f2c8d0",
   "metadata": {},
   "outputs": [],
   "source": [
    "#### 2. COMPILATION\n",
    "adam_opt = optimizers.Adam(learning_rate=0.01, beta_1=0.9, beta_2=0.999)\n",
    "\n",
    "model.compile(loss='sparse_categorical_crossentropy',\n",
    "              optimizer=adam_opt,\n",
    "              metrics=['accuracy'])"
   ]
  },
  {
   "cell_type": "code",
   "execution_count": 247,
   "id": "67d41099",
   "metadata": {},
   "outputs": [
    {
     "name": "stdout",
     "output_type": "stream",
     "text": [
      "Model: \"sequential_16\"\n",
      "_________________________________________________________________\n",
      " Layer (type)                Output Shape              Param #   \n",
      "=================================================================\n",
      " dense_45 (Dense)            (None, 500)               92000     \n",
      "                                                                 \n",
      " dense_46 (Dense)            (None, 200)               100200    \n",
      "                                                                 \n",
      " dense_47 (Dense)            (None, 15)                3015      \n",
      "                                                                 \n",
      "=================================================================\n",
      "Total params: 195,215\n",
      "Trainable params: 195,215\n",
      "Non-trainable params: 0\n",
      "_________________________________________________________________\n"
     ]
    }
   ],
   "source": [
    "model.summary()"
   ]
  },
  {
   "cell_type": "code",
   "execution_count": 248,
   "id": "7f02dac2",
   "metadata": {},
   "outputs": [
    {
     "name": "stdout",
     "output_type": "stream",
     "text": [
      "Epoch 1/20\n",
      "414/414 [==============================] - 1s 2ms/step - loss: 0.3143 - accuracy: 0.9104 - val_loss: 0.2032 - val_accuracy: 0.9288\n",
      "Epoch 2/20\n",
      "414/414 [==============================] - 1s 2ms/step - loss: 0.2010 - accuracy: 0.9254 - val_loss: 0.3124 - val_accuracy: 0.9341\n",
      "Epoch 3/20\n",
      "414/414 [==============================] - 1s 2ms/step - loss: 0.1911 - accuracy: 0.9316 - val_loss: 0.1756 - val_accuracy: 0.9418\n",
      "Epoch 4/20\n",
      "414/414 [==============================] - 1s 2ms/step - loss: 0.1701 - accuracy: 0.9353 - val_loss: 0.1533 - val_accuracy: 0.9478\n",
      "Epoch 5/20\n",
      "414/414 [==============================] - 1s 2ms/step - loss: 0.1599 - accuracy: 0.9341 - val_loss: 0.1602 - val_accuracy: 0.9461\n",
      "Epoch 6/20\n",
      "414/414 [==============================] - 1s 2ms/step - loss: 0.1466 - accuracy: 0.9399 - val_loss: 0.1412 - val_accuracy: 0.9482\n",
      "Epoch 7/20\n",
      "414/414 [==============================] - 1s 2ms/step - loss: 0.1425 - accuracy: 0.9420 - val_loss: 0.1495 - val_accuracy: 0.9499\n",
      "Epoch 8/20\n",
      "414/414 [==============================] - 1s 2ms/step - loss: 0.1386 - accuracy: 0.9406 - val_loss: 0.1589 - val_accuracy: 0.9422\n",
      "Epoch 9/20\n",
      "414/414 [==============================] - 1s 2ms/step - loss: 0.1482 - accuracy: 0.9408 - val_loss: 0.2347 - val_accuracy: 0.9457\n",
      "Epoch 10/20\n",
      "414/414 [==============================] - 1s 2ms/step - loss: 0.1643 - accuracy: 0.9390 - val_loss: 0.1666 - val_accuracy: 0.9394\n",
      "Epoch 11/20\n",
      "414/414 [==============================] - 1s 2ms/step - loss: 0.1739 - accuracy: 0.9380 - val_loss: 0.1681 - val_accuracy: 0.9471\n",
      "Epoch 12/20\n",
      "414/414 [==============================] - 1s 2ms/step - loss: 0.1616 - accuracy: 0.9403 - val_loss: 0.1894 - val_accuracy: 0.9517\n",
      "Epoch 13/20\n",
      "414/414 [==============================] - 1s 2ms/step - loss: 0.1393 - accuracy: 0.9427 - val_loss: 0.1566 - val_accuracy: 0.9492\n",
      "Epoch 14/20\n",
      "414/414 [==============================] - 1s 2ms/step - loss: 0.1308 - accuracy: 0.9439 - val_loss: 0.1583 - val_accuracy: 0.9432\n",
      "Epoch 15/20\n",
      "414/414 [==============================] - 1s 2ms/step - loss: 0.1314 - accuracy: 0.9408 - val_loss: 0.1579 - val_accuracy: 0.9517\n",
      "Epoch 16/20\n",
      "414/414 [==============================] - 1s 2ms/step - loss: 0.1315 - accuracy: 0.9433 - val_loss: 0.1515 - val_accuracy: 0.9503\n"
     ]
    },
    {
     "data": {
      "text/plain": [
       "<keras.callbacks.History at 0x7fed4866f9d0>"
      ]
     },
     "execution_count": 248,
     "metadata": {},
     "output_type": "execute_result"
    }
   ],
   "source": [
    "es = callbacks.EarlyStopping(patience=10, restore_best_weights=True)\n",
    "\n",
    "model.fit(X_train, y_train,\n",
    "          batch_size=16,\n",
    "          epochs=20,\n",
    "          validation_split=0.3,\n",
    "          callbacks=[es],\n",
    "          verbose=1)"
   ]
  },
  {
   "cell_type": "code",
   "execution_count": 287,
   "id": "9aadd782",
   "metadata": {},
   "outputs": [
    {
     "name": "stdout",
     "output_type": "stream",
     "text": [
      "127/127 [==============================] - 0s 876us/step\n"
     ]
    }
   ],
   "source": [
    "y_pred = model.predict(X_test).shape"
   ]
  },
  {
   "cell_type": "code",
   "execution_count": 296,
   "id": "99592adf",
   "metadata": {},
   "outputs": [
    {
     "data": {
      "text/plain": [
       "(4053, 15)"
      ]
     },
     "execution_count": 296,
     "metadata": {},
     "output_type": "execute_result"
    }
   ],
   "source": [
    "y_pred"
   ]
  },
  {
   "cell_type": "code",
   "execution_count": 292,
   "id": "62734413",
   "metadata": {},
   "outputs": [
    {
     "data": {
      "text/html": [
       "<div>\n",
       "<style scoped>\n",
       "    .dataframe tbody tr th:only-of-type {\n",
       "        vertical-align: middle;\n",
       "    }\n",
       "\n",
       "    .dataframe tbody tr th {\n",
       "        vertical-align: top;\n",
       "    }\n",
       "\n",
       "    .dataframe thead th {\n",
       "        text-align: right;\n",
       "    }\n",
       "</style>\n",
       "<table border=\"1\" class=\"dataframe\">\n",
       "  <thead>\n",
       "    <tr style=\"text-align: right;\">\n",
       "      <th></th>\n",
       "      <th>012EC_Ouvrage</th>\n",
       "    </tr>\n",
       "  </thead>\n",
       "  <tbody>\n",
       "    <tr>\n",
       "      <th>13005</th>\n",
       "      <td>8</td>\n",
       "    </tr>\n",
       "  </tbody>\n",
       "</table>\n",
       "</div>"
      ],
      "text/plain": [
       "       012EC_Ouvrage\n",
       "13005              8"
      ]
     },
     "execution_count": 292,
     "metadata": {},
     "output_type": "execute_result"
    }
   ],
   "source": [
    "y_train.sample(1)"
   ]
  },
  {
   "cell_type": "code",
   "execution_count": 283,
   "id": "75a2ab9a",
   "metadata": {},
   "outputs": [
    {
     "data": {
      "text/html": [
       "<div>\n",
       "<style scoped>\n",
       "    .dataframe tbody tr th:only-of-type {\n",
       "        vertical-align: middle;\n",
       "    }\n",
       "\n",
       "    .dataframe tbody tr th {\n",
       "        vertical-align: top;\n",
       "    }\n",
       "\n",
       "    .dataframe thead th {\n",
       "        text-align: right;\n",
       "    }\n",
       "</style>\n",
       "<table border=\"1\" class=\"dataframe\">\n",
       "  <thead>\n",
       "    <tr style=\"text-align: right;\">\n",
       "      <th></th>\n",
       "      <th>012EC_Ouvrage</th>\n",
       "    </tr>\n",
       "  </thead>\n",
       "  <tbody>\n",
       "    <tr>\n",
       "      <th>9562</th>\n",
       "      <td>5</td>\n",
       "    </tr>\n",
       "  </tbody>\n",
       "</table>\n",
       "</div>"
      ],
      "text/plain": [
       "      012EC_Ouvrage\n",
       "9562              5"
      ]
     },
     "execution_count": 283,
     "metadata": {},
     "output_type": "execute_result"
    }
   ],
   "source": [
    "y_to_comp = pd.DataFrame(y_test, index = range(9562,9563))\n",
    "X_to_pred = pd.DataFrame(X_test, index = range(9562,9563))\n",
    "y_to_comp"
   ]
  },
  {
   "cell_type": "code",
   "execution_count": null,
   "id": "423eb33c",
   "metadata": {},
   "outputs": [
    {
     "name": "stdout",
     "output_type": "stream",
     "text": [
      "1/1 [==============================] - 0s 14ms/step\n"
     ]
    },
    {
     "ename": "TypeError",
     "evalue": "type numpy.ndarray doesn't define __round__ method",
     "output_type": "error",
     "traceback": [
      "\u001b[0;31m---------------------------------------------------------------------------\u001b[0m",
      "\u001b[0;31mTypeError\u001b[0m                                 Traceback (most recent call last)",
      "Cell \u001b[0;32mIn[295], line 1\u001b[0m\n\u001b[0;32m----> 1\u001b[0m \u001b[38;5;28;43mround\u001b[39;49m\u001b[43m(\u001b[49m\u001b[43mmodel\u001b[49m\u001b[38;5;241;43m.\u001b[39;49m\u001b[43mpredict\u001b[49m\u001b[43m(\u001b[49m\u001b[43mX_to_pred\u001b[49m\u001b[43m)\u001b[49m\u001b[43m,\u001b[49m\u001b[38;5;241;43m1\u001b[39;49m\u001b[43m)\u001b[49m\n",
      "\u001b[0;31mTypeError\u001b[0m: type numpy.ndarray doesn't define __round__ method"
     ]
    }
   ],
   "source": [
    "round(pd.DataFrame(model.predict(X_to_pred)),1)"
   ]
  },
  {
   "cell_type": "code",
   "execution_count": 294,
   "id": "665ec47d",
   "metadata": {},
   "outputs": [
    {
     "ename": "ValueError",
     "evalue": "Found input variables with inconsistent numbers of samples: [4053, 2]",
     "output_type": "error",
     "traceback": [
      "\u001b[0;31m---------------------------------------------------------------------------\u001b[0m",
      "\u001b[0;31mValueError\u001b[0m                                Traceback (most recent call last)",
      "Cell \u001b[0;32mIn[294], line 4\u001b[0m\n\u001b[1;32m      1\u001b[0m \u001b[38;5;28;01mfrom\u001b[39;00m\u001b[38;5;250m \u001b[39m\u001b[38;5;21;01msklearn\u001b[39;00m\u001b[38;5;21;01m.\u001b[39;00m\u001b[38;5;21;01mmetrics\u001b[39;00m\u001b[38;5;250m \u001b[39m\u001b[38;5;28;01mimport\u001b[39;00m classification_report\n\u001b[0;32m----> 4\u001b[0m \u001b[38;5;28mprint\u001b[39m(\u001b[43mclassification_report\u001b[49m\u001b[43m(\u001b[49m\u001b[43my_test\u001b[49m\u001b[43m,\u001b[49m\u001b[43m \u001b[49m\u001b[43my_pred\u001b[49m\u001b[43m)\u001b[49m)\n",
      "File \u001b[0;32m~/.pyenv/versions/3.10.6/envs/BImpredict2/lib/python3.10/site-packages/sklearn/utils/_param_validation.py:211\u001b[0m, in \u001b[0;36mvalidate_params.<locals>.decorator.<locals>.wrapper\u001b[0;34m(*args, **kwargs)\u001b[0m\n\u001b[1;32m    205\u001b[0m \u001b[38;5;28;01mtry\u001b[39;00m:\n\u001b[1;32m    206\u001b[0m     \u001b[38;5;28;01mwith\u001b[39;00m config_context(\n\u001b[1;32m    207\u001b[0m         skip_parameter_validation\u001b[38;5;241m=\u001b[39m(\n\u001b[1;32m    208\u001b[0m             prefer_skip_nested_validation \u001b[38;5;129;01mor\u001b[39;00m global_skip_validation\n\u001b[1;32m    209\u001b[0m         )\n\u001b[1;32m    210\u001b[0m     ):\n\u001b[0;32m--> 211\u001b[0m         \u001b[38;5;28;01mreturn\u001b[39;00m \u001b[43mfunc\u001b[49m\u001b[43m(\u001b[49m\u001b[38;5;241;43m*\u001b[39;49m\u001b[43margs\u001b[49m\u001b[43m,\u001b[49m\u001b[43m \u001b[49m\u001b[38;5;241;43m*\u001b[39;49m\u001b[38;5;241;43m*\u001b[39;49m\u001b[43mkwargs\u001b[49m\u001b[43m)\u001b[49m\n\u001b[1;32m    212\u001b[0m \u001b[38;5;28;01mexcept\u001b[39;00m InvalidParameterError \u001b[38;5;28;01mas\u001b[39;00m e:\n\u001b[1;32m    213\u001b[0m     \u001b[38;5;66;03m# When the function is just a wrapper around an estimator, we allow\u001b[39;00m\n\u001b[1;32m    214\u001b[0m     \u001b[38;5;66;03m# the function to delegate validation to the estimator, but we replace\u001b[39;00m\n\u001b[1;32m    215\u001b[0m     \u001b[38;5;66;03m# the name of the estimator by the name of the function in the error\u001b[39;00m\n\u001b[1;32m    216\u001b[0m     \u001b[38;5;66;03m# message to avoid confusion.\u001b[39;00m\n\u001b[1;32m    217\u001b[0m     msg \u001b[38;5;241m=\u001b[39m re\u001b[38;5;241m.\u001b[39msub(\n\u001b[1;32m    218\u001b[0m         \u001b[38;5;124mr\u001b[39m\u001b[38;5;124m\"\u001b[39m\u001b[38;5;124mparameter of \u001b[39m\u001b[38;5;124m\\\u001b[39m\u001b[38;5;124mw+ must be\u001b[39m\u001b[38;5;124m\"\u001b[39m,\n\u001b[1;32m    219\u001b[0m         \u001b[38;5;124mf\u001b[39m\u001b[38;5;124m\"\u001b[39m\u001b[38;5;124mparameter of \u001b[39m\u001b[38;5;132;01m{\u001b[39;00mfunc\u001b[38;5;241m.\u001b[39m\u001b[38;5;18m__qualname__\u001b[39m\u001b[38;5;132;01m}\u001b[39;00m\u001b[38;5;124m must be\u001b[39m\u001b[38;5;124m\"\u001b[39m,\n\u001b[1;32m    220\u001b[0m         \u001b[38;5;28mstr\u001b[39m(e),\n\u001b[1;32m    221\u001b[0m     )\n",
      "File \u001b[0;32m~/.pyenv/versions/3.10.6/envs/BImpredict2/lib/python3.10/site-packages/sklearn/metrics/_classification.py:2539\u001b[0m, in \u001b[0;36mclassification_report\u001b[0;34m(y_true, y_pred, labels, target_names, sample_weight, digits, output_dict, zero_division)\u001b[0m\n\u001b[1;32m   2405\u001b[0m \u001b[38;5;129m@validate_params\u001b[39m(\n\u001b[1;32m   2406\u001b[0m     {\n\u001b[1;32m   2407\u001b[0m         \u001b[38;5;124m\"\u001b[39m\u001b[38;5;124my_true\u001b[39m\u001b[38;5;124m\"\u001b[39m: [\u001b[38;5;124m\"\u001b[39m\u001b[38;5;124marray-like\u001b[39m\u001b[38;5;124m\"\u001b[39m, \u001b[38;5;124m\"\u001b[39m\u001b[38;5;124msparse matrix\u001b[39m\u001b[38;5;124m\"\u001b[39m],\n\u001b[0;32m   (...)\u001b[0m\n\u001b[1;32m   2430\u001b[0m     zero_division\u001b[38;5;241m=\u001b[39m\u001b[38;5;124m\"\u001b[39m\u001b[38;5;124mwarn\u001b[39m\u001b[38;5;124m\"\u001b[39m,\n\u001b[1;32m   2431\u001b[0m ):\n\u001b[1;32m   2432\u001b[0m \u001b[38;5;250m    \u001b[39m\u001b[38;5;124;03m\"\"\"Build a text report showing the main classification metrics.\u001b[39;00m\n\u001b[1;32m   2433\u001b[0m \n\u001b[1;32m   2434\u001b[0m \u001b[38;5;124;03m    Read more in the :ref:`User Guide <classification_report>`.\u001b[39;00m\n\u001b[0;32m   (...)\u001b[0m\n\u001b[1;32m   2536\u001b[0m \u001b[38;5;124;03m    <BLANKLINE>\u001b[39;00m\n\u001b[1;32m   2537\u001b[0m \u001b[38;5;124;03m    \"\"\"\u001b[39;00m\n\u001b[0;32m-> 2539\u001b[0m     y_type, y_true, y_pred \u001b[38;5;241m=\u001b[39m \u001b[43m_check_targets\u001b[49m\u001b[43m(\u001b[49m\u001b[43my_true\u001b[49m\u001b[43m,\u001b[49m\u001b[43m \u001b[49m\u001b[43my_pred\u001b[49m\u001b[43m)\u001b[49m\n\u001b[1;32m   2541\u001b[0m     \u001b[38;5;28;01mif\u001b[39;00m labels \u001b[38;5;129;01mis\u001b[39;00m \u001b[38;5;28;01mNone\u001b[39;00m:\n\u001b[1;32m   2542\u001b[0m         labels \u001b[38;5;241m=\u001b[39m unique_labels(y_true, y_pred)\n",
      "File \u001b[0;32m~/.pyenv/versions/3.10.6/envs/BImpredict2/lib/python3.10/site-packages/sklearn/metrics/_classification.py:84\u001b[0m, in \u001b[0;36m_check_targets\u001b[0;34m(y_true, y_pred)\u001b[0m\n\u001b[1;32m     57\u001b[0m \u001b[38;5;28;01mdef\u001b[39;00m\u001b[38;5;250m \u001b[39m\u001b[38;5;21m_check_targets\u001b[39m(y_true, y_pred):\n\u001b[1;32m     58\u001b[0m \u001b[38;5;250m    \u001b[39m\u001b[38;5;124;03m\"\"\"Check that y_true and y_pred belong to the same classification task.\u001b[39;00m\n\u001b[1;32m     59\u001b[0m \n\u001b[1;32m     60\u001b[0m \u001b[38;5;124;03m    This converts multiclass or binary types to a common shape, and raises a\u001b[39;00m\n\u001b[0;32m   (...)\u001b[0m\n\u001b[1;32m     82\u001b[0m \u001b[38;5;124;03m    y_pred : array or indicator matrix\u001b[39;00m\n\u001b[1;32m     83\u001b[0m \u001b[38;5;124;03m    \"\"\"\u001b[39;00m\n\u001b[0;32m---> 84\u001b[0m     \u001b[43mcheck_consistent_length\u001b[49m\u001b[43m(\u001b[49m\u001b[43my_true\u001b[49m\u001b[43m,\u001b[49m\u001b[43m \u001b[49m\u001b[43my_pred\u001b[49m\u001b[43m)\u001b[49m\n\u001b[1;32m     85\u001b[0m     type_true \u001b[38;5;241m=\u001b[39m type_of_target(y_true, input_name\u001b[38;5;241m=\u001b[39m\u001b[38;5;124m\"\u001b[39m\u001b[38;5;124my_true\u001b[39m\u001b[38;5;124m\"\u001b[39m)\n\u001b[1;32m     86\u001b[0m     type_pred \u001b[38;5;241m=\u001b[39m type_of_target(y_pred, input_name\u001b[38;5;241m=\u001b[39m\u001b[38;5;124m\"\u001b[39m\u001b[38;5;124my_pred\u001b[39m\u001b[38;5;124m\"\u001b[39m)\n",
      "File \u001b[0;32m~/.pyenv/versions/3.10.6/envs/BImpredict2/lib/python3.10/site-packages/sklearn/utils/validation.py:407\u001b[0m, in \u001b[0;36mcheck_consistent_length\u001b[0;34m(*arrays)\u001b[0m\n\u001b[1;32m    405\u001b[0m uniques \u001b[38;5;241m=\u001b[39m np\u001b[38;5;241m.\u001b[39munique(lengths)\n\u001b[1;32m    406\u001b[0m \u001b[38;5;28;01mif\u001b[39;00m \u001b[38;5;28mlen\u001b[39m(uniques) \u001b[38;5;241m>\u001b[39m \u001b[38;5;241m1\u001b[39m:\n\u001b[0;32m--> 407\u001b[0m     \u001b[38;5;28;01mraise\u001b[39;00m \u001b[38;5;167;01mValueError\u001b[39;00m(\n\u001b[1;32m    408\u001b[0m         \u001b[38;5;124m\"\u001b[39m\u001b[38;5;124mFound input variables with inconsistent numbers of samples: \u001b[39m\u001b[38;5;132;01m%r\u001b[39;00m\u001b[38;5;124m\"\u001b[39m\n\u001b[1;32m    409\u001b[0m         \u001b[38;5;241m%\u001b[39m [\u001b[38;5;28mint\u001b[39m(l) \u001b[38;5;28;01mfor\u001b[39;00m l \u001b[38;5;129;01min\u001b[39;00m lengths]\n\u001b[1;32m    410\u001b[0m     )\n",
      "\u001b[0;31mValueError\u001b[0m: Found input variables with inconsistent numbers of samples: [4053, 2]"
     ]
    }
   ],
   "source": [
    "from sklearn.metrics import classification_report\n",
    "\n",
    "\n",
    "print(classification_report(y_test, y_pred))\n"
   ]
  }
 ],
 "metadata": {
  "kernelspec": {
   "display_name": "BImpredict2",
   "language": "python",
   "name": "python3"
  },
  "language_info": {
   "codemirror_mode": {
    "name": "ipython",
    "version": 3
   },
   "file_extension": ".py",
   "mimetype": "text/x-python",
   "name": "python",
   "nbconvert_exporter": "python",
   "pygments_lexer": "ipython3",
   "version": "3.10.6"
  }
 },
 "nbformat": 4,
 "nbformat_minor": 5
}
