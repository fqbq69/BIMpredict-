{
 "cells": [
  {
   "cell_type": "code",
   "execution_count": 10,
   "id": "a0d39c25",
   "metadata": {},
   "outputs": [],
   "source": [
    "import os\n",
    "import numpy as np\n",
    "import pandas as pd\n",
    "from os import listdir\n",
    "from os.path import isfile, join\n",
    "\n",
    "##################  VARIABLES  ##################\n",
    "EXCEL_FILES_PATH = \"../../raw_data/excel\"\n",
    "A_FILE_TO_TEST = '../../raw_data/excel/RawData - 21003_Paramétrage ICF_18-01-22.xlsx'\n",
    "TF_CPP_MIN_LOG_LEVEL = 3\n",
    "\n",
    "#this module verifies the names of the sheets.\n",
    "#from bimpredictapp.ml_logic.load import load_excel_files\n"
   ]
  },
  {
   "cell_type": "code",
   "execution_count": 23,
   "id": "50ad4828",
   "metadata": {},
   "outputs": [],
   "source": [
    "def list_all_files():\n",
    "    all_files = [join(EXCEL_FILES_PATH, x) for x in listdir(EXCEL_FILES_PATH) if isfile(join(EXCEL_FILES_PATH, x))]\n",
    "    return all_files"
   ]
  },
  {
   "cell_type": "code",
   "execution_count": 24,
   "id": "cbfbf805",
   "metadata": {},
   "outputs": [],
   "source": [
    "file_list = list_all_files()\n",
    "base_dir = \"../../raw_data/\""
   ]
  },
  {
   "cell_type": "code",
   "execution_count": 26,
   "id": "7313f592",
   "metadata": {},
   "outputs": [
    {
     "data": {
      "text/plain": [
       "'../../raw_data/excel/RawData - 22002_ECH_Projet Saint-Ouen EJ Ind0.xlsx'"
      ]
     },
     "execution_count": 26,
     "metadata": {},
     "output_type": "execute_result"
    }
   ],
   "source": [
    "file_list[2]"
   ]
  },
  {
   "cell_type": "code",
   "execution_count": 33,
   "id": "daa35f44",
   "metadata": {},
   "outputs": [],
   "source": [
    "\n",
    "def get_sheets(file_url:str)-> dict:\n",
    "\n",
    "    try:\n",
    "        file = pd.ExcelFile(file_url)\n",
    "        return file.sheet_names\n",
    "\n",
    "    except Exception as e:\n",
    "        print(f\"Error loading sheets from file: {e}\")\n"
   ]
  },
  {
   "cell_type": "code",
   "execution_count": 36,
   "id": "2cce62af",
   "metadata": {},
   "outputs": [
    {
     "data": {
      "text/plain": [
       "['Murs', 'Sols', 'Poutres', 'Poteaux']"
      ]
     },
     "execution_count": 36,
     "metadata": {},
     "output_type": "execute_result"
    }
   ],
   "source": [
    "get_sheets(file_list[14])"
   ]
  }
 ],
 "metadata": {
  "kernelspec": {
   "display_name": "BImpredict2",
   "language": "python",
   "name": "python3"
  },
  "language_info": {
   "codemirror_mode": {
    "name": "ipython",
    "version": 3
   },
   "file_extension": ".py",
   "mimetype": "text/x-python",
   "name": "python",
   "nbconvert_exporter": "python",
   "pygments_lexer": "ipython3",
   "version": "3.10.6"
  }
 },
 "nbformat": 4,
 "nbformat_minor": 5
}
