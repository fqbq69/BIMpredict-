{
 "cells": [
  {
   "cell_type": "code",
   "execution_count": 1,
   "id": "a0d39c25",
   "metadata": {},
   "outputs": [
    {
     "name": "stdout",
     "output_type": "stream",
     "text": [
      "\u001b[31mERROR: Could not open requirements file: [Errno 2] No such file or directory: 'requirements.txt'\u001b[0m\u001b[31m\n",
      "\u001b[0m\n",
      "\u001b[1m[\u001b[0m\u001b[34;49mnotice\u001b[0m\u001b[1;39;49m]\u001b[0m\u001b[39;49m A new release of pip available: \u001b[0m\u001b[31;49m22.2.1\u001b[0m\u001b[39;49m -> \u001b[0m\u001b[32;49m25.1.1\u001b[0m\n",
      "\u001b[1m[\u001b[0m\u001b[34;49mnotice\u001b[0m\u001b[1;39;49m]\u001b[0m\u001b[39;49m To update, run: \u001b[0m\u001b[32;49mpip install --upgrade pip\u001b[0m\n"
     ]
    }
   ],
   "source": [
    "!pip install -r requirements.txt"
   ]
  },
  {
   "cell_type": "code",
   "execution_count": 3,
   "id": "70e0d857",
   "metadata": {},
   "outputs": [
    {
     "name": "stdout",
     "output_type": "stream",
     "text": [
      "Collecting streamlit\n",
      "  Using cached streamlit-1.45.1-py3-none-any.whl (9.9 MB)\n",
      "Collecting click<9,>=7.0\n",
      "  Using cached click-8.2.1-py3-none-any.whl (102 kB)\n",
      "Collecting toml<2,>=0.10.1\n",
      "  Using cached toml-0.10.2-py2.py3-none-any.whl (16 kB)\n",
      "Collecting tenacity<10,>=8.1.0\n",
      "  Using cached tenacity-9.1.2-py3-none-any.whl (28 kB)\n",
      "Collecting blinker<2,>=1.5.0\n",
      "  Using cached blinker-1.9.0-py3-none-any.whl (8.5 kB)\n",
      "Requirement already satisfied: pandas<3,>=1.4.0 in /home/samer/.pyenv/versions/3.10.6/envs/BImpredict2/lib/python3.10/site-packages (from streamlit) (1.5.3)\n",
      "Requirement already satisfied: typing-extensions<5,>=4.4.0 in /home/samer/.pyenv/versions/3.10.6/envs/BImpredict2/lib/python3.10/site-packages (from streamlit) (4.14.0)\n",
      "Collecting gitpython!=3.1.19,<4,>=3.0.7\n",
      "  Using cached GitPython-3.1.44-py3-none-any.whl (207 kB)\n",
      "Requirement already satisfied: pillow<12,>=7.1.0 in /home/samer/.pyenv/versions/3.10.6/envs/BImpredict2/lib/python3.10/site-packages (from streamlit) (11.2.1)\n",
      "Requirement already satisfied: requests<3,>=2.27 in /home/samer/.pyenv/versions/3.10.6/envs/BImpredict2/lib/python3.10/site-packages (from streamlit) (2.32.3)\n",
      "Collecting watchdog<7,>=2.1.5\n",
      "  Using cached watchdog-6.0.0-py3-none-manylinux2014_x86_64.whl (79 kB)\n",
      "Requirement already satisfied: cachetools<6,>=4.0 in /home/samer/.pyenv/versions/3.10.6/envs/BImpredict2/lib/python3.10/site-packages (from streamlit) (5.5.2)\n",
      "Requirement already satisfied: pyarrow>=7.0 in /home/samer/.pyenv/versions/3.10.6/envs/BImpredict2/lib/python3.10/site-packages (from streamlit) (20.0.0)\n",
      "Collecting pydeck<1,>=0.8.0b4\n",
      "  Using cached pydeck-0.9.1-py2.py3-none-any.whl (6.9 MB)\n",
      "Requirement already satisfied: tornado<7,>=6.0.3 in /home/samer/.pyenv/versions/3.10.6/envs/BImpredict2/lib/python3.10/site-packages (from streamlit) (6.5.1)\n",
      "Collecting packaging<25,>=20\n",
      "  Using cached packaging-24.2-py3-none-any.whl (65 kB)\n",
      "Requirement already satisfied: numpy<3,>=1.23 in /home/samer/.pyenv/versions/3.10.6/envs/BImpredict2/lib/python3.10/site-packages (from streamlit) (1.23.5)\n",
      "Collecting protobuf<7,>=3.20\n",
      "  Using cached protobuf-6.31.1-cp39-abi3-manylinux2014_x86_64.whl (321 kB)\n",
      "Collecting altair<6,>=4.0\n",
      "  Using cached altair-5.5.0-py3-none-any.whl (731 kB)\n",
      "Collecting jsonschema>=3.0\n",
      "  Using cached jsonschema-4.24.0-py3-none-any.whl (88 kB)\n",
      "Collecting narwhals>=1.14.2\n",
      "  Downloading narwhals-1.42.0-py3-none-any.whl (359 kB)\n",
      "\u001b[2K     \u001b[38;2;114;156;31m━━━━━━━━━━━━━━━━━━━━━━━━━━━━━━━━━━━━━━━\u001b[0m \u001b[32m359.0/359.0 kB\u001b[0m \u001b[31m7.8 MB/s\u001b[0m eta \u001b[36m0:00:00\u001b[0m[31m7.0 MB/s\u001b[0m eta \u001b[36m0:00:01\u001b[0m\n",
      "\u001b[?25hCollecting jinja2\n",
      "  Using cached jinja2-3.1.6-py3-none-any.whl (134 kB)\n",
      "Collecting gitdb<5,>=4.0.1\n",
      "  Using cached gitdb-4.0.12-py3-none-any.whl (62 kB)\n",
      "Requirement already satisfied: python-dateutil>=2.8.1 in /home/samer/.pyenv/versions/3.10.6/envs/BImpredict2/lib/python3.10/site-packages (from pandas<3,>=1.4.0->streamlit) (2.9.0.post0)\n",
      "Requirement already satisfied: pytz>=2020.1 in /home/samer/.pyenv/versions/3.10.6/envs/BImpredict2/lib/python3.10/site-packages (from pandas<3,>=1.4.0->streamlit) (2025.2)\n",
      "Requirement already satisfied: urllib3<3,>=1.21.1 in /home/samer/.pyenv/versions/3.10.6/envs/BImpredict2/lib/python3.10/site-packages (from requests<3,>=2.27->streamlit) (2.4.0)\n",
      "Requirement already satisfied: certifi>=2017.4.17 in /home/samer/.pyenv/versions/3.10.6/envs/BImpredict2/lib/python3.10/site-packages (from requests<3,>=2.27->streamlit) (2025.4.26)\n",
      "Requirement already satisfied: charset-normalizer<4,>=2 in /home/samer/.pyenv/versions/3.10.6/envs/BImpredict2/lib/python3.10/site-packages (from requests<3,>=2.27->streamlit) (3.4.2)\n",
      "Requirement already satisfied: idna<4,>=2.5 in /home/samer/.pyenv/versions/3.10.6/envs/BImpredict2/lib/python3.10/site-packages (from requests<3,>=2.27->streamlit) (3.10)\n",
      "Collecting smmap<6,>=3.0.1\n",
      "  Using cached smmap-5.0.2-py3-none-any.whl (24 kB)\n",
      "Requirement already satisfied: MarkupSafe>=2.0 in /home/samer/.pyenv/versions/3.10.6/envs/BImpredict2/lib/python3.10/site-packages (from jinja2->altair<6,>=4.0->streamlit) (3.0.2)\n",
      "Collecting jsonschema-specifications>=2023.03.6\n",
      "  Using cached jsonschema_specifications-2025.4.1-py3-none-any.whl (18 kB)\n",
      "Collecting referencing>=0.28.4\n",
      "  Using cached referencing-0.36.2-py3-none-any.whl (26 kB)\n",
      "Collecting attrs>=22.2.0\n",
      "  Using cached attrs-25.3.0-py3-none-any.whl (63 kB)\n",
      "Collecting rpds-py>=0.7.1\n",
      "  Using cached rpds_py-0.25.1-cp310-cp310-manylinux_2_17_x86_64.manylinux2014_x86_64.whl (386 kB)\n",
      "Requirement already satisfied: six>=1.5 in /home/samer/.pyenv/versions/3.10.6/envs/BImpredict2/lib/python3.10/site-packages (from python-dateutil>=2.8.1->pandas<3,>=1.4.0->streamlit) (1.17.0)\n",
      "Installing collected packages: watchdog, toml, tenacity, smmap, rpds-py, protobuf, packaging, narwhals, jinja2, click, blinker, attrs, referencing, pydeck, gitdb, jsonschema-specifications, gitpython, jsonschema, altair, streamlit\n",
      "  Attempting uninstall: protobuf\n",
      "    Found existing installation: protobuf 3.19.6\n",
      "    Uninstalling protobuf-3.19.6:\n",
      "      Successfully uninstalled protobuf-3.19.6\n",
      "  Attempting uninstall: packaging\n",
      "    Found existing installation: packaging 25.0\n",
      "    Uninstalling packaging-25.0:\n",
      "      Successfully uninstalled packaging-25.0\n",
      "\u001b[31mERROR: pip's dependency resolver does not currently take into account all the packages that are installed. This behaviour is the source of the following dependency conflicts.\n",
      "tensorflow 2.10.0 requires protobuf<3.20,>=3.9.2, but you have protobuf 6.31.1 which is incompatible.\n",
      "tensorboard 2.10.1 requires protobuf<3.20,>=3.9.2, but you have protobuf 6.31.1 which is incompatible.\n",
      "googleapis-common-protos 1.56.4 requires protobuf<5.0.0dev,>=3.15.0, but you have protobuf 6.31.1 which is incompatible.\n",
      "google-api-core 2.8.2 requires protobuf<5.0.0dev,>=3.15.0, but you have protobuf 6.31.1 which is incompatible.\u001b[0m\u001b[31m\n",
      "\u001b[0mSuccessfully installed altair-5.5.0 attrs-25.3.0 blinker-1.9.0 click-8.2.1 gitdb-4.0.12 gitpython-3.1.44 jinja2-3.1.6 jsonschema-4.24.0 jsonschema-specifications-2025.4.1 narwhals-1.42.0 packaging-24.2 protobuf-6.31.1 pydeck-0.9.1 referencing-0.36.2 rpds-py-0.25.1 smmap-5.0.2 streamlit-1.45.1 tenacity-9.1.2 toml-0.10.2 watchdog-6.0.0\n",
      "\n",
      "\u001b[1m[\u001b[0m\u001b[34;49mnotice\u001b[0m\u001b[1;39;49m]\u001b[0m\u001b[39;49m A new release of pip available: \u001b[0m\u001b[31;49m22.2.1\u001b[0m\u001b[39;49m -> \u001b[0m\u001b[32;49m25.1.1\u001b[0m\n",
      "\u001b[1m[\u001b[0m\u001b[34;49mnotice\u001b[0m\u001b[1;39;49m]\u001b[0m\u001b[39;49m To update, run: \u001b[0m\u001b[32;49mpip install --upgrade pip\u001b[0m\n"
     ]
    }
   ],
   "source": [
    "!pip install streamlit"
   ]
  }
 ],
 "metadata": {
  "kernelspec": {
   "display_name": "BImpredict2",
   "language": "python",
   "name": "python3"
  },
  "language_info": {
   "codemirror_mode": {
    "name": "ipython",
    "version": 3
   },
   "file_extension": ".py",
   "mimetype": "text/x-python",
   "name": "python",
   "nbconvert_exporter": "python",
   "pygments_lexer": "ipython3",
   "version": "3.10.6"
  }
 },
 "nbformat": 4,
 "nbformat_minor": 5
}
