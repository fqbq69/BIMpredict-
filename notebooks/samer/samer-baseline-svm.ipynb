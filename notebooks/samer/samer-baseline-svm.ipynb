{
 "cells": [
  {
   "cell_type": "code",
   "execution_count": 9,
   "id": "2cf5954c",
   "metadata": {},
   "outputs": [],
   "source": [
    "import numpy as np\n",
    "import os\n",
    "import pandas as pd\n",
    "import seaborn as sns\n",
    "import matplotlib as plt\n"
   ]
  },
  {
   "cell_type": "code",
   "execution_count": 10,
   "id": "ca8edf2c",
   "metadata": {},
   "outputs": [],
   "source": [
    "base_dir = \"../../raw_data/\"\n"
   ]
  },
  {
   "cell_type": "code",
   "execution_count": 11,
   "id": "ad963157",
   "metadata": {},
   "outputs": [
    {
     "name": "stdout",
     "output_type": "stream",
     "text": [
      "Chargé : ../../raw_data/maquette1/murs1.csv (1589 lignes, 146 colonnes)\n",
      "Chargé : ../../raw_data/maquette2/murs2.csv (215 lignes, 149 colonnes)\n",
      "Chargé : ../../raw_data/maquette3/murs3.csv (203 lignes, 143 colonnes)\n",
      "Chargé : ../../raw_data/maquette4/murs4.csv (312 lignes, 96 colonnes)\n",
      "Chargé : ../../raw_data/maquette5/murs5.csv (345 lignes, 94 colonnes)\n",
      "Chargé : ../../raw_data/maquette6/murs6.csv (203 lignes, 91 colonnes)\n",
      "Total concaténé : 2867 lignes, 160 colonnes\n"
     ]
    },
    {
     "data": {
      "text/plain": [
       "(2867, 160)"
      ]
     },
     "execution_count": 11,
     "metadata": {},
     "output_type": "execute_result"
    }
   ],
   "source": [
    "dfs = []\n",
    "tableau = 'murs'\n",
    "for i in range(1, 7):\n",
    "    csv_path = os.path.join(base_dir, f\"maquette{i}\", f\"{tableau}{i}.csv\")\n",
    "    if os.path.exists(csv_path):\n",
    "        # Cherche la ligne d'en-tête réelle\n",
    "        with open(csv_path, encoding=\"utf-8\") as f:\n",
    "            for idx, line in enumerate(f):\n",
    "                if line.startswith(\"Id;\"):\n",
    "                    header_row = idx\n",
    "                    break\n",
    "        try:\n",
    "            df = pd.read_csv(csv_path, sep=';', decimal=\",\", header=header_row)\n",
    "            dfs.append(df)\n",
    "            print(f\"Chargé : {csv_path} ({df.shape[0]} lignes, {df.shape[1]} colonnes)\")\n",
    "            #print(df.head())\n",
    "        except Exception as e:\n",
    "            print(f\"Erreur de parsing : {csv_path} -> {e}\")\n",
    "    else:\n",
    "        print(f\"Fichier non trouvé : {csv_path}\")\n",
    "\n",
    "if dfs:\n",
    "    dfs_concat = pd.concat(dfs, ignore_index=True)\n",
    "    print(f\"Total concaténé : {dfs_concat.shape[0]} lignes, {dfs_concat.shape[1]} colonnes\")\n",
    "else:\n",
    "    dfs_concat = pd.DataFrame()\n",
    "    print(\"Aucun fichier murs.csv trouvé.\")\n",
    "\n",
    "dfs_concat.shape"
   ]
  },
  {
   "cell_type": "code",
   "execution_count": 12,
   "id": "b6b97a1f",
   "metadata": {},
   "outputs": [],
   "source": [
    "#[\"011EC_Lot\", \"012EC_Ouvrage\", \"013EC_Localisation\", \"014EC_Mode Constructif\"]"
   ]
  },
  {
   "cell_type": "code",
   "execution_count": null,
   "id": "fd0fa340",
   "metadata": {},
   "outputs": [],
   "source": []
  },
  {
   "cell_type": "markdown",
   "id": "ff912c9d",
   "metadata": {},
   "source": [
    "## Trying the SVM model"
   ]
  }
 ],
 "metadata": {
  "kernelspec": {
   "display_name": "BImpredict2",
   "language": "python",
   "name": "python3"
  },
  "language_info": {
   "codemirror_mode": {
    "name": "ipython",
    "version": 3
   },
   "file_extension": ".py",
   "mimetype": "text/x-python",
   "name": "python",
   "nbconvert_exporter": "python",
   "pygments_lexer": "ipython3",
   "version": "3.10.6"
  }
 },
 "nbformat": 4,
 "nbformat_minor": 5
}
