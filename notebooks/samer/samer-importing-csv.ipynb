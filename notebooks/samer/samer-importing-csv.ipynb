{
 "cells": [
  {
   "cell_type": "code",
   "execution_count": 1,
   "id": "2cf5954c",
   "metadata": {},
   "outputs": [],
   "source": [
    "import numpy as np\n",
    "import os\n",
    "import pandas as pd\n",
    "import seaborn as sns\n",
    "import matplotlib as plt\n"
   ]
  },
  {
   "cell_type": "code",
   "execution_count": 2,
   "id": "ca8edf2c",
   "metadata": {},
   "outputs": [],
   "source": [
    "base_dir = \"../../raw_data/\"\n"
   ]
  },
  {
   "cell_type": "markdown",
   "id": "ff912c9d",
   "metadata": {},
   "source": [
    "## Trying the Poteaux csv files"
   ]
  },
  {
   "cell_type": "code",
   "execution_count": 9,
   "id": "f03d0f41",
   "metadata": {},
   "outputs": [],
   "source": [
    "def import_csv(tableau, files):\n",
    "    dfs = []\n",
    "\n",
    "    for i in files:\n",
    "        csv_path = os.path.join(base_dir, f\"maquette{i}\", f\"{tableau}{i}.csv\")\n",
    "        if os.path.exists(csv_path):\n",
    "            # Cherche la ligne d'en-tête réelle\n",
    "            with open(csv_path, encoding=\"utf-8\") as f:\n",
    "                for idx, line in enumerate(f):\n",
    "                    if line.startswith(\"Id;\"):\n",
    "                        header_row = idx\n",
    "                        break\n",
    "            try:\n",
    "                df = pd.read_csv(csv_path, sep=';', decimal=\",\", header=header_row)\n",
    "                dfs.append(df)\n",
    "                print(f\"Chargé : {csv_path} ({df.shape[0]} lignes, {df.shape[1]} colonnes)\")\n",
    "                #print(df.head())\n",
    "            except Exception as e:\n",
    "                print(f\"Erreur de parsing : {csv_path} -> {e}\")\n",
    "        else:\n",
    "            print(f\"Fichier non trouvé : {csv_path}\")\n",
    "\n",
    "    if dfs:\n",
    "        dfs_concat = pd.concat(dfs, ignore_index=True)\n",
    "        print(f\"Total concaténé : {dfs_concat.shape[0]} lignes, {dfs_concat.shape[1]} colonnes\")\n",
    "    else:\n",
    "        dfs_concat = pd.DataFrame()\n",
    "        print(\"Aucun fichier murs.csv trouvé.\")\n",
    "\n",
    "    return dfs_concat\n"
   ]
  },
  {
   "cell_type": "code",
   "execution_count": 8,
   "id": "776d7051",
   "metadata": {},
   "outputs": [
    {
     "name": "stdout",
     "output_type": "stream",
     "text": [
      "Chargé : ../../raw_data/maquette1/murs1.csv (1589 lignes, 146 colonnes)\n",
      "Chargé : ../../raw_data/maquette2/murs2.csv (215 lignes, 149 colonnes)\n",
      "Chargé : ../../raw_data/maquette3/murs3.csv (203 lignes, 143 colonnes)\n",
      "Chargé : ../../raw_data/maquette4/murs4.csv (312 lignes, 96 colonnes)\n",
      "Chargé : ../../raw_data/maquette5/murs5.csv (345 lignes, 94 colonnes)\n",
      "Chargé : ../../raw_data/maquette6/murs6.csv (203 lignes, 91 colonnes)\n",
      "Chargé : ../../raw_data/maquette11/murs11.csv (121 lignes, 115 colonnes)\n",
      "Chargé : ../../raw_data/maquette12/murs12.csv (121 lignes, 118 colonnes)\n",
      "Chargé : ../../raw_data/maquette13/murs13.csv (797 lignes, 104 colonnes)\n",
      "Chargé : ../../raw_data/maquette14/murs14.csv (3518 lignes, 107 colonnes)\n",
      "Chargé : ../../raw_data/maquette15/murs15.csv (1228 lignes, 113 colonnes)\n",
      "Chargé : ../../raw_data/maquette16/murs16.csv (1088 lignes, 87 colonnes)\n",
      "Chargé : ../../raw_data/maquette17/murs17.csv (84 lignes, 86 colonnes)\n",
      "Chargé : ../../raw_data/maquette18/murs18.csv (1743 lignes, 91 colonnes)\n",
      "Chargé : ../../raw_data/maquette19/murs19.csv (2018 lignes, 91 colonnes)\n",
      "Chargé : ../../raw_data/maquette20/murs20.csv (48 lignes, 86 colonnes)\n",
      "Total concaténé : 13633 lignes, 258 colonnes\n"
     ]
    }
   ],
   "source": [
    "files = [1,2,3,4,5,6,11,12,13,14,15,16,17,18,19,20]\n",
    "dfs_concat = import_csv('murs', files)"
   ]
  },
  {
   "cell_type": "markdown",
   "id": "479be204",
   "metadata": {},
   "source": [
    "### FEATURES SELECTION:"
   ]
  },
  {
   "cell_type": "code",
   "execution_count": 19,
   "id": "0daeade7",
   "metadata": {},
   "outputs": [],
   "source": [
    "all_features = dfs_concat.columns.to_list()"
   ]
  },
  {
   "cell_type": "code",
   "execution_count": 27,
   "id": "02ea4696",
   "metadata": {},
   "outputs": [],
   "source": [
    "percent_missing = dfs_concat.isnull().sum() * 100 / len(dfs_concat)\n",
    "\n",
    "missing_value_df = pd.DataFrame({'column_name': dfs_concat.columns,\n",
    "                                 'percent_missing': percent_missing})"
   ]
  },
  {
   "cell_type": "code",
   "execution_count": 32,
   "id": "59130d05",
   "metadata": {},
   "outputs": [],
   "source": [
    "feature_list = missing_value_df.sort_values('percent_missing',\n",
    "                                            ascending=False)['column_name'].to_list()\n"
   ]
  },
  {
   "cell_type": "code",
   "execution_count": 49,
   "id": "d34acc76",
   "metadata": {},
   "outputs": [
    {
     "data": {
      "text/html": [
       "<div>\n",
       "<style scoped>\n",
       "    .dataframe tbody tr th:only-of-type {\n",
       "        vertical-align: middle;\n",
       "    }\n",
       "\n",
       "    .dataframe tbody tr th {\n",
       "        vertical-align: top;\n",
       "    }\n",
       "\n",
       "    .dataframe thead th {\n",
       "        text-align: right;\n",
       "    }\n",
       "</style>\n",
       "<table border=\"1\" class=\"dataframe\">\n",
       "  <thead>\n",
       "    <tr style=\"text-align: right;\">\n",
       "      <th></th>\n",
       "      <th>013EC_Localisation</th>\n",
       "      <th>Décalage inférieur</th>\n",
       "      <th>012EC_Ouvrage</th>\n",
       "      <th>014EC_Mode Constructif</th>\n",
       "      <th>Matériau structurel</th>\n",
       "      <th>Décalage supérieur</th>\n",
       "      <th>Nom</th>\n",
       "      <th>011EC_Lot</th>\n",
       "      <th>Longueur</th>\n",
       "    </tr>\n",
       "  </thead>\n",
       "  <tbody>\n",
       "    <tr>\n",
       "      <th>9525</th>\n",
       "      <td>CES</td>\n",
       "      <td>7.623000e-13</td>\n",
       "      <td>CES</td>\n",
       "      <td>CES</td>\n",
       "      <td>TPFI_BOIS</td>\n",
       "      <td>0.02</td>\n",
       "      <td>TPFI-FOB-34</td>\n",
       "      <td>FACADE</td>\n",
       "      <td>2.220360</td>\n",
       "    </tr>\n",
       "    <tr>\n",
       "      <th>7014</th>\n",
       "      <td>INTERIEUR</td>\n",
       "      <td>0.000000e+00</td>\n",
       "      <td>MUR</td>\n",
       "      <td>MACONNERIE</td>\n",
       "      <td>.EC.R Béton TOUS chantier</td>\n",
       "      <td>-0.22</td>\n",
       "      <td>EIF_STR_Voile non-porteur 18cm</td>\n",
       "      <td>GO</td>\n",
       "      <td>1.379994</td>\n",
       "    </tr>\n",
       "  </tbody>\n",
       "</table>\n",
       "</div>"
      ],
      "text/plain": [
       "     013EC_Localisation  Décalage inférieur 012EC_Ouvrage  \\\n",
       "9525                CES        7.623000e-13           CES   \n",
       "7014          INTERIEUR        0.000000e+00           MUR   \n",
       "\n",
       "     014EC_Mode Constructif        Matériau structurel  Décalage supérieur  \\\n",
       "9525                    CES                  TPFI_BOIS                0.02   \n",
       "7014             MACONNERIE  .EC.R Béton TOUS chantier               -0.22   \n",
       "\n",
       "                                 Nom 011EC_Lot  Longueur  \n",
       "9525                     TPFI-FOB-34    FACADE  2.220360  \n",
       "7014  EIF_STR_Voile non-porteur 18cm        GO  1.379994  "
      ]
     },
     "execution_count": 49,
     "metadata": {},
     "output_type": "execute_result"
    }
   ],
   "source": [
    "selected_feature_list =  [ '013EC_Localisation',\n",
    "                            'Décalage inférieur',\n",
    "                            '012EC_Ouvrage',\n",
    "                            '014EC_Mode Constructif',\n",
    "                            'Matériau structurel',\n",
    "                            'Décalage supérieur',\n",
    "                            'Nom',\n",
    "                            '011EC_Lot',\n",
    "                            'Longueur',\n",
    "                            #'Famille et type'\n",
    "                            ]\n",
    "dfs_concat[selected_feature_list].sample(2)"
   ]
  },
  {
   "cell_type": "code",
   "execution_count": 50,
   "id": "b4ff4e13",
   "metadata": {},
   "outputs": [
    {
     "data": {
      "text/plain": [
       "(13508, 9)"
      ]
     },
     "execution_count": 50,
     "metadata": {},
     "output_type": "execute_result"
    }
   ],
   "source": [
    "df_clean = dfs_concat[selected_feature_list].dropna(axis=0, how='any')\n",
    "df_clean.shape"
   ]
  },
  {
   "cell_type": "code",
   "execution_count": 51,
   "id": "3a6e2acd",
   "metadata": {},
   "outputs": [
    {
     "data": {
      "text/plain": [
       "((13508, 3), (13508, 5))"
      ]
     },
     "execution_count": 51,
     "metadata": {},
     "output_type": "execute_result"
    }
   ],
   "source": [
    "#ignoring '011EC_Lot' for now / all GO\n",
    "X = df_clean.drop(columns = ['012EC_Ouvrage','013EC_Localisation','014EC_Mode Constructif','011EC_Lot'])\n",
    "y = df_clean[['012EC_Ouvrage','013EC_Localisation','014EC_Mode Constructif']]\n",
    "y.shape, X.shape"
   ]
  },
  {
   "cell_type": "code",
   "execution_count": 52,
   "id": "be116daa",
   "metadata": {},
   "outputs": [
    {
     "data": {
      "text/html": [
       "<div>\n",
       "<style scoped>\n",
       "    .dataframe tbody tr th:only-of-type {\n",
       "        vertical-align: middle;\n",
       "    }\n",
       "\n",
       "    .dataframe tbody tr th {\n",
       "        vertical-align: top;\n",
       "    }\n",
       "\n",
       "    .dataframe thead th {\n",
       "        text-align: right;\n",
       "    }\n",
       "</style>\n",
       "<table border=\"1\" class=\"dataframe\">\n",
       "  <thead>\n",
       "    <tr style=\"text-align: right;\">\n",
       "      <th></th>\n",
       "      <th>Décalage inférieur</th>\n",
       "      <th>Matériau structurel</th>\n",
       "      <th>Décalage supérieur</th>\n",
       "      <th>Nom</th>\n",
       "      <th>Longueur</th>\n",
       "    </tr>\n",
       "  </thead>\n",
       "  <tbody>\n",
       "    <tr>\n",
       "      <th>0</th>\n",
       "      <td>0.0</td>\n",
       "      <td>ECSA - Béton Voiles</td>\n",
       "      <td>0.0</td>\n",
       "      <td>Voile BA 20</td>\n",
       "      <td>6.200000</td>\n",
       "    </tr>\n",
       "    <tr>\n",
       "      <th>1</th>\n",
       "      <td>0.0</td>\n",
       "      <td>ECSA - Béton Voiles</td>\n",
       "      <td>0.0</td>\n",
       "      <td>Voile BA 20</td>\n",
       "      <td>2.907734</td>\n",
       "    </tr>\n",
       "    <tr>\n",
       "      <th>2</th>\n",
       "      <td>0.0</td>\n",
       "      <td>ECSA - Béton Voiles</td>\n",
       "      <td>0.0</td>\n",
       "      <td>Voile BA 20</td>\n",
       "      <td>3.780000</td>\n",
       "    </tr>\n",
       "    <tr>\n",
       "      <th>3</th>\n",
       "      <td>0.0</td>\n",
       "      <td>ECSA - Béton Voiles</td>\n",
       "      <td>0.0</td>\n",
       "      <td>Voile BA 20</td>\n",
       "      <td>3.780000</td>\n",
       "    </tr>\n",
       "    <tr>\n",
       "      <th>4</th>\n",
       "      <td>0.0</td>\n",
       "      <td>ECSA - Béton Voiles</td>\n",
       "      <td>0.0</td>\n",
       "      <td>Voile BA 20</td>\n",
       "      <td>4.850000</td>\n",
       "    </tr>\n",
       "    <tr>\n",
       "      <th>...</th>\n",
       "      <td>...</td>\n",
       "      <td>...</td>\n",
       "      <td>...</td>\n",
       "      <td>...</td>\n",
       "      <td>...</td>\n",
       "    </tr>\n",
       "    <tr>\n",
       "      <th>13628</th>\n",
       "      <td>0.0</td>\n",
       "      <td>&lt;Par catégorie&gt;</td>\n",
       "      <td>0.0</td>\n",
       "      <td>ECRL_MOB_EP15cm</td>\n",
       "      <td>12.790926</td>\n",
       "    </tr>\n",
       "    <tr>\n",
       "      <th>13629</th>\n",
       "      <td>0.0</td>\n",
       "      <td>&lt;Par catégorie&gt;</td>\n",
       "      <td>0.0</td>\n",
       "      <td>ECRL_MOB_EP15cm</td>\n",
       "      <td>14.375674</td>\n",
       "    </tr>\n",
       "    <tr>\n",
       "      <th>13630</th>\n",
       "      <td>0.0</td>\n",
       "      <td>&lt;Par catégorie&gt;</td>\n",
       "      <td>0.0</td>\n",
       "      <td>ECRL_MUR_EP20cm</td>\n",
       "      <td>7.319774</td>\n",
       "    </tr>\n",
       "    <tr>\n",
       "      <th>13631</th>\n",
       "      <td>0.0</td>\n",
       "      <td>&lt;Par catégorie&gt;</td>\n",
       "      <td>0.0</td>\n",
       "      <td>ECRL_MUR_EP20cm</td>\n",
       "      <td>3.199963</td>\n",
       "    </tr>\n",
       "    <tr>\n",
       "      <th>13632</th>\n",
       "      <td>0.0</td>\n",
       "      <td>&lt;Par catégorie&gt;</td>\n",
       "      <td>0.0</td>\n",
       "      <td>ECRL_MOB_EP15cm</td>\n",
       "      <td>14.391712</td>\n",
       "    </tr>\n",
       "  </tbody>\n",
       "</table>\n",
       "<p>13508 rows × 5 columns</p>\n",
       "</div>"
      ],
      "text/plain": [
       "       Décalage inférieur  Matériau structurel  Décalage supérieur  \\\n",
       "0                     0.0  ECSA - Béton Voiles                 0.0   \n",
       "1                     0.0  ECSA - Béton Voiles                 0.0   \n",
       "2                     0.0  ECSA - Béton Voiles                 0.0   \n",
       "3                     0.0  ECSA - Béton Voiles                 0.0   \n",
       "4                     0.0  ECSA - Béton Voiles                 0.0   \n",
       "...                   ...                  ...                 ...   \n",
       "13628                 0.0      <Par catégorie>                 0.0   \n",
       "13629                 0.0      <Par catégorie>                 0.0   \n",
       "13630                 0.0      <Par catégorie>                 0.0   \n",
       "13631                 0.0      <Par catégorie>                 0.0   \n",
       "13632                 0.0      <Par catégorie>                 0.0   \n",
       "\n",
       "                   Nom   Longueur  \n",
       "0          Voile BA 20   6.200000  \n",
       "1          Voile BA 20   2.907734  \n",
       "2          Voile BA 20   3.780000  \n",
       "3          Voile BA 20   3.780000  \n",
       "4          Voile BA 20   4.850000  \n",
       "...                ...        ...  \n",
       "13628  ECRL_MOB_EP15cm  12.790926  \n",
       "13629  ECRL_MOB_EP15cm  14.375674  \n",
       "13630  ECRL_MUR_EP20cm   7.319774  \n",
       "13631  ECRL_MUR_EP20cm   3.199963  \n",
       "13632  ECRL_MOB_EP15cm  14.391712  \n",
       "\n",
       "[13508 rows x 5 columns]"
      ]
     },
     "execution_count": 52,
     "metadata": {},
     "output_type": "execute_result"
    }
   ],
   "source": [
    "X"
   ]
  },
  {
   "cell_type": "code",
   "execution_count": 53,
   "id": "5db035aa",
   "metadata": {},
   "outputs": [
    {
     "data": {
      "text/html": [
       "<div>\n",
       "<style scoped>\n",
       "    .dataframe tbody tr th:only-of-type {\n",
       "        vertical-align: middle;\n",
       "    }\n",
       "\n",
       "    .dataframe tbody tr th {\n",
       "        vertical-align: top;\n",
       "    }\n",
       "\n",
       "    .dataframe thead th {\n",
       "        text-align: right;\n",
       "    }\n",
       "</style>\n",
       "<table border=\"1\" class=\"dataframe\">\n",
       "  <thead>\n",
       "    <tr style=\"text-align: right;\">\n",
       "      <th></th>\n",
       "      <th>012EC_Ouvrage</th>\n",
       "      <th>013EC_Localisation</th>\n",
       "      <th>014EC_Mode Constructif</th>\n",
       "    </tr>\n",
       "  </thead>\n",
       "  <tbody>\n",
       "    <tr>\n",
       "      <th>0</th>\n",
       "      <td>MUR</td>\n",
       "      <td>INTERIEUR</td>\n",
       "      <td>POUTRE VOILE</td>\n",
       "    </tr>\n",
       "    <tr>\n",
       "      <th>1</th>\n",
       "      <td>MUR</td>\n",
       "      <td>INTERIEUR</td>\n",
       "      <td>POUTRE VOILE</td>\n",
       "    </tr>\n",
       "    <tr>\n",
       "      <th>2</th>\n",
       "      <td>MUR</td>\n",
       "      <td>INTERIEUR</td>\n",
       "      <td>BANCHE</td>\n",
       "    </tr>\n",
       "    <tr>\n",
       "      <th>3</th>\n",
       "      <td>MUR</td>\n",
       "      <td>INTERIEUR</td>\n",
       "      <td>BANCHE</td>\n",
       "    </tr>\n",
       "    <tr>\n",
       "      <th>4</th>\n",
       "      <td>MUR</td>\n",
       "      <td>INTERIEUR</td>\n",
       "      <td>POUTRE VOILE</td>\n",
       "    </tr>\n",
       "    <tr>\n",
       "      <th>...</th>\n",
       "      <td>...</td>\n",
       "      <td>...</td>\n",
       "      <td>...</td>\n",
       "    </tr>\n",
       "    <tr>\n",
       "      <th>13628</th>\n",
       "      <td>MUR</td>\n",
       "      <td>EXTERIEUR</td>\n",
       "      <td>MOB</td>\n",
       "    </tr>\n",
       "    <tr>\n",
       "      <th>13629</th>\n",
       "      <td>MUR</td>\n",
       "      <td>EXTERIEUR</td>\n",
       "      <td>MOB</td>\n",
       "    </tr>\n",
       "    <tr>\n",
       "      <th>13630</th>\n",
       "      <td>MUR</td>\n",
       "      <td>INTERIEUR</td>\n",
       "      <td>MACONNERIE</td>\n",
       "    </tr>\n",
       "    <tr>\n",
       "      <th>13631</th>\n",
       "      <td>MUR</td>\n",
       "      <td>EXTERIEUR</td>\n",
       "      <td>MACONNERIE</td>\n",
       "    </tr>\n",
       "    <tr>\n",
       "      <th>13632</th>\n",
       "      <td>MUR</td>\n",
       "      <td>EXTERIEUR</td>\n",
       "      <td>MOB</td>\n",
       "    </tr>\n",
       "  </tbody>\n",
       "</table>\n",
       "<p>13508 rows × 3 columns</p>\n",
       "</div>"
      ],
      "text/plain": [
       "      012EC_Ouvrage 013EC_Localisation 014EC_Mode Constructif\n",
       "0               MUR          INTERIEUR           POUTRE VOILE\n",
       "1               MUR          INTERIEUR           POUTRE VOILE\n",
       "2               MUR          INTERIEUR                 BANCHE\n",
       "3               MUR          INTERIEUR                 BANCHE\n",
       "4               MUR          INTERIEUR           POUTRE VOILE\n",
       "...             ...                ...                    ...\n",
       "13628           MUR          EXTERIEUR                    MOB\n",
       "13629           MUR          EXTERIEUR                    MOB\n",
       "13630           MUR          INTERIEUR             MACONNERIE\n",
       "13631           MUR          EXTERIEUR             MACONNERIE\n",
       "13632           MUR          EXTERIEUR                    MOB\n",
       "\n",
       "[13508 rows x 3 columns]"
      ]
     },
     "execution_count": 53,
     "metadata": {},
     "output_type": "execute_result"
    }
   ],
   "source": [
    "y"
   ]
  },
  {
   "cell_type": "code",
   "execution_count": 54,
   "id": "547e2fa6",
   "metadata": {},
   "outputs": [
    {
     "name": "stdout",
     "output_type": "stream",
     "text": [
      "the uniques for Décalage inférieur: 343\n",
      "the uniques for Matériau structurel: 25\n",
      "the uniques for Décalage supérieur: 532\n",
      "the uniques for Nom: 143\n",
      "the uniques for Longueur: 7750\n"
     ]
    }
   ],
   "source": [
    "for feat in X.columns:\n",
    "    print(f'the uniques for {feat}: {len(X[feat].unique())}')\n"
   ]
  },
  {
   "cell_type": "code",
   "execution_count": 55,
   "id": "450f9379",
   "metadata": {},
   "outputs": [
    {
     "data": {
      "text/plain": [
       "[array(['.EC.R Béton TOUS chantier', '<Par catégorie>', 'BRIQUES',\n",
       "        'BRIQUES RAL 1013', 'Blocs béton manufacturés', 'BÉTON', 'C25/30',\n",
       "        'C25/30 - béton standard', 'C25/30 - peaux extérieures prémurs',\n",
       "        'C25/30 - éléments préfa', 'EC - Béton', 'ECSA - Béton Voiles',\n",
       "        'EIF_STR - BETON', 'GOE-Béton Coulé sur Place',\n",
       "        'GOE-Béton Coulé sur Place-VNP',\n",
       "        'GOE-Béton Coulé sur place-1ere PHASE', 'GOE-Parpaings Creux',\n",
       "        'GOE-Parpaings Pleins', 'Maçonnerie',\n",
       "        'Maçonnerie - Parpaing creux', 'Maçonnerie - Parpaing plein',\n",
       "        'Maçonnerie - Voile BA', 'TPFI_BA', 'TPFI_BOIS', 'Verre'],\n",
       "       dtype=object)]"
      ]
     },
     "execution_count": 55,
     "metadata": {},
     "output_type": "execute_result"
    }
   ],
   "source": [
    "from sklearn.preprocessing import OneHotEncoder\n",
    "\n",
    "ohe = OneHotEncoder(sparse_output=False)\n",
    "ohe.fit(X[['Matériau structurel']])\n",
    "ohe.categories_"
   ]
  },
  {
   "cell_type": "code",
   "execution_count": 147,
   "id": "d6c8e2cf",
   "metadata": {},
   "outputs": [
    {
     "name": "stdout",
     "output_type": "stream",
     "text": [
      "Transforming Matériau structurel: 6 values\n",
      "Transforming Famille et type: 30 values\n"
     ]
    }
   ],
   "source": [
    "feats = ['Matériau structurel','Famille et type']\n",
    "for feat in feats:\n",
    "    print(f'Transforming {feat}: {len(X[feat].unique())} values')\n",
    "    ohe = OneHotEncoder(sparse_output=False)\n",
    "    ohe.fit(X[[feat]])\n",
    "    X[ohe.get_feature_names_out()] = ohe.transform(X[[feat]])\n",
    "    X.drop(columns=[feat], inplace=True)\n"
   ]
  },
  {
   "cell_type": "code",
   "execution_count": 148,
   "id": "6c944e09",
   "metadata": {},
   "outputs": [
    {
     "data": {
      "text/plain": [
       "(519, 40)"
      ]
     },
     "execution_count": 148,
     "metadata": {},
     "output_type": "execute_result"
    }
   ],
   "source": [
    "X.shape"
   ]
  },
  {
   "cell_type": "code",
   "execution_count": 149,
   "id": "2004bbf3",
   "metadata": {},
   "outputs": [
    {
     "data": {
      "text/plain": [
       "array(['POTEAU RECTANGULAIRE', 'POTEAU PARTICULIER', 'POTEAU CIRCULAIRE',\n",
       "       'MUR'], dtype=object)"
      ]
     },
     "execution_count": 149,
     "metadata": {},
     "output_type": "execute_result"
    }
   ],
   "source": [
    "y['012EC_Ouvrage'].unique()"
   ]
  },
  {
   "cell_type": "code",
   "execution_count": 150,
   "id": "a2b75b91",
   "metadata": {},
   "outputs": [
    {
     "name": "stderr",
     "output_type": "stream",
     "text": [
      "/tmp/ipykernel_16994/1705354856.py:6: SettingWithCopyWarning: \n",
      "A value is trying to be set on a copy of a slice from a DataFrame.\n",
      "Try using .loc[row_indexer,col_indexer] = value instead\n",
      "\n",
      "See the caveats in the documentation: https://pandas.pydata.org/pandas-docs/stable/user_guide/indexing.html#returning-a-view-versus-a-copy\n",
      "  y['ouvrage'] = y['012EC_Ouvrage'].apply(lambda x: labeler2[x])\n"
     ]
    }
   ],
   "source": [
    "labeler2 = {'POTEAU RECTANGULAIRE':0,\n",
    "           'POTEAU PARTICULIER':1,\n",
    "           'POTEAU CIRCULAIRE':2,\n",
    "           'MUR':3,\n",
    "}\n",
    "y['ouvrage'] = y['012EC_Ouvrage'].apply(lambda x: labeler2[x])"
   ]
  },
  {
   "cell_type": "code",
   "execution_count": 151,
   "id": "15aef736",
   "metadata": {},
   "outputs": [
    {
     "data": {
      "text/plain": [
       "array(['INTERIEUR', 'EXTERIEUR', 'COURANT', 'BASSINS PERIPHERIES'],\n",
       "      dtype=object)"
      ]
     },
     "execution_count": 151,
     "metadata": {},
     "output_type": "execute_result"
    }
   ],
   "source": [
    "y['013EC_Localisation'].unique()"
   ]
  },
  {
   "cell_type": "code",
   "execution_count": 152,
   "id": "78342cba",
   "metadata": {},
   "outputs": [
    {
     "name": "stderr",
     "output_type": "stream",
     "text": [
      "/tmp/ipykernel_16994/2827905674.py:6: SettingWithCopyWarning: \n",
      "A value is trying to be set on a copy of a slice from a DataFrame.\n",
      "Try using .loc[row_indexer,col_indexer] = value instead\n",
      "\n",
      "See the caveats in the documentation: https://pandas.pydata.org/pandas-docs/stable/user_guide/indexing.html#returning-a-view-versus-a-copy\n",
      "  y['local'] = y['013EC_Localisation'].apply(lambda x: labeler2[x])\n"
     ]
    }
   ],
   "source": [
    "labeler2 = {'INTERIEUR':0,\n",
    "           'EXTERIEUR':1,\n",
    "           'COURANT':2,\n",
    "           'BASSINS PERIPHERIES':3,\n",
    "}\n",
    "y['local'] = y['013EC_Localisation'].apply(lambda x: labeler2[x])"
   ]
  },
  {
   "cell_type": "code",
   "execution_count": 153,
   "id": "60a07ab1",
   "metadata": {},
   "outputs": [
    {
     "data": {
      "text/plain": [
       "array(['BANCHE', 'PREFA CHANTIER', 'PREFA USINE', 'CARTON'], dtype=object)"
      ]
     },
     "execution_count": 153,
     "metadata": {},
     "output_type": "execute_result"
    }
   ],
   "source": [
    "y['014EC_Mode Constructif'].unique()"
   ]
  },
  {
   "cell_type": "code",
   "execution_count": 154,
   "id": "09181f6b",
   "metadata": {},
   "outputs": [
    {
     "name": "stderr",
     "output_type": "stream",
     "text": [
      "/tmp/ipykernel_16994/1203657966.py:7: SettingWithCopyWarning: \n",
      "A value is trying to be set on a copy of a slice from a DataFrame.\n",
      "Try using .loc[row_indexer,col_indexer] = value instead\n",
      "\n",
      "See the caveats in the documentation: https://pandas.pydata.org/pandas-docs/stable/user_guide/indexing.html#returning-a-view-versus-a-copy\n",
      "  y['const'] = y['014EC_Mode Constructif'].apply(lambda x: labeler1[x])\n"
     ]
    }
   ],
   "source": [
    "y['014EC_Mode Constructif'].unique()\n",
    "labeler1 = {'BANCHE':0,\n",
    "           'PREFA CHANTIER':1,\n",
    "           'PREFA USINE':2,\n",
    "           'CARTON':3,\n",
    "       }\n",
    "y['const'] = y['014EC_Mode Constructif'].apply(lambda x: labeler1[x])"
   ]
  },
  {
   "cell_type": "code",
   "execution_count": 139,
   "id": "27c85c70",
   "metadata": {},
   "outputs": [
    {
     "data": {
      "text/html": [
       "<div>\n",
       "<style scoped>\n",
       "    .dataframe tbody tr th:only-of-type {\n",
       "        vertical-align: middle;\n",
       "    }\n",
       "\n",
       "    .dataframe tbody tr th {\n",
       "        vertical-align: top;\n",
       "    }\n",
       "\n",
       "    .dataframe thead th {\n",
       "        text-align: right;\n",
       "    }\n",
       "</style>\n",
       "<table border=\"1\" class=\"dataframe\">\n",
       "  <thead>\n",
       "    <tr style=\"text-align: right;\">\n",
       "      <th></th>\n",
       "      <th>012EC_Ouvrage</th>\n",
       "      <th>013EC_Localisation</th>\n",
       "      <th>014EC_Mode Constructif</th>\n",
       "      <th>local</th>\n",
       "      <th>Ouvrage</th>\n",
       "      <th>construc</th>\n",
       "    </tr>\n",
       "  </thead>\n",
       "  <tbody>\n",
       "    <tr>\n",
       "      <th>515</th>\n",
       "      <td>POTEAU RECTANGULAIRE</td>\n",
       "      <td>INTERIEUR</td>\n",
       "      <td>CARTON</td>\n",
       "      <td>0</td>\n",
       "      <td>0</td>\n",
       "      <td>3</td>\n",
       "    </tr>\n",
       "  </tbody>\n",
       "</table>\n",
       "</div>"
      ],
      "text/plain": [
       "            012EC_Ouvrage 013EC_Localisation 014EC_Mode Constructif  local  \\\n",
       "515  POTEAU RECTANGULAIRE          INTERIEUR                 CARTON      0   \n",
       "\n",
       "     Ouvrage  construc  \n",
       "515        0         3  "
      ]
     },
     "execution_count": 139,
     "metadata": {},
     "output_type": "execute_result"
    }
   ],
   "source": [
    "y.sample(1)"
   ]
  },
  {
   "cell_type": "code",
   "execution_count": 164,
   "id": "e550ea1f",
   "metadata": {},
   "outputs": [
    {
     "data": {
      "text/html": [
       "<style>#sk-container-id-9 {color: black;}#sk-container-id-9 pre{padding: 0;}#sk-container-id-9 div.sk-toggleable {background-color: white;}#sk-container-id-9 label.sk-toggleable__label {cursor: pointer;display: block;width: 100%;margin-bottom: 0;padding: 0.3em;box-sizing: border-box;text-align: center;}#sk-container-id-9 label.sk-toggleable__label-arrow:before {content: \"▸\";float: left;margin-right: 0.25em;color: #696969;}#sk-container-id-9 label.sk-toggleable__label-arrow:hover:before {color: black;}#sk-container-id-9 div.sk-estimator:hover label.sk-toggleable__label-arrow:before {color: black;}#sk-container-id-9 div.sk-toggleable__content {max-height: 0;max-width: 0;overflow: hidden;text-align: left;background-color: #f0f8ff;}#sk-container-id-9 div.sk-toggleable__content pre {margin: 0.2em;color: black;border-radius: 0.25em;background-color: #f0f8ff;}#sk-container-id-9 input.sk-toggleable__control:checked~div.sk-toggleable__content {max-height: 200px;max-width: 100%;overflow: auto;}#sk-container-id-9 input.sk-toggleable__control:checked~label.sk-toggleable__label-arrow:before {content: \"▾\";}#sk-container-id-9 div.sk-estimator input.sk-toggleable__control:checked~label.sk-toggleable__label {background-color: #d4ebff;}#sk-container-id-9 div.sk-label input.sk-toggleable__control:checked~label.sk-toggleable__label {background-color: #d4ebff;}#sk-container-id-9 input.sk-hidden--visually {border: 0;clip: rect(1px 1px 1px 1px);clip: rect(1px, 1px, 1px, 1px);height: 1px;margin: -1px;overflow: hidden;padding: 0;position: absolute;width: 1px;}#sk-container-id-9 div.sk-estimator {font-family: monospace;background-color: #f0f8ff;border: 1px dotted black;border-radius: 0.25em;box-sizing: border-box;margin-bottom: 0.5em;}#sk-container-id-9 div.sk-estimator:hover {background-color: #d4ebff;}#sk-container-id-9 div.sk-parallel-item::after {content: \"\";width: 100%;border-bottom: 1px solid gray;flex-grow: 1;}#sk-container-id-9 div.sk-label:hover label.sk-toggleable__label {background-color: #d4ebff;}#sk-container-id-9 div.sk-serial::before {content: \"\";position: absolute;border-left: 1px solid gray;box-sizing: border-box;top: 0;bottom: 0;left: 50%;z-index: 0;}#sk-container-id-9 div.sk-serial {display: flex;flex-direction: column;align-items: center;background-color: white;padding-right: 0.2em;padding-left: 0.2em;position: relative;}#sk-container-id-9 div.sk-item {position: relative;z-index: 1;}#sk-container-id-9 div.sk-parallel {display: flex;align-items: stretch;justify-content: center;background-color: white;position: relative;}#sk-container-id-9 div.sk-item::before, #sk-container-id-9 div.sk-parallel-item::before {content: \"\";position: absolute;border-left: 1px solid gray;box-sizing: border-box;top: 0;bottom: 0;left: 50%;z-index: -1;}#sk-container-id-9 div.sk-parallel-item {display: flex;flex-direction: column;z-index: 1;position: relative;background-color: white;}#sk-container-id-9 div.sk-parallel-item:first-child::after {align-self: flex-end;width: 50%;}#sk-container-id-9 div.sk-parallel-item:last-child::after {align-self: flex-start;width: 50%;}#sk-container-id-9 div.sk-parallel-item:only-child::after {width: 0;}#sk-container-id-9 div.sk-dashed-wrapped {border: 1px dashed gray;margin: 0 0.4em 0.5em 0.4em;box-sizing: border-box;padding-bottom: 0.4em;background-color: white;}#sk-container-id-9 div.sk-label label {font-family: monospace;font-weight: bold;display: inline-block;line-height: 1.2em;}#sk-container-id-9 div.sk-label-container {text-align: center;}#sk-container-id-9 div.sk-container {/* jupyter's `normalize.less` sets `[hidden] { display: none; }` but bootstrap.min.css set `[hidden] { display: none !important; }` so we also need the `!important` here to be able to override the default hidden behavior on the sphinx rendered scikit-learn.org. See: https://github.com/scikit-learn/scikit-learn/issues/21755 */display: inline-block !important;position: relative;}#sk-container-id-9 div.sk-text-repr-fallback {display: none;}</style><div id=\"sk-container-id-9\" class=\"sk-top-container\"><div class=\"sk-text-repr-fallback\"><pre>DummyClassifier(strategy=&#x27;stratified&#x27;)</pre><b>In a Jupyter environment, please rerun this cell to show the HTML representation or trust the notebook. <br />On GitHub, the HTML representation is unable to render, please try loading this page with nbviewer.org.</b></div><div class=\"sk-container\" hidden><div class=\"sk-item\"><div class=\"sk-estimator sk-toggleable\"><input class=\"sk-toggleable__control sk-hidden--visually\" id=\"sk-estimator-id-9\" type=\"checkbox\" checked><label for=\"sk-estimator-id-9\" class=\"sk-toggleable__label sk-toggleable__label-arrow\">DummyClassifier</label><div class=\"sk-toggleable__content\"><pre>DummyClassifier(strategy=&#x27;stratified&#x27;)</pre></div></div></div></div></div>"
      ],
      "text/plain": [
       "DummyClassifier(strategy='stratified')"
      ]
     },
     "execution_count": 164,
     "metadata": {},
     "output_type": "execute_result"
    }
   ],
   "source": [
    "from sklearn.dummy import DummyClassifier\n",
    "\n",
    "\n",
    "dummy_clf_local = DummyClassifier(strategy=\"stratified\")\n",
    "dummy_clf_local.fit(X, y.local)\n"
   ]
  },
  {
   "cell_type": "code",
   "execution_count": 165,
   "id": "6d217a95",
   "metadata": {},
   "outputs": [
    {
     "data": {
      "text/plain": [
       "{0, 1, 2, 3}"
      ]
     },
     "execution_count": 165,
     "metadata": {},
     "output_type": "execute_result"
    }
   ],
   "source": [
    "set(dummy_clf_local.predict(X))\n"
   ]
  },
  {
   "cell_type": "code",
   "execution_count": null,
   "id": "843c755e",
   "metadata": {},
   "outputs": [
    {
     "data": {
      "text/plain": [
       "0.49710982658959535"
      ]
     },
     "execution_count": 166,
     "metadata": {},
     "output_type": "execute_result"
    }
   ],
   "source": [
    "dummy_clf_local.score(X, y.local)"
   ]
  },
  {
   "cell_type": "code",
   "execution_count": 191,
   "id": "7fd75b2b",
   "metadata": {},
   "outputs": [
    {
     "data": {
      "text/html": [
       "<style>#sk-container-id-13 {color: black;}#sk-container-id-13 pre{padding: 0;}#sk-container-id-13 div.sk-toggleable {background-color: white;}#sk-container-id-13 label.sk-toggleable__label {cursor: pointer;display: block;width: 100%;margin-bottom: 0;padding: 0.3em;box-sizing: border-box;text-align: center;}#sk-container-id-13 label.sk-toggleable__label-arrow:before {content: \"▸\";float: left;margin-right: 0.25em;color: #696969;}#sk-container-id-13 label.sk-toggleable__label-arrow:hover:before {color: black;}#sk-container-id-13 div.sk-estimator:hover label.sk-toggleable__label-arrow:before {color: black;}#sk-container-id-13 div.sk-toggleable__content {max-height: 0;max-width: 0;overflow: hidden;text-align: left;background-color: #f0f8ff;}#sk-container-id-13 div.sk-toggleable__content pre {margin: 0.2em;color: black;border-radius: 0.25em;background-color: #f0f8ff;}#sk-container-id-13 input.sk-toggleable__control:checked~div.sk-toggleable__content {max-height: 200px;max-width: 100%;overflow: auto;}#sk-container-id-13 input.sk-toggleable__control:checked~label.sk-toggleable__label-arrow:before {content: \"▾\";}#sk-container-id-13 div.sk-estimator input.sk-toggleable__control:checked~label.sk-toggleable__label {background-color: #d4ebff;}#sk-container-id-13 div.sk-label input.sk-toggleable__control:checked~label.sk-toggleable__label {background-color: #d4ebff;}#sk-container-id-13 input.sk-hidden--visually {border: 0;clip: rect(1px 1px 1px 1px);clip: rect(1px, 1px, 1px, 1px);height: 1px;margin: -1px;overflow: hidden;padding: 0;position: absolute;width: 1px;}#sk-container-id-13 div.sk-estimator {font-family: monospace;background-color: #f0f8ff;border: 1px dotted black;border-radius: 0.25em;box-sizing: border-box;margin-bottom: 0.5em;}#sk-container-id-13 div.sk-estimator:hover {background-color: #d4ebff;}#sk-container-id-13 div.sk-parallel-item::after {content: \"\";width: 100%;border-bottom: 1px solid gray;flex-grow: 1;}#sk-container-id-13 div.sk-label:hover label.sk-toggleable__label {background-color: #d4ebff;}#sk-container-id-13 div.sk-serial::before {content: \"\";position: absolute;border-left: 1px solid gray;box-sizing: border-box;top: 0;bottom: 0;left: 50%;z-index: 0;}#sk-container-id-13 div.sk-serial {display: flex;flex-direction: column;align-items: center;background-color: white;padding-right: 0.2em;padding-left: 0.2em;position: relative;}#sk-container-id-13 div.sk-item {position: relative;z-index: 1;}#sk-container-id-13 div.sk-parallel {display: flex;align-items: stretch;justify-content: center;background-color: white;position: relative;}#sk-container-id-13 div.sk-item::before, #sk-container-id-13 div.sk-parallel-item::before {content: \"\";position: absolute;border-left: 1px solid gray;box-sizing: border-box;top: 0;bottom: 0;left: 50%;z-index: -1;}#sk-container-id-13 div.sk-parallel-item {display: flex;flex-direction: column;z-index: 1;position: relative;background-color: white;}#sk-container-id-13 div.sk-parallel-item:first-child::after {align-self: flex-end;width: 50%;}#sk-container-id-13 div.sk-parallel-item:last-child::after {align-self: flex-start;width: 50%;}#sk-container-id-13 div.sk-parallel-item:only-child::after {width: 0;}#sk-container-id-13 div.sk-dashed-wrapped {border: 1px dashed gray;margin: 0 0.4em 0.5em 0.4em;box-sizing: border-box;padding-bottom: 0.4em;background-color: white;}#sk-container-id-13 div.sk-label label {font-family: monospace;font-weight: bold;display: inline-block;line-height: 1.2em;}#sk-container-id-13 div.sk-label-container {text-align: center;}#sk-container-id-13 div.sk-container {/* jupyter's `normalize.less` sets `[hidden] { display: none; }` but bootstrap.min.css set `[hidden] { display: none !important; }` so we also need the `!important` here to be able to override the default hidden behavior on the sphinx rendered scikit-learn.org. See: https://github.com/scikit-learn/scikit-learn/issues/21755 */display: inline-block !important;position: relative;}#sk-container-id-13 div.sk-text-repr-fallback {display: none;}</style><div id=\"sk-container-id-13\" class=\"sk-top-container\"><div class=\"sk-text-repr-fallback\"><pre>DummyClassifier(strategy=&#x27;stratified&#x27;)</pre><b>In a Jupyter environment, please rerun this cell to show the HTML representation or trust the notebook. <br />On GitHub, the HTML representation is unable to render, please try loading this page with nbviewer.org.</b></div><div class=\"sk-container\" hidden><div class=\"sk-item\"><div class=\"sk-estimator sk-toggleable\"><input class=\"sk-toggleable__control sk-hidden--visually\" id=\"sk-estimator-id-13\" type=\"checkbox\" checked><label for=\"sk-estimator-id-13\" class=\"sk-toggleable__label sk-toggleable__label-arrow\">DummyClassifier</label><div class=\"sk-toggleable__content\"><pre>DummyClassifier(strategy=&#x27;stratified&#x27;)</pre></div></div></div></div></div>"
      ],
      "text/plain": [
       "DummyClassifier(strategy='stratified')"
      ]
     },
     "execution_count": 191,
     "metadata": {},
     "output_type": "execute_result"
    }
   ],
   "source": [
    "dummy_clf_construc = DummyClassifier(strategy=\"stratified\")\n",
    "dummy_clf_construc.fit(X, y.const)"
   ]
  },
  {
   "cell_type": "code",
   "execution_count": 192,
   "id": "406bbbbf",
   "metadata": {},
   "outputs": [
    {
     "data": {
      "text/plain": [
       "{0, 1, 2, 3}"
      ]
     },
     "execution_count": 192,
     "metadata": {},
     "output_type": "execute_result"
    }
   ],
   "source": [
    "set(dummy_clf_construc.predict(X))"
   ]
  },
  {
   "cell_type": "code",
   "execution_count": 193,
   "id": "1878a6e6",
   "metadata": {},
   "outputs": [
    {
     "data": {
      "text/plain": [
       "0.35645472061657035"
      ]
     },
     "execution_count": 193,
     "metadata": {},
     "output_type": "execute_result"
    }
   ],
   "source": [
    "dummy_clf_construc.score(X, y.const)"
   ]
  },
  {
   "cell_type": "code",
   "execution_count": 180,
   "id": "496f6f6c",
   "metadata": {},
   "outputs": [
    {
     "data": {
      "text/html": [
       "<style>#sk-container-id-12 {color: black;}#sk-container-id-12 pre{padding: 0;}#sk-container-id-12 div.sk-toggleable {background-color: white;}#sk-container-id-12 label.sk-toggleable__label {cursor: pointer;display: block;width: 100%;margin-bottom: 0;padding: 0.3em;box-sizing: border-box;text-align: center;}#sk-container-id-12 label.sk-toggleable__label-arrow:before {content: \"▸\";float: left;margin-right: 0.25em;color: #696969;}#sk-container-id-12 label.sk-toggleable__label-arrow:hover:before {color: black;}#sk-container-id-12 div.sk-estimator:hover label.sk-toggleable__label-arrow:before {color: black;}#sk-container-id-12 div.sk-toggleable__content {max-height: 0;max-width: 0;overflow: hidden;text-align: left;background-color: #f0f8ff;}#sk-container-id-12 div.sk-toggleable__content pre {margin: 0.2em;color: black;border-radius: 0.25em;background-color: #f0f8ff;}#sk-container-id-12 input.sk-toggleable__control:checked~div.sk-toggleable__content {max-height: 200px;max-width: 100%;overflow: auto;}#sk-container-id-12 input.sk-toggleable__control:checked~label.sk-toggleable__label-arrow:before {content: \"▾\";}#sk-container-id-12 div.sk-estimator input.sk-toggleable__control:checked~label.sk-toggleable__label {background-color: #d4ebff;}#sk-container-id-12 div.sk-label input.sk-toggleable__control:checked~label.sk-toggleable__label {background-color: #d4ebff;}#sk-container-id-12 input.sk-hidden--visually {border: 0;clip: rect(1px 1px 1px 1px);clip: rect(1px, 1px, 1px, 1px);height: 1px;margin: -1px;overflow: hidden;padding: 0;position: absolute;width: 1px;}#sk-container-id-12 div.sk-estimator {font-family: monospace;background-color: #f0f8ff;border: 1px dotted black;border-radius: 0.25em;box-sizing: border-box;margin-bottom: 0.5em;}#sk-container-id-12 div.sk-estimator:hover {background-color: #d4ebff;}#sk-container-id-12 div.sk-parallel-item::after {content: \"\";width: 100%;border-bottom: 1px solid gray;flex-grow: 1;}#sk-container-id-12 div.sk-label:hover label.sk-toggleable__label {background-color: #d4ebff;}#sk-container-id-12 div.sk-serial::before {content: \"\";position: absolute;border-left: 1px solid gray;box-sizing: border-box;top: 0;bottom: 0;left: 50%;z-index: 0;}#sk-container-id-12 div.sk-serial {display: flex;flex-direction: column;align-items: center;background-color: white;padding-right: 0.2em;padding-left: 0.2em;position: relative;}#sk-container-id-12 div.sk-item {position: relative;z-index: 1;}#sk-container-id-12 div.sk-parallel {display: flex;align-items: stretch;justify-content: center;background-color: white;position: relative;}#sk-container-id-12 div.sk-item::before, #sk-container-id-12 div.sk-parallel-item::before {content: \"\";position: absolute;border-left: 1px solid gray;box-sizing: border-box;top: 0;bottom: 0;left: 50%;z-index: -1;}#sk-container-id-12 div.sk-parallel-item {display: flex;flex-direction: column;z-index: 1;position: relative;background-color: white;}#sk-container-id-12 div.sk-parallel-item:first-child::after {align-self: flex-end;width: 50%;}#sk-container-id-12 div.sk-parallel-item:last-child::after {align-self: flex-start;width: 50%;}#sk-container-id-12 div.sk-parallel-item:only-child::after {width: 0;}#sk-container-id-12 div.sk-dashed-wrapped {border: 1px dashed gray;margin: 0 0.4em 0.5em 0.4em;box-sizing: border-box;padding-bottom: 0.4em;background-color: white;}#sk-container-id-12 div.sk-label label {font-family: monospace;font-weight: bold;display: inline-block;line-height: 1.2em;}#sk-container-id-12 div.sk-label-container {text-align: center;}#sk-container-id-12 div.sk-container {/* jupyter's `normalize.less` sets `[hidden] { display: none; }` but bootstrap.min.css set `[hidden] { display: none !important; }` so we also need the `!important` here to be able to override the default hidden behavior on the sphinx rendered scikit-learn.org. See: https://github.com/scikit-learn/scikit-learn/issues/21755 */display: inline-block !important;position: relative;}#sk-container-id-12 div.sk-text-repr-fallback {display: none;}</style><div id=\"sk-container-id-12\" class=\"sk-top-container\"><div class=\"sk-text-repr-fallback\"><pre>DummyClassifier(strategy=&#x27;stratified&#x27;)</pre><b>In a Jupyter environment, please rerun this cell to show the HTML representation or trust the notebook. <br />On GitHub, the HTML representation is unable to render, please try loading this page with nbviewer.org.</b></div><div class=\"sk-container\" hidden><div class=\"sk-item\"><div class=\"sk-estimator sk-toggleable\"><input class=\"sk-toggleable__control sk-hidden--visually\" id=\"sk-estimator-id-12\" type=\"checkbox\" checked><label for=\"sk-estimator-id-12\" class=\"sk-toggleable__label sk-toggleable__label-arrow\">DummyClassifier</label><div class=\"sk-toggleable__content\"><pre>DummyClassifier(strategy=&#x27;stratified&#x27;)</pre></div></div></div></div></div>"
      ],
      "text/plain": [
       "DummyClassifier(strategy='stratified')"
      ]
     },
     "execution_count": 180,
     "metadata": {},
     "output_type": "execute_result"
    }
   ],
   "source": [
    "dummy_clf_ouvrage = DummyClassifier(strategy=\"stratified\")\n",
    "dummy_clf_ouvrage.fit(X, y.ouvrage)"
   ]
  },
  {
   "cell_type": "code",
   "execution_count": 187,
   "id": "d6c98de6",
   "metadata": {},
   "outputs": [],
   "source": [
    "y_pred = dummy_clf_ouvrage.predict(X)"
   ]
  },
  {
   "cell_type": "code",
   "execution_count": 189,
   "id": "b3eefccd",
   "metadata": {},
   "outputs": [
    {
     "data": {
      "text/plain": [
       "0.35260115606936415"
      ]
     },
     "execution_count": 189,
     "metadata": {},
     "output_type": "execute_result"
    }
   ],
   "source": [
    "dummy_clf_ouvrage.score(y_pred, y.const)"
   ]
  }
 ],
 "metadata": {
  "kernelspec": {
   "display_name": "BImpredict2",
   "language": "python",
   "name": "python3"
  },
  "language_info": {
   "codemirror_mode": {
    "name": "ipython",
    "version": 3
   },
   "file_extension": ".py",
   "mimetype": "text/x-python",
   "name": "python",
   "nbconvert_exporter": "python",
   "pygments_lexer": "ipython3",
   "version": "3.10.6"
  }
 },
 "nbformat": 4,
 "nbformat_minor": 5
}
