{
 "cells": [
  {
   "cell_type": "code",
   "execution_count": 1,
   "id": "2cf5954c",
   "metadata": {},
   "outputs": [],
   "source": [
    "import numpy as np\n",
    "import os\n",
    "import pandas as pd\n",
    "import seaborn as sns\n",
    "import matplotlib as plt\n"
   ]
  },
  {
   "cell_type": "code",
   "execution_count": 2,
   "id": "ca8edf2c",
   "metadata": {},
   "outputs": [],
   "source": [
    "base_dir = \"../../raw_data/\"\n"
   ]
  },
  {
   "cell_type": "code",
   "execution_count": 3,
   "id": "41b72d73",
   "metadata": {},
   "outputs": [],
   "source": [
    "def import_csv(tableau, files):\n",
    "    dfs = []\n",
    "\n",
    "    for i in files:\n",
    "        csv_path = os.path.join(base_dir, f\"maquette{i}\", f\"{tableau}{i}.csv\")\n",
    "        if os.path.exists(csv_path):\n",
    "            # Cherche la ligne d'en-tête réelle\n",
    "            with open(csv_path, encoding=\"utf-8\") as f:\n",
    "                for idx, line in enumerate(f):\n",
    "                    if line.startswith(\"Id;\"):\n",
    "                        header_row = idx\n",
    "                        break\n",
    "            try:\n",
    "                df = pd.read_csv(csv_path, sep=';', decimal=\",\", header=header_row)\n",
    "                dfs.append(df)\n",
    "                print(f\"Chargé : {csv_path} ({df.shape[0]} lignes, {df.shape[1]} colonnes)\")\n",
    "                #print(df.head())\n",
    "            except Exception as e:\n",
    "                print(f\"Erreur de parsing : {csv_path} -> {e}\")\n",
    "        else:\n",
    "            print(f\"Fichier non trouvé : {csv_path}\")\n",
    "\n",
    "    if dfs:\n",
    "        dfs_concat = pd.concat(dfs, ignore_index=True)\n",
    "        print(f\"Total concaténé : {dfs_concat.shape[0]} lignes, {dfs_concat.shape[1]} colonnes\")\n",
    "    else:\n",
    "        dfs_concat = pd.DataFrame()\n",
    "        print(\"Aucun fichier murs.csv trouvé.\")\n",
    "\n",
    "    return dfs_concat\n"
   ]
  },
  {
   "cell_type": "code",
   "execution_count": null,
   "id": "af737d5f",
   "metadata": {},
   "outputs": [],
   "source": [
    "files = [1,2,3,4,5,6,11,12,13,14,15,16,17,18,19,20]\n",
    "dfs_concat = import_csv('murs', files)"
   ]
  },
  {
   "cell_type": "code",
   "execution_count": null,
   "id": "4d9085d4",
   "metadata": {},
   "outputs": [],
   "source": [
    "percent_missing = dfs_concat.isnull().sum() * 100 / len(dfs_concat)\n",
    "\n",
    "missing_value_df = pd.DataFrame({'column_name': dfs_concat.columns,\n",
    "                                 'percent_missing': percent_missing})"
   ]
  },
  {
   "cell_type": "code",
   "execution_count": null,
   "id": "f4ba8387",
   "metadata": {},
   "outputs": [],
   "source": [
    "feature_list = missing_value_df.sort_values('percent_missing',\n",
    "                                            ascending=False)['column_name'].to_list()"
   ]
  },
  {
   "cell_type": "code",
   "execution_count": null,
   "id": "ba490055",
   "metadata": {},
   "outputs": [],
   "source": [
    "selected_features_list = [\n",
    "    \"011EC_Lot\",\n",
    "    \"012EC_Ouvrage\",\n",
    "    \"013EC_Localisation\",\n",
    "    \"014EC_Mode Constructif\",\n",
    "    \"Epaisseur\",\n",
    "    \"Sols en intersection\",\n",
    "    \"Sols coupés (u)\",\n",
    "    \"Sols coupants (u)\",\n",
    "    \"Sol au-dessus\",\n",
    "    \"Sol en-dessous\",\n",
    "    \"Fenêtres\",\n",
    "    \"Portes\",\n",
    "    \"Ouvertures\",\n",
    "    #\"Murs imbriqués\",\n",
    "    \"Mur multicouche\",\n",
    "    \"Profil modifié\",\n",
    "    #\"Extension inférieure\",\n",
    "    #\"Extension supérieure\",\n",
    "    \"Partie inférieure attachée\",\n",
    "    \"Partie supérieure attachée\",\n",
    "    \"Décalage supérieur\",\n",
    "    \"Décalage inférieur\",\n",
    "    \"Matériau structurel\",\n",
    "    \"Famille et type\"\n",
    "]\n",
    "\n",
    "targets = [\n",
    "    \"011ec_lot\",\n",
    "    \"012ec_ouvrage\",\n",
    "    \"013ec_localisation\",\n",
    "    \"014ec_mode_constructif\"\n",
    "]\n",
    "\n",
    "df_clean = dfs_concat[selected_features_list].dropna(axis=0, how='any')\n",
    "df_clean.shape"
   ]
  },
  {
   "cell_type": "code",
   "execution_count": null,
   "id": "addabb0f",
   "metadata": {},
   "outputs": [],
   "source": [
    "#ignoring '011EC_Lot' for now / all GO\n",
    "X = df_clean.drop(columns = ['012EC_Ouvrage','013EC_Localisation','014EC_Mode Constructif','011EC_Lot'])\n",
    "y = df_clean[['012EC_Ouvrage','013EC_Localisation','014EC_Mode Constructif','011EC_Lot']]\n",
    "y.shape, X.shape"
   ]
  },
  {
   "cell_type": "code",
   "execution_count": null,
   "id": "c0fa8634",
   "metadata": {},
   "outputs": [],
   "source": [
    "for feat in X.columns:\n",
    "    print(f'the uniques for {feat}: {len(X[feat].unique())}')"
   ]
  },
  {
   "cell_type": "code",
   "execution_count": null,
   "id": "899754dd",
   "metadata": {},
   "outputs": [],
   "source": [
    "for feat in X.columns:\n",
    "    print(f'the uniques for {feat}: {len(X[feat].unique())} || They are: \\n {X[feat].unique()}')"
   ]
  },
  {
   "cell_type": "code",
   "execution_count": null,
   "id": "9b76f631",
   "metadata": {},
   "outputs": [],
   "source": [
    "#Boolean to 0/1 for\n",
    "bool_feats = ['Sol au-dessus', 'Sol en-dessous','Mur multicouche','Profil modifié']\n",
    "for feat in bool_feats:\n",
    "    X[feat] = X[feat].apply(lambda x: 1 if x == True else 0)"
   ]
  },
  {
   "cell_type": "markdown",
   "id": "d746d525",
   "metadata": {},
   "source": [
    "# SCALING"
   ]
  },
  {
   "cell_type": "code",
   "execution_count": null,
   "id": "6bb7fd70",
   "metadata": {},
   "outputs": [],
   "source": [
    "#features to scale:\n",
    "feats_to_scale = ['Epaisseur','Décalage supérieur','Décalage inférieur']\n",
    "\n",
    "#minmax scaling X features\n",
    "from sklearn.preprocessing import StandardScaler, MinMaxScaler\n",
    "\n",
    "#std_scaler = StandardScaler()\n",
    "\n",
    "for feat in feats_to_scale:\n",
    "    minmax_scaler = MinMaxScaler()\n",
    "    X[feat] = minmax_scaler.fit_transform(X[[feat]])"
   ]
  }
 ],
 "metadata": {
  "kernelspec": {
   "display_name": "BImpredict2",
   "language": "python",
   "name": "python3"
  },
  "language_info": {
   "codemirror_mode": {
    "name": "ipython",
    "version": 3
   },
   "file_extension": ".py",
   "mimetype": "text/x-python",
   "name": "python",
   "nbconvert_exporter": "python",
   "pygments_lexer": "ipython3",
   "version": "3.10.6"
  }
 },
 "nbformat": 4,
 "nbformat_minor": 5
}
