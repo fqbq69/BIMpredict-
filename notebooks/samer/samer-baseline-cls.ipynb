{
 "cells": [
  {
   "cell_type": "code",
   "execution_count": 2,
   "id": "2cf5954c",
   "metadata": {},
   "outputs": [],
   "source": [
    "import numpy as np\n",
    "import os\n",
    "import pandas as pd\n",
    "import seaborn as sns\n",
    "import matplotlib as plt\n"
   ]
  },
  {
   "cell_type": "code",
   "execution_count": 3,
   "id": "ca8edf2c",
   "metadata": {},
   "outputs": [],
   "source": [
    "base_dir = \"../../raw_data/\"\n"
   ]
  },
  {
   "cell_type": "code",
   "execution_count": 4,
   "id": "f03d0f41",
   "metadata": {},
   "outputs": [
    {
     "name": "stdout",
     "output_type": "stream",
     "text": [
      "Chargé : ../../raw_data/maquette1/murs1.csv (1589 lignes, 146 colonnes)\n",
      "Chargé : ../../raw_data/maquette2/murs2.csv (215 lignes, 149 colonnes)\n",
      "Chargé : ../../raw_data/maquette3/murs3.csv (203 lignes, 143 colonnes)\n",
      "Chargé : ../../raw_data/maquette4/murs4.csv (312 lignes, 96 colonnes)\n",
      "Chargé : ../../raw_data/maquette5/murs5.csv (345 lignes, 94 colonnes)\n",
      "Chargé : ../../raw_data/maquette6/murs6.csv (203 lignes, 91 colonnes)\n",
      "Total concaténé : 2867 lignes, 160 colonnes\n"
     ]
    },
    {
     "data": {
      "text/plain": [
       "(2867, 160)"
      ]
     },
     "execution_count": 4,
     "metadata": {},
     "output_type": "execute_result"
    }
   ],
   "source": [
    "dfs = []\n",
    "for i in range(1, 7):\n",
    "    murs_path = os.path.join(base_dir, f\"maquette{i}\", f\"murs{i}.csv\")\n",
    "    if os.path.exists(murs_path):\n",
    "        # Cherche la ligne d'en-tête réelle\n",
    "        with open(murs_path, encoding=\"utf-8\") as f:\n",
    "            for idx, line in enumerate(f):\n",
    "                if line.startswith(\"Id;\"):\n",
    "                    header_row = idx\n",
    "                    break\n",
    "        try:\n",
    "            df = pd.read_csv(murs_path, sep=';', decimal=\",\", header=header_row)\n",
    "            dfs.append(df)\n",
    "            print(f\"Chargé : {murs_path} ({df.shape[0]} lignes, {df.shape[1]} colonnes)\")\n",
    "            #print(df.head())\n",
    "        except Exception as e:\n",
    "            print(f\"Erreur de parsing : {murs_path} -> {e}\")\n",
    "    else:\n",
    "        print(f\"Fichier non trouvé : {murs_path}\")\n",
    "\n",
    "if dfs:\n",
    "    murs_concat = pd.concat(dfs, ignore_index=True)\n",
    "    print(f\"Total concaténé : {murs_concat.shape[0]} lignes, {murs_concat.shape[1]} colonnes\")\n",
    "else:\n",
    "    murs_concat = pd.DataFrame()\n",
    "    print(\"Aucun fichier murs.csv trouvé.\")\n",
    "\n",
    "murs_concat.shape"
   ]
  },
  {
   "cell_type": "code",
   "execution_count": 5,
   "id": "0daeade7",
   "metadata": {},
   "outputs": [
    {
     "data": {
      "text/html": [
       "<div>\n",
       "<style scoped>\n",
       "    .dataframe tbody tr th:only-of-type {\n",
       "        vertical-align: middle;\n",
       "    }\n",
       "\n",
       "    .dataframe tbody tr th {\n",
       "        vertical-align: top;\n",
       "    }\n",
       "\n",
       "    .dataframe thead th {\n",
       "        text-align: right;\n",
       "    }\n",
       "</style>\n",
       "<table border=\"1\" class=\"dataframe\">\n",
       "  <thead>\n",
       "    <tr style=\"text-align: right;\">\n",
       "      <th></th>\n",
       "      <th>Id</th>\n",
       "      <th>011EC_Lot</th>\n",
       "      <th>012EC_Ouvrage</th>\n",
       "      <th>013EC_Localisation</th>\n",
       "      <th>014EC_Mode Constructif</th>\n",
       "      <th>Nom</th>\n",
       "      <th>Hauteur</th>\n",
       "      <th>Epaisseur</th>\n",
       "      <th>AI</th>\n",
       "      <th>AS</th>\n",
       "      <th>...</th>\n",
       "      <th>EIF_STR - Impact</th>\n",
       "      <th>EC_Type de Mur</th>\n",
       "      <th>ID MONTAGE</th>\n",
       "      <th>Désignation système</th>\n",
       "      <th>Réf DT</th>\n",
       "      <th>Nature_Ouvrage</th>\n",
       "      <th>Batiment</th>\n",
       "      <th>Mur armé</th>\n",
       "      <th>Affichage poteau</th>\n",
       "      <th>NIVEAU_STRUCTURE</th>\n",
       "    </tr>\n",
       "  </thead>\n",
       "  <tbody>\n",
       "    <tr>\n",
       "      <th>2145</th>\n",
       "      <td>1789582</td>\n",
       "      <td>GO</td>\n",
       "      <td>MUR</td>\n",
       "      <td>INTERIEUR</td>\n",
       "      <td>MACONNERIE</td>\n",
       "      <td>Mur agglos ép.15cm</td>\n",
       "      <td>3.76</td>\n",
       "      <td>0.15</td>\n",
       "      <td>-0.13</td>\n",
       "      <td>3.63</td>\n",
       "      <td>...</td>\n",
       "      <td>NaN</td>\n",
       "      <td>NaN</td>\n",
       "      <td>NaN</td>\n",
       "      <td>NaN</td>\n",
       "      <td>NaN</td>\n",
       "      <td>agglos</td>\n",
       "      <td>NaN</td>\n",
       "      <td>0.0</td>\n",
       "      <td>0.0</td>\n",
       "      <td>0</td>\n",
       "    </tr>\n",
       "    <tr>\n",
       "      <th>842</th>\n",
       "      <td>979669</td>\n",
       "      <td>GO</td>\n",
       "      <td>MUR</td>\n",
       "      <td>EXTERIEUR</td>\n",
       "      <td>BANCHE</td>\n",
       "      <td>Voile BA 20</td>\n",
       "      <td>2.75</td>\n",
       "      <td>0.20</td>\n",
       "      <td>17.45</td>\n",
       "      <td>20.20</td>\n",
       "      <td>...</td>\n",
       "      <td>NaN</td>\n",
       "      <td>NaN</td>\n",
       "      <td>NaN</td>\n",
       "      <td>NaN</td>\n",
       "      <td>NaN</td>\n",
       "      <td>NaN</td>\n",
       "      <td>NaN</td>\n",
       "      <td>NaN</td>\n",
       "      <td>NaN</td>\n",
       "      <td>NaN</td>\n",
       "    </tr>\n",
       "    <tr>\n",
       "      <th>1624</th>\n",
       "      <td>336002</td>\n",
       "      <td>GO</td>\n",
       "      <td>MUR</td>\n",
       "      <td>CAGE ESCALIER</td>\n",
       "      <td>BANCHE</td>\n",
       "      <td>EIF_VOILE_INT_20</td>\n",
       "      <td>2.77</td>\n",
       "      <td>0.20</td>\n",
       "      <td>2.95</td>\n",
       "      <td>5.72</td>\n",
       "      <td>...</td>\n",
       "      <td>1.0</td>\n",
       "      <td>(aucun)</td>\n",
       "      <td>NaN</td>\n",
       "      <td>NaN</td>\n",
       "      <td>NaN</td>\n",
       "      <td>NaN</td>\n",
       "      <td>NaN</td>\n",
       "      <td>NaN</td>\n",
       "      <td>NaN</td>\n",
       "      <td>NaN</td>\n",
       "    </tr>\n",
       "  </tbody>\n",
       "</table>\n",
       "<p>3 rows × 160 columns</p>\n",
       "</div>"
      ],
      "text/plain": [
       "           Id 011EC_Lot 012EC_Ouvrage 013EC_Localisation  \\\n",
       "2145  1789582        GO           MUR          INTERIEUR   \n",
       "842    979669        GO           MUR          EXTERIEUR   \n",
       "1624   336002        GO           MUR      CAGE ESCALIER   \n",
       "\n",
       "     014EC_Mode Constructif                 Nom  Hauteur  Epaisseur     AI  \\\n",
       "2145             MACONNERIE  Mur agglos ép.15cm     3.76       0.15  -0.13   \n",
       "842                  BANCHE         Voile BA 20     2.75       0.20  17.45   \n",
       "1624                 BANCHE    EIF_VOILE_INT_20     2.77       0.20   2.95   \n",
       "\n",
       "         AS  ...  EIF_STR - Impact  EC_Type de Mur  ID MONTAGE  \\\n",
       "2145   3.63  ...               NaN             NaN         NaN   \n",
       "842   20.20  ...               NaN             NaN         NaN   \n",
       "1624   5.72  ...               1.0         (aucun)         NaN   \n",
       "\n",
       "      Désignation système Réf DT  Nature_Ouvrage  Batiment  Mur armé  \\\n",
       "2145                  NaN    NaN          agglos       NaN       0.0   \n",
       "842                   NaN    NaN             NaN       NaN       NaN   \n",
       "1624                  NaN    NaN             NaN       NaN       NaN   \n",
       "\n",
       "      Affichage poteau  NIVEAU_STRUCTURE  \n",
       "2145               0.0                 0  \n",
       "842                NaN               NaN  \n",
       "1624               NaN               NaN  \n",
       "\n",
       "[3 rows x 160 columns]"
      ]
     },
     "execution_count": 5,
     "metadata": {},
     "output_type": "execute_result"
    }
   ],
   "source": [
    "murs_concat.sample(3)"
   ]
  },
  {
   "cell_type": "markdown",
   "id": "479be204",
   "metadata": {},
   "source": [
    "### FEATURES SELECTION:"
   ]
  },
  {
   "cell_type": "code",
   "execution_count": 6,
   "id": "9e4f31db",
   "metadata": {},
   "outputs": [
    {
     "data": {
      "text/plain": [
       "(2867, 21)"
      ]
     },
     "execution_count": 6,
     "metadata": {},
     "output_type": "execute_result"
    }
   ],
   "source": [
    "df_feats_testing = [\n",
    "    \"Epaisseur\",\n",
    "    \"Sols en intersection\",\n",
    "    \"Sols coupés (u)\",\n",
    "    \"Sols coupants (u)\",\n",
    "    \"Sol au-dessus\",\n",
    "    \"Sol en-dessous\",\n",
    "    \"Fenêtres\",\n",
    "    \"Portes\",\n",
    "    \"Ouvertures\",\n",
    "    \"Murs imbriqués\",\n",
    "    \"Mur multicouche\",\n",
    "    \"Profil modifié\",\n",
    "    \"Extension inférieure\",\n",
    "    \"Extension supérieure\",\n",
    "    \"Partie inférieure attachée\",\n",
    "    \"Partie supérieure attachée\",\n",
    "    \"Décalage supérieur\",\n",
    "    \"Décalage inférieur\",\n",
    "    #\"Matériau structurel\"\n",
    "    '012EC_Ouvrage',\n",
    "    '013EC_Localisation',\n",
    "    '014EC_Mode Constructif'\n",
    "]\n",
    "\n",
    "df = murs_concat[df_feats_testing]\n",
    "df.shape"
   ]
  },
  {
   "cell_type": "code",
   "execution_count": 7,
   "id": "b4ff4e13",
   "metadata": {},
   "outputs": [
    {
     "data": {
      "text/plain": [
       "(2865, 21)"
      ]
     },
     "execution_count": 7,
     "metadata": {},
     "output_type": "execute_result"
    }
   ],
   "source": [
    "df_clean = df.dropna(axis=0, how='any')\n",
    "df_clean.shape"
   ]
  },
  {
   "cell_type": "code",
   "execution_count": 8,
   "id": "3a6e2acd",
   "metadata": {},
   "outputs": [
    {
     "data": {
      "text/plain": [
       "((2865, 3), (2865, 18))"
      ]
     },
     "execution_count": 8,
     "metadata": {},
     "output_type": "execute_result"
    }
   ],
   "source": [
    "#ignoring '011EC_Lot' for now / all GO\n",
    "X = df_clean.drop(columns = ['012EC_Ouvrage','013EC_Localisation','014EC_Mode Constructif'])\n",
    "y = df_clean[['012EC_Ouvrage','013EC_Localisation','014EC_Mode Constructif']]\n",
    "y.shape, X.shape"
   ]
  },
  {
   "cell_type": "code",
   "execution_count": 9,
   "id": "610fcb91",
   "metadata": {},
   "outputs": [
    {
     "data": {
      "image/png": "[encoded data removed]",
      "text/plain": [
       "<Figure size 640x480 with 1 Axes>"
      ]
     },
     "metadata": {},
     "output_type": "display_data"
    }
   ],
   "source": [
    "sns.histplot(y['013EC_Localisation']);"
   ]
  },
  {
   "cell_type": "code",
   "execution_count": 10,
   "id": "030cd856",
   "metadata": {},
   "outputs": [
    {
     "data": {
      "image/png": "[encoded data removed]",
      "text/plain": [
       "<Figure size 640x480 with 1 Axes>"
      ]
     },
     "metadata": {},
     "output_type": "display_data"
    }
   ],
   "source": [
    "sns.histplot(y['014EC_Mode Constructif']);"
   ]
  },
  {
   "cell_type": "code",
   "execution_count": 11,
   "id": "2004bbf3",
   "metadata": {},
   "outputs": [
    {
     "data": {
      "text/plain": [
       "array(['MUR', 'LIBAGE', 'MUR SOUTENEMENT', 'ACROTERE', 'RELEVE', 'POUTRE',\n",
       "       'MURET', 'QUAI BASSIN', 'BANQUETTE', 'RECHARGE',\n",
       "       'AMENAGEMENT BASSIN'], dtype=object)"
      ]
     },
     "execution_count": 11,
     "metadata": {},
     "output_type": "execute_result"
    }
   ],
   "source": [
    "y['012EC_Ouvrage'].unique()"
   ]
  },
  {
   "cell_type": "code",
   "execution_count": 12,
   "id": "60a07ab1",
   "metadata": {},
   "outputs": [
    {
     "data": {
      "text/plain": [
       "array(['POUTRE VOILE', 'BANCHE', 'MACONNERIE', 'COFFRE', 'PREMUR',\n",
       "       'COULE EN PLACE', 'PREFA CHANTIER'], dtype=object)"
      ]
     },
     "execution_count": 12,
     "metadata": {},
     "output_type": "execute_result"
    }
   ],
   "source": [
    "y['014EC_Mode Constructif'].unique()"
   ]
  },
  {
   "cell_type": "code",
   "execution_count": 13,
   "id": "09181f6b",
   "metadata": {},
   "outputs": [
    {
     "name": "stderr",
     "output_type": "stream",
     "text": [
      "/tmp/ipykernel_16935/4015429671.py:10: SettingWithCopyWarning: \n",
      "A value is trying to be set on a copy of a slice from a DataFrame.\n",
      "Try using .loc[row_indexer,col_indexer] = value instead\n",
      "\n",
      "See the caveats in the documentation: https://pandas.pydata.org/pandas-docs/stable/user_guide/indexing.html#returning-a-view-versus-a-copy\n",
      "  y['construc'] = y['014EC_Mode Constructif'].apply(lambda x: labeler1[x])\n"
     ]
    }
   ],
   "source": [
    "y['014EC_Mode Constructif'].unique()\n",
    "labeler1 = {'POUTRE VOILE':0,\n",
    "           'BANCHE':1,\n",
    "           'MACONNERIE':2,\n",
    "           'COFFRE':3,\n",
    "           'PREMUR':4,\n",
    "       'COULE EN PLACE':5,\n",
    "       'PREFA CHANTIER':6\n",
    "       }\n",
    "y['construc'] = y['014EC_Mode Constructif'].apply(lambda x: labeler1[x])"
   ]
  },
  {
   "cell_type": "code",
   "execution_count": 14,
   "id": "a2b75b91",
   "metadata": {},
   "outputs": [
    {
     "name": "stderr",
     "output_type": "stream",
     "text": [
      "/tmp/ipykernel_16935/192786651.py:13: SettingWithCopyWarning: \n",
      "A value is trying to be set on a copy of a slice from a DataFrame.\n",
      "Try using .loc[row_indexer,col_indexer] = value instead\n",
      "\n",
      "See the caveats in the documentation: https://pandas.pydata.org/pandas-docs/stable/user_guide/indexing.html#returning-a-view-versus-a-copy\n",
      "  y['local'] = y['013EC_Localisation'].apply(lambda x: labeler2[x])\n"
     ]
    }
   ],
   "source": [
    "y['013EC_Localisation'].unique()\n",
    "labeler2 = {'INTERIEUR':0,\n",
    "           'EXTERIEUR':1,\n",
    "           'JD':2,\n",
    "           'CAGE ESCALIER':3,\n",
    "           'TOITURE':4,\n",
    "       'CASQUETTE':5,\n",
    "       'BASSINS PERIPHERIES':6,\n",
    "       'BACS TAMPONS':7,\n",
    "       'BASSINS':8\n",
    "\n",
    "}\n",
    "y['local'] = y['013EC_Localisation'].apply(lambda x: labeler2[x])"
   ]
  },
  {
   "cell_type": "code",
   "execution_count": 15,
   "id": "27c85c70",
   "metadata": {},
   "outputs": [
    {
     "data": {
      "text/html": [
       "<div>\n",
       "<style scoped>\n",
       "    .dataframe tbody tr th:only-of-type {\n",
       "        vertical-align: middle;\n",
       "    }\n",
       "\n",
       "    .dataframe tbody tr th {\n",
       "        vertical-align: top;\n",
       "    }\n",
       "\n",
       "    .dataframe thead th {\n",
       "        text-align: right;\n",
       "    }\n",
       "</style>\n",
       "<table border=\"1\" class=\"dataframe\">\n",
       "  <thead>\n",
       "    <tr style=\"text-align: right;\">\n",
       "      <th></th>\n",
       "      <th>012EC_Ouvrage</th>\n",
       "      <th>013EC_Localisation</th>\n",
       "      <th>014EC_Mode Constructif</th>\n",
       "      <th>construc</th>\n",
       "      <th>local</th>\n",
       "    </tr>\n",
       "  </thead>\n",
       "  <tbody>\n",
       "    <tr>\n",
       "      <th>541</th>\n",
       "      <td>MUR</td>\n",
       "      <td>INTERIEUR</td>\n",
       "      <td>BANCHE</td>\n",
       "      <td>1</td>\n",
       "      <td>0</td>\n",
       "    </tr>\n",
       "  </tbody>\n",
       "</table>\n",
       "</div>"
      ],
      "text/plain": [
       "    012EC_Ouvrage 013EC_Localisation 014EC_Mode Constructif  construc  local\n",
       "541           MUR          INTERIEUR                 BANCHE         1      0"
      ]
     },
     "execution_count": 15,
     "metadata": {},
     "output_type": "execute_result"
    }
   ],
   "source": [
    "y.sample(1)"
   ]
  },
  {
   "cell_type": "code",
   "execution_count": 16,
   "id": "e550ea1f",
   "metadata": {},
   "outputs": [
    {
     "data": {
      "text/html": [
       "<style>#sk-container-id-1 {color: black;}#sk-container-id-1 pre{padding: 0;}#sk-container-id-1 div.sk-toggleable {background-color: white;}#sk-container-id-1 label.sk-toggleable__label {cursor: pointer;display: block;width: 100%;margin-bottom: 0;padding: 0.3em;box-sizing: border-box;text-align: center;}#sk-container-id-1 label.sk-toggleable__label-arrow:before {content: \"▸\";float: left;margin-right: 0.25em;color: #696969;}#sk-container-id-1 label.sk-toggleable__label-arrow:hover:before {color: black;}#sk-container-id-1 div.sk-estimator:hover label.sk-toggleable__label-arrow:before {color: black;}#sk-container-id-1 div.sk-toggleable__content {max-height: 0;max-width: 0;overflow: hidden;text-align: left;background-color: #f0f8ff;}#sk-container-id-1 div.sk-toggleable__content pre {margin: 0.2em;color: black;border-radius: 0.25em;background-color: #f0f8ff;}#sk-container-id-1 input.sk-toggleable__control:checked~div.sk-toggleable__content {max-height: 200px;max-width: 100%;overflow: auto;}#sk-container-id-1 input.sk-toggleable__control:checked~label.sk-toggleable__label-arrow:before {content: \"▾\";}#sk-container-id-1 div.sk-estimator input.sk-toggleable__control:checked~label.sk-toggleable__label {background-color: #d4ebff;}#sk-container-id-1 div.sk-label input.sk-toggleable__control:checked~label.sk-toggleable__label {background-color: #d4ebff;}#sk-container-id-1 input.sk-hidden--visually {border: 0;clip: rect(1px 1px 1px 1px);clip: rect(1px, 1px, 1px, 1px);height: 1px;margin: -1px;overflow: hidden;padding: 0;position: absolute;width: 1px;}#sk-container-id-1 div.sk-estimator {font-family: monospace;background-color: #f0f8ff;border: 1px dotted black;border-radius: 0.25em;box-sizing: border-box;margin-bottom: 0.5em;}#sk-container-id-1 div.sk-estimator:hover {background-color: #d4ebff;}#sk-container-id-1 div.sk-parallel-item::after {content: \"\";width: 100%;border-bottom: 1px solid gray;flex-grow: 1;}#sk-container-id-1 div.sk-label:hover label.sk-toggleable__label {background-color: #d4ebff;}#sk-container-id-1 div.sk-serial::before {content: \"\";position: absolute;border-left: 1px solid gray;box-sizing: border-box;top: 0;bottom: 0;left: 50%;z-index: 0;}#sk-container-id-1 div.sk-serial {display: flex;flex-direction: column;align-items: center;background-color: white;padding-right: 0.2em;padding-left: 0.2em;position: relative;}#sk-container-id-1 div.sk-item {position: relative;z-index: 1;}#sk-container-id-1 div.sk-parallel {display: flex;align-items: stretch;justify-content: center;background-color: white;position: relative;}#sk-container-id-1 div.sk-item::before, #sk-container-id-1 div.sk-parallel-item::before {content: \"\";position: absolute;border-left: 1px solid gray;box-sizing: border-box;top: 0;bottom: 0;left: 50%;z-index: -1;}#sk-container-id-1 div.sk-parallel-item {display: flex;flex-direction: column;z-index: 1;position: relative;background-color: white;}#sk-container-id-1 div.sk-parallel-item:first-child::after {align-self: flex-end;width: 50%;}#sk-container-id-1 div.sk-parallel-item:last-child::after {align-self: flex-start;width: 50%;}#sk-container-id-1 div.sk-parallel-item:only-child::after {width: 0;}#sk-container-id-1 div.sk-dashed-wrapped {border: 1px dashed gray;margin: 0 0.4em 0.5em 0.4em;box-sizing: border-box;padding-bottom: 0.4em;background-color: white;}#sk-container-id-1 div.sk-label label {font-family: monospace;font-weight: bold;display: inline-block;line-height: 1.2em;}#sk-container-id-1 div.sk-label-container {text-align: center;}#sk-container-id-1 div.sk-container {/* jupyter's `normalize.less` sets `[hidden] { display: none; }` but bootstrap.min.css set `[hidden] { display: none !important; }` so we also need the `!important` here to be able to override the default hidden behavior on the sphinx rendered scikit-learn.org. See: https://github.com/scikit-learn/scikit-learn/issues/21755 */display: inline-block !important;position: relative;}#sk-container-id-1 div.sk-text-repr-fallback {display: none;}</style><div id=\"sk-container-id-1\" class=\"sk-top-container\"><div class=\"sk-text-repr-fallback\"><pre>DummyClassifier()</pre><b>In a Jupyter environment, please rerun this cell to show the HTML representation or trust the notebook. <br />On GitHub, the HTML representation is unable to render, please try loading this page with nbviewer.org.</b></div><div class=\"sk-container\" hidden><div class=\"sk-item\"><div class=\"sk-estimator sk-toggleable\"><input class=\"sk-toggleable__control sk-hidden--visually\" id=\"sk-estimator-id-1\" type=\"checkbox\" checked><label for=\"sk-estimator-id-1\" class=\"sk-toggleable__label sk-toggleable__label-arrow\">DummyClassifier</label><div class=\"sk-toggleable__content\"><pre>DummyClassifier()</pre></div></div></div></div></div>"
      ],
      "text/plain": [
       "DummyClassifier()"
      ]
     },
     "execution_count": 16,
     "metadata": {},
     "output_type": "execute_result"
    }
   ],
   "source": [
    "from sklearn.dummy import DummyClassifier\n",
    "\n",
    "\n",
    "dummy_clf_local = DummyClassifier(strategy=\"prior\")\n",
    "dummy_clf_local.fit(X, y.local)\n"
   ]
  },
  {
   "cell_type": "code",
   "execution_count": 17,
   "id": "6d217a95",
   "metadata": {},
   "outputs": [
    {
     "data": {
      "text/plain": [
       "{1}"
      ]
     },
     "execution_count": 17,
     "metadata": {},
     "output_type": "execute_result"
    }
   ],
   "source": [
    "set(dummy_clf_local.predict(X))\n"
   ]
  },
  {
   "cell_type": "code",
   "execution_count": 18,
   "id": "843c755e",
   "metadata": {},
   "outputs": [
    {
     "data": {
      "text/plain": [
       "0.4816753926701571"
      ]
     },
     "execution_count": 18,
     "metadata": {},
     "output_type": "execute_result"
    }
   ],
   "source": [
    "dummy_clf_local.score(X, y.local)"
   ]
  },
  {
   "cell_type": "code",
   "execution_count": 19,
   "id": "7fd75b2b",
   "metadata": {},
   "outputs": [
    {
     "data": {
      "text/html": [
       "<style>#sk-container-id-2 {color: black;}#sk-container-id-2 pre{padding: 0;}#sk-container-id-2 div.sk-toggleable {background-color: white;}#sk-container-id-2 label.sk-toggleable__label {cursor: pointer;display: block;width: 100%;margin-bottom: 0;padding: 0.3em;box-sizing: border-box;text-align: center;}#sk-container-id-2 label.sk-toggleable__label-arrow:before {content: \"▸\";float: left;margin-right: 0.25em;color: #696969;}#sk-container-id-2 label.sk-toggleable__label-arrow:hover:before {color: black;}#sk-container-id-2 div.sk-estimator:hover label.sk-toggleable__label-arrow:before {color: black;}#sk-container-id-2 div.sk-toggleable__content {max-height: 0;max-width: 0;overflow: hidden;text-align: left;background-color: #f0f8ff;}#sk-container-id-2 div.sk-toggleable__content pre {margin: 0.2em;color: black;border-radius: 0.25em;background-color: #f0f8ff;}#sk-container-id-2 input.sk-toggleable__control:checked~div.sk-toggleable__content {max-height: 200px;max-width: 100%;overflow: auto;}#sk-container-id-2 input.sk-toggleable__control:checked~label.sk-toggleable__label-arrow:before {content: \"▾\";}#sk-container-id-2 div.sk-estimator input.sk-toggleable__control:checked~label.sk-toggleable__label {background-color: #d4ebff;}#sk-container-id-2 div.sk-label input.sk-toggleable__control:checked~label.sk-toggleable__label {background-color: #d4ebff;}#sk-container-id-2 input.sk-hidden--visually {border: 0;clip: rect(1px 1px 1px 1px);clip: rect(1px, 1px, 1px, 1px);height: 1px;margin: -1px;overflow: hidden;padding: 0;position: absolute;width: 1px;}#sk-container-id-2 div.sk-estimator {font-family: monospace;background-color: #f0f8ff;border: 1px dotted black;border-radius: 0.25em;box-sizing: border-box;margin-bottom: 0.5em;}#sk-container-id-2 div.sk-estimator:hover {background-color: #d4ebff;}#sk-container-id-2 div.sk-parallel-item::after {content: \"\";width: 100%;border-bottom: 1px solid gray;flex-grow: 1;}#sk-container-id-2 div.sk-label:hover label.sk-toggleable__label {background-color: #d4ebff;}#sk-container-id-2 div.sk-serial::before {content: \"\";position: absolute;border-left: 1px solid gray;box-sizing: border-box;top: 0;bottom: 0;left: 50%;z-index: 0;}#sk-container-id-2 div.sk-serial {display: flex;flex-direction: column;align-items: center;background-color: white;padding-right: 0.2em;padding-left: 0.2em;position: relative;}#sk-container-id-2 div.sk-item {position: relative;z-index: 1;}#sk-container-id-2 div.sk-parallel {display: flex;align-items: stretch;justify-content: center;background-color: white;position: relative;}#sk-container-id-2 div.sk-item::before, #sk-container-id-2 div.sk-parallel-item::before {content: \"\";position: absolute;border-left: 1px solid gray;box-sizing: border-box;top: 0;bottom: 0;left: 50%;z-index: -1;}#sk-container-id-2 div.sk-parallel-item {display: flex;flex-direction: column;z-index: 1;position: relative;background-color: white;}#sk-container-id-2 div.sk-parallel-item:first-child::after {align-self: flex-end;width: 50%;}#sk-container-id-2 div.sk-parallel-item:last-child::after {align-self: flex-start;width: 50%;}#sk-container-id-2 div.sk-parallel-item:only-child::after {width: 0;}#sk-container-id-2 div.sk-dashed-wrapped {border: 1px dashed gray;margin: 0 0.4em 0.5em 0.4em;box-sizing: border-box;padding-bottom: 0.4em;background-color: white;}#sk-container-id-2 div.sk-label label {font-family: monospace;font-weight: bold;display: inline-block;line-height: 1.2em;}#sk-container-id-2 div.sk-label-container {text-align: center;}#sk-container-id-2 div.sk-container {/* jupyter's `normalize.less` sets `[hidden] { display: none; }` but bootstrap.min.css set `[hidden] { display: none !important; }` so we also need the `!important` here to be able to override the default hidden behavior on the sphinx rendered scikit-learn.org. See: https://github.com/scikit-learn/scikit-learn/issues/21755 */display: inline-block !important;position: relative;}#sk-container-id-2 div.sk-text-repr-fallback {display: none;}</style><div id=\"sk-container-id-2\" class=\"sk-top-container\"><div class=\"sk-text-repr-fallback\"><pre>DummyClassifier()</pre><b>In a Jupyter environment, please rerun this cell to show the HTML representation or trust the notebook. <br />On GitHub, the HTML representation is unable to render, please try loading this page with nbviewer.org.</b></div><div class=\"sk-container\" hidden><div class=\"sk-item\"><div class=\"sk-estimator sk-toggleable\"><input class=\"sk-toggleable__control sk-hidden--visually\" id=\"sk-estimator-id-2\" type=\"checkbox\" checked><label for=\"sk-estimator-id-2\" class=\"sk-toggleable__label sk-toggleable__label-arrow\">DummyClassifier</label><div class=\"sk-toggleable__content\"><pre>DummyClassifier()</pre></div></div></div></div></div>"
      ],
      "text/plain": [
       "DummyClassifier()"
      ]
     },
     "execution_count": 19,
     "metadata": {},
     "output_type": "execute_result"
    }
   ],
   "source": [
    "dummy_clf_construc = DummyClassifier(strategy=\"prior\")\n",
    "dummy_clf_construc.fit(X, y.construc)"
   ]
  },
  {
   "cell_type": "code",
   "execution_count": 20,
   "id": "406bbbbf",
   "metadata": {},
   "outputs": [
    {
     "data": {
      "text/plain": [
       "array([1, 1, 1, ..., 1, 1, 1])"
      ]
     },
     "execution_count": 20,
     "metadata": {},
     "output_type": "execute_result"
    }
   ],
   "source": [
    "dummy_clf_construc.predict(X)"
   ]
  },
  {
   "cell_type": "code",
   "execution_count": 21,
   "id": "1878a6e6",
   "metadata": {},
   "outputs": [
    {
     "data": {
      "text/plain": [
       "0.7155322862129145"
      ]
     },
     "execution_count": 21,
     "metadata": {},
     "output_type": "execute_result"
    }
   ],
   "source": [
    "dummy_clf_construc.score(dummy_clf_construc.predict(X), y.construc)"
   ]
  },
  {
   "cell_type": "code",
   "execution_count": null,
   "id": "496f6f6c",
   "metadata": {},
   "outputs": [],
   "source": []
  },
  {
   "cell_type": "code",
   "execution_count": null,
   "id": "d6c98de6",
   "metadata": {},
   "outputs": [],
   "source": []
  }
 ],
 "metadata": {
  "kernelspec": {
   "display_name": "BImpredict2",
   "language": "python",
   "name": "python3"
  },
  "language_info": {
   "codemirror_mode": {
    "name": "ipython",
    "version": 3
   },
   "file_extension": ".py",
   "mimetype": "text/x-python",
   "name": "python",
   "nbconvert_exporter": "python",
   "pygments_lexer": "ipython3",
   "version": "3.10.6"
  }
 },
 "nbformat": 4,
 "nbformat_minor": 5
}
