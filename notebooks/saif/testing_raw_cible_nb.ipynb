{
 "cells": [
  {
   "cell_type": "markdown",
   "id": "83a3dbdd",
   "metadata": {
    "vscode": {
     "languageId": "plaintext"
    }
   },
   "source": [
    "### Testing Raw Cible WB"
   ]
  },
  {
   "cell_type": "markdown",
   "id": "b088204a",
   "metadata": {},
   "source": [
    "## Part 1: Setup and Data Loading\n"
   ]
  },
  {
   "cell_type": "code",
   "execution_count": 1,
   "id": "bed4dcd2",
   "metadata": {},
   "outputs": [
    {
     "name": "stdout",
     "output_type": "stream",
     "text": [
      "Requirement already satisfied: setuptools in /home/psyko/.pyenv/versions/3.10.6/envs/BImpredict2/lib/python3.10/site-packages (63.2.0)\n",
      "Requirement already satisfied: wheel in /home/psyko/.pyenv/versions/3.10.6/envs/BImpredict2/lib/python3.10/site-packages (0.45.1)\n",
      "Requirement already satisfied: cython in /home/psyko/.pyenv/versions/3.10.6/envs/BImpredict2/lib/python3.10/site-packages (3.1.1)\n",
      "Requirement already satisfied: statsmodels in /home/psyko/.pyenv/versions/3.10.6/envs/BImpredict2/lib/python3.10/site-packages (0.14.4)\n",
      "Requirement already satisfied: patsy>=0.5.6 in /home/psyko/.pyenv/versions/3.10.6/envs/BImpredict2/lib/python3.10/site-packages (from statsmodels) (1.0.1)\n",
      "Requirement already satisfied: scipy!=1.9.2,>=1.8 in /home/psyko/.pyenv/versions/3.10.6/envs/BImpredict2/lib/python3.10/site-packages (from statsmodels) (1.10.0)\n",
      "Requirement already satisfied: numpy<3,>=1.22.3 in /home/psyko/.pyenv/versions/3.10.6/envs/BImpredict2/lib/python3.10/site-packages (from statsmodels) (1.26.4)\n",
      "Requirement already satisfied: packaging>=21.3 in /home/psyko/.pyenv/versions/3.10.6/envs/BImpredict2/lib/python3.10/site-packages (from statsmodels) (25.0)\n",
      "Requirement already satisfied: pandas!=2.1.0,>=1.4 in /home/psyko/.pyenv/versions/3.10.6/envs/BImpredict2/lib/python3.10/site-packages (from statsmodels) (1.5.3)\n",
      "Requirement already satisfied: pytz>=2020.1 in /home/psyko/.pyenv/versions/3.10.6/envs/BImpredict2/lib/python3.10/site-packages (from pandas!=2.1.0,>=1.4->statsmodels) (2025.2)\n",
      "Requirement already satisfied: python-dateutil>=2.8.1 in /home/psyko/.pyenv/versions/3.10.6/envs/BImpredict2/lib/python3.10/site-packages (from pandas!=2.1.0,>=1.4->statsmodels) (2.9.0.post0)\n",
      "Requirement already satisfied: six>=1.5 in /home/psyko/.pyenv/versions/3.10.6/envs/BImpredict2/lib/python3.10/site-packages (from python-dateutil>=2.8.1->pandas!=2.1.0,>=1.4->statsmodels) (1.17.0)\n",
      "\n",
      "\u001b[1m[\u001b[0m\u001b[34;49mnotice\u001b[0m\u001b[1;39;49m]\u001b[0m\u001b[39;49m A new release of pip available: \u001b[0m\u001b[31;49m22.2.1\u001b[0m\u001b[39;49m -> \u001b[0m\u001b[32;49m25.1.1\u001b[0m\n",
      "\u001b[1m[\u001b[0m\u001b[34;49mnotice\u001b[0m\u001b[1;39;49m]\u001b[0m\u001b[39;49m To update, run: \u001b[0m\u001b[32;49mpip install --upgrade pip\u001b[0m\n",
      "Note: you may need to restart the kernel to use updated packages.\n",
      "Requirement already satisfied: kaleido in /home/psyko/.pyenv/versions/3.10.6/envs/BImpredict2/lib/python3.10/site-packages (0.2.1)\n",
      "\n",
      "\u001b[1m[\u001b[0m\u001b[34;49mnotice\u001b[0m\u001b[1;39;49m]\u001b[0m\u001b[39;49m A new release of pip available: \u001b[0m\u001b[31;49m22.2.1\u001b[0m\u001b[39;49m -> \u001b[0m\u001b[32;49m25.1.1\u001b[0m\n",
      "\u001b[1m[\u001b[0m\u001b[34;49mnotice\u001b[0m\u001b[1;39;49m]\u001b[0m\u001b[39;49m To update, run: \u001b[0m\u001b[32;49mpip install --upgrade pip\u001b[0m\n",
      "Note: you may need to restart the kernel to use updated packages.\n"
     ]
    }
   ],
   "source": [
    "### Dowload and install dependencies for the project\n",
    "# %matplotlib inline\n",
    "%pip install setuptools wheel cython statsmodels\n",
    "%pip install kaleido"
   ]
  },
  {
   "cell_type": "code",
   "execution_count": 2,
   "id": "7dfa8ae7",
   "metadata": {},
   "outputs": [
    {
     "name": "stdout",
     "output_type": "stream",
     "text": [
      "The autoreload extension is already loaded. To reload it, use:\n",
      "  %reload_ext autoreload\n"
     ]
    },
    {
     "name": "stderr",
     "output_type": "stream",
     "text": [
      "2025-06-05 15:35:48.272877: I tensorflow/core/platform/cpu_feature_guard.cc:193] This TensorFlow binary is optimized with oneAPI Deep Neural Network Library (oneDNN) to use the following CPU instructions in performance-critical operations:  AVX2 FMA\n",
      "To enable them in other operations, rebuild TensorFlow with the appropriate compiler flags.\n",
      "2025-06-05 15:35:48.492868: W tensorflow/stream_executor/platform/default/dso_loader.cc:64] Could not load dynamic library 'libcudart.so.11.0'; dlerror: libcudart.so.11.0: cannot open shared object file: No such file or directory\n",
      "2025-06-05 15:35:48.492950: I tensorflow/stream_executor/cuda/cudart_stub.cc:29] Ignore above cudart dlerror if you do not have a GPU set up on your machine.\n",
      "2025-06-05 15:35:48.536348: E tensorflow/stream_executor/cuda/cuda_blas.cc:2981] Unable to register cuBLAS factory: Attempting to register factory for plugin cuBLAS when one has already been registered\n",
      "2025-06-05 15:35:49.811862: W tensorflow/stream_executor/platform/default/dso_loader.cc:64] Could not load dynamic library 'libnvinfer.so.7'; dlerror: libnvinfer.so.7: cannot open shared object file: No such file or directory\n",
      "2025-06-05 15:35:49.812147: W tensorflow/stream_executor/platform/default/dso_loader.cc:64] Could not load dynamic library 'libnvinfer_plugin.so.7'; dlerror: libnvinfer_plugin.so.7: cannot open shared object file: No such file or directory\n",
      "2025-06-05 15:35:49.812164: W tensorflow/compiler/tf2tensorrt/utils/py_utils.cc:38] TF-TRT Warning: Cannot dlopen some TensorRT libraries. If you would like to use Nvidia GPU with TensorRT, please make sure the missing libraries mentioned above are installed properly.\n"
     ]
    }
   ],
   "source": [
    "### ====================\n",
    "### Importing libraries\n",
    "### ====================\n",
    "%load_ext autoreload\n",
    "%autoreload 2\n",
    "import sys\n",
    "import openpyxl\n",
    "import pandas as pd\n",
    "import numpy as np\n",
    "import matplotlib.pyplot as plt\n",
    "import seaborn as sns\n",
    "from sklearn.model_selection import train_test_split\n",
    "from sklearn.preprocessing import LabelEncoder, StandardScaler\n",
    "from sklearn.metrics import accuracy_score, classification_report\n",
    "from sklearn.ensemble import RandomForestClassifier, GradientBoostingClassifier\n",
    "from sklearn.svm import SVC\n",
    "from sklearn.linear_model import LogisticRegression\n",
    "from sklearn.neighbors import KNeighborsClassifier\n",
    "from sklearn.tree import DecisionTreeClassifier\n",
    "from sklearn.model_selection import cross_val_score\n",
    "from xgboost import XGBClassifier\n",
    "from lightgbm import LGBMClassifier\n",
    "\n",
    "#import shap\n",
    "import os\n",
    "import warnings\n",
    "\n",
    "import tensorflow as tf\n",
    "from tensorflow.keras.models import Sequential\n",
    "from tensorflow.keras.layers import Dense, Dropout, BatchNormalization\n",
    "from tensorflow.keras.callbacks import EarlyStopping, ModelCheckpoint\n",
    "from tensorflow.keras.optimizers import Adam\n",
    "from tensorflow.keras.utils import to_categorical\n",
    "### ====================\n",
    "### Set up visualization and warnings\n",
    "### ====================\n",
    "warnings.filterwarnings('ignore')\n",
    "plt.style.use('ggplot')\n",
    "pd.set_option('display.max_columns', None)\n",
    "# sns.set_palette('viridis')\n"
   ]
  },
  {
   "cell_type": "code",
   "execution_count": 3,
   "id": "53d491bd",
   "metadata": {},
   "outputs": [],
   "source": [
    "### ====================\n",
    "### File paths\n",
    "###  ===================\n",
    "# Create directories for model saving\n",
    "models_dir = '../../models'\n",
    "for model_type in ['simple_models', 'ml_models', 'dl_models']:\n",
    "    models_dir = os.path.join(models_dir, model_type)\n",
    "    os.makedirs(models_dir, exist_ok=True)\n",
    "\n",
    "# Load Excel file\n",
    "maquettes_path = \"../../data/raw/\"\n",
    "maquettes= [\"RawData-Cibles.xlsx\"]\n",
    "for maquette in maquettes:\n",
    "    maquettes_path = os.path.join(maquettes_path, maquette)\n",
    "sheets = [\"Mur\", \"Sols\", \"Poutre\", \"Poteaux\"]  # Adjusted based on your description\n",
    "\n",
    "\n",
    "## Import Pythoon Modules\n",
    "sys.path.append(\"../../module_python\")\n",
    "\n",
    "### Export Plots\n",
    "plots_folder = \"../../plot\"\n",
    "#os.makedirs(export_folder, exist_ok=True)\n"
   ]
  },
  {
   "cell_type": "code",
   "execution_count": 4,
   "id": "72fbf0b7",
   "metadata": {},
   "outputs": [
    {
     "name": "stdout",
     "output_type": "stream",
     "text": [
      "Data loaded successfully from the Excel file.\n",
      "Murs DataFrame Shape: (312, 96)\n",
      "Sols DataFrame Shape: (107, 94)\n",
      "Poutres DataFrame Shape: (246, 100)\n",
      "Poteaux DataFrame Shape: (68, 87)\n",
      "\n",
      "Murs DataFrame Preview:\n",
      "Index(['Id', '011EC_Lot', '012EC_Ouvrage', '013EC_Localisation',\n",
      "       '014EC_Mode Constructif', 'Nom', 'Hauteur', 'Epaisseur', 'AI', 'AS',\n",
      "       'Sols en intersection', 'Sols coupés (u)', 'Sols coupés (Ids)',\n",
      "       'Sols coupants (u)', 'Sols coupants (Ids)', 'Sol au-dessus',\n",
      "       'Sol en-dessous', 'Fenêtres', 'Portes', 'Ouvertures', 'Murs imbriqués',\n",
      "       'Mur multicouche', 'Mur empilé', 'Profil modifié', 'Image', 'Catégorie',\n",
      "       'Section', 'Type prédéfini d'IFC', 'Exporter au format IFC sous',\n",
      "       'Exporter au format IFC', 'IfcGUID', 'A une association',\n",
      "       'Enrobage d'armature - Autres faces',\n",
      "       'Enrobage d'armature - Face intérieure',\n",
      "       'Enrobage d'armature - Face extérieure', 'Variantes',\n",
      "       'Extension inférieure', 'Extension supérieure', 'Volume', 'Surface',\n",
      "       'Phase de démolition', 'Phase de création', 'Commentaires', 'Longueur',\n",
      "       'Famille et type', 'Famille', 'Type', 'Nom de la famille',\n",
      "       'Nom du type', 'ID du type', 'Lié au volume', 'Structure',\n",
      "       'Identifiant', 'Ligne de justification', 'Utilisation structurelle',\n",
      "       'Partie inférieure attachée', 'Partie supérieure attachée',\n",
      "       'Décalage supérieur', 'Décalage inférieur', 'Contrainte inférieure',\n",
      "       'Hauteur non contrainte', 'Contrainte supérieure', 'Limite de pièce',\n",
      "       'Nature_Ouvrage', 'Batiment', 'Mur armé', 'Affichage poteau',\n",
      "       'NIVEAU_STRUCTURE', 'Image du type', 'Note d'identification',\n",
      "       'Type: Type prédéfini d'IFC', 'Exporter le type au format IFC sous',\n",
      "       'Exporter le type au format IFC', 'Type IfcGUID', 'Modèle', 'Fabricant',\n",
      "       'Commentaires du type', 'URL', 'Description', 'Matériau structurel',\n",
      "       'Rugosité', 'Coefficient d'absorbance', 'Masse thermique',\n",
      "       'Résistance thermique (R)', 'Coefficient de transfert thermique (U)',\n",
      "       'Description de l'assemblage', 'Code d'assemblage',\n",
      "       'Retournement aux insertions', 'Retournement aux extrémités',\n",
      "       'Couleur vue détail faible', 'Motif vue détail faible',\n",
      "       'Marque de type', 'Protection contre l'incendie', 'Coût', 'Fonction',\n",
      "       'Largeur'],\n",
      "      dtype='object')\n",
      "\n",
      "Sols DataFrame Preview:\n",
      "Index(['Id', '011EC_Lot', '012EC_Ouvrage', '013EC_Localisation',\n",
      "       '014EC_Mode Constructif', 'Nom', 'Murs en intersection',\n",
      "       'Murs coupés (u)', 'Murs coupés (Ids)', 'Murs coupants (u)',\n",
      "       'Murs coupants (Ids)', 'Poutres en intersection', 'Poutres coupés (u)',\n",
      "       'Poutres coupés (Ids)', 'Poutres coupants (u)',\n",
      "       'Poutres coupants (Ids)', 'Poteaux en intersection',\n",
      "       'Poteaux coupés (u)', 'Poteaux coupés (Ids)', 'Poteaux coupants (u)',\n",
      "       'Poteaux coupants (Ids)', 'Ouvertures', 'Sol multicouche',\n",
      "       'Profil modifié', 'Image', 'Catégorie', 'Type prédéfini d'IFC',\n",
      "       'Exporter au format IFC sous', 'Exporter au format IFC', 'IfcGUID',\n",
      "       'A une association', 'Enrobage d'armature - Face inférieure',\n",
      "       'Enrobage d'armature - Face supérieure',\n",
      "       'Enrobage d'armature - Autres faces', 'Variantes', 'Volume', 'Surface',\n",
      "       'Phase de démolition', 'Phase de création', 'Commentaires',\n",
      "       'Inclinaison', 'Niveau', 'Famille et type', 'Famille', 'Type',\n",
      "       'Nom de la famille', 'Nom du type', 'ID du type', 'Structure',\n",
      "       'Périmètre', 'Décalage par rapport au niveau', 'Epaisseur',\n",
      "       'Lié au volume', 'Etude de l'élévation à la base',\n",
      "       'Etude de l'élévation en haut', 'Epaisseur du porteur',\n",
      "       'Elévation au niveau du noyau inférieur',\n",
      "       'Elévation au niveau du noyau supérieur', 'Elévation en haut',\n",
      "       'Elévation à la base', 'Identifiant', 'Limite de pièce',\n",
      "       'Nature_Ouvrage', 'Batiment', 'Niveau fini', 'Niveau Brut',\n",
      "       'NIVEAU_STRUCTURE', 'Image du type', 'Note d'identification',\n",
      "       'Type: Type prédéfini d'IFC', 'Exporter le type au format IFC sous',\n",
      "       'Exporter le type au format IFC', 'Type IfcGUID', 'Modèle', 'Fabricant',\n",
      "       'Commentaires du type', 'URL', 'Description', 'Matériau structurel',\n",
      "       'Rugosité', 'Coefficient d'absorbance', 'Masse thermique',\n",
      "       'Résistance thermique (R)', 'Coefficient de transfert thermique (U)',\n",
      "       'Description de l'assemblage', 'Code d'assemblage',\n",
      "       'Couleur vue détail faible', 'Motif vue détail faible',\n",
      "       'Epaisseur par défaut', 'Marque de type', 'Coût', 'Fonction',\n",
      "       'épaisseur', 'Condition de bord incurvé'],\n",
      "      dtype='object')\n",
      "\n",
      "Poutres DataFrame Preview:\n",
      "Index(['Id', '011EC_Lot', '012EC_Ouvrage', '013EC_Localisation',\n",
      "       '014EC_Mode Constructif', 'Nom', 'AI', 'AS', 'Hauteur totale',\n",
      "       'Hauteur', 'Sols en intersection', 'Sols coupés (u)',\n",
      "       'Sols coupés (Ids)', 'Sols coupants (u)', 'Sols coupants (Ids)',\n",
      "       'Sol au-dessus', 'Sol en-dessous', 'Poteaux en intersection',\n",
      "       'Poteaux coupés (u)', 'Poteaux coupés (Ids)', 'Poteaux coupants (u)',\n",
      "       'Poteaux coupants (Ids)', 'Image', 'Etat de la jonction',\n",
      "       'Valeur de décalage Z', 'Justification Z', 'Valeur de décalage Y',\n",
      "       'Justification Y', 'Justification YZ', 'Catégorie',\n",
      "       'Type prédéfini d'IFC', 'Exporter au format IFC sous',\n",
      "       'Exporter au format IFC', 'IfcGUID', 'A une association',\n",
      "       'Enrobage d'armature - Face inférieure',\n",
      "       'Enrobage d'armature - Face supérieure',\n",
      "       'Enrobage d'armature - Autres faces', 'Variantes', 'Volume',\n",
      "       'Phase de démolition', 'Phase de création', 'Commentaires',\n",
      "       'Matériau structurel', 'ID hôte', 'Niveau', 'Famille et type',\n",
      "       'Famille', 'Type', 'Nom de la famille', 'Nom du type', 'ID du type',\n",
      "       'Elévation du niveau de référence', 'Elévation en haut',\n",
      "       'Rotation de la section', 'Orientation', 'Décalage du niveau d'arrivée',\n",
      "       'Décalage du niveau de départ', 'Elévation à la base',\n",
      "       'Longueur de coupe', 'Niveau de référence', 'Utilisation structurelle',\n",
      "       'Plan de construction', 'Longueur', 'Identifiant', 'Nature_Ouvrage',\n",
      "       'Batiment', 'Perimetre coffrage', 'Vtotal', 'hauteur_section',\n",
      "       'largeur_section', 'NIVEAU_STRUCTURE', 'Image du type',\n",
      "       'Note d'identification', 'Type: Type prédéfini d'IFC',\n",
      "       'Exporter le type au format IFC sous', 'Exporter le type au format IFC',\n",
      "       'Type IfcGUID', 'Modèle', 'Fabricant', 'Commentaires du type', 'URL',\n",
      "       'Description', 'Nom de code', 'Identifiant du nom de la coupe',\n",
      "       'Forme de coupe', 'Titre OmniClass', 'Numéro OmniClass',\n",
      "       'Description de l'assemblage', 'Code d'assemblage', 'Marque de type',\n",
      "       'Protection contre l'incendie', 'Coût', 'h', 'b', 'Type Ossature',\n",
      "       'Type d'attachement de fin', 'Type d'attachement de début',\n",
      "       'LG_DECAISSE', 'ht-decaisse'],\n",
      "      dtype='object')\n",
      "\n",
      "Poteaux DataFrame Preview:\n",
      "Index(['Id', '011EC_Lot', '012EC_Ouvrage', '013EC_Localisation',\n",
      "       '014EC_Mode Constructif', 'Nom', 'AI', 'AS', 'Hauteur', 'Longueur',\n",
      "       'Partie inférieure attachée', 'Partie supérieure attachée',\n",
      "       'Sols en intersection', 'Sols coupés (u)', 'Sols coupés (Ids)',\n",
      "       'Sols coupants (u)', 'Sols coupants (Ids)', 'Poutres en intersection',\n",
      "       'Poutres coupés (u)', 'Poutres coupés (Ids)', 'Poutres coupants (u)',\n",
      "       'Poutres coupants (Ids)', 'Image', 'Style de poteau', 'Catégorie',\n",
      "       'Type prédéfini d'IFC', 'Exporter au format IFC sous',\n",
      "       'Exporter au format IFC', 'IfcGUID', 'A une association',\n",
      "       'Enrobage d'armature - Face inférieure',\n",
      "       'Enrobage d'armature - Face supérieure',\n",
      "       'Enrobage d'armature - Autres faces', 'Variantes', 'Volume',\n",
      "       'Phase de démolition', 'Phase de création', 'Commentaires',\n",
      "       'Matériau structurel', 'Marque d'emplacement du poteau', 'ID hôte',\n",
      "       'Décalage supérieur', 'Décalage inférieur', 'Niveau supérieur',\n",
      "       'Niveau de base', 'Niveau', 'Famille et type', 'Famille', 'Type',\n",
      "       'Nom de la famille', 'Nom du type', 'ID du type',\n",
      "       'Se déplace avec les quadrillages', 'Identifiant', 'Limite de pièce',\n",
      "       'Batiment', 'NIVEAU_STRUCTURE', 'Image du type',\n",
      "       'Note d'identification', 'Type: Type prédéfini d'IFC',\n",
      "       'Exporter le type au format IFC sous', 'Exporter le type au format IFC',\n",
      "       'Type IfcGUID', 'Modèle', 'Fabricant', 'Commentaires du type', 'URL',\n",
      "       'Description', 'Nom de code', 'Identifiant du nom de la coupe',\n",
      "       'Forme de coupe', 'Titre OmniClass', 'Numéro OmniClass',\n",
      "       'Description de l'assemblage', 'Code d'assemblage', 'Marque de type',\n",
      "       'Coût', 'Nature_Ouvrage', 'Diamètre poteau', 'h', 'b',\n",
      "       'hauteur_section', 'largeur_section',\n",
      "       'Décalage de l'attachement à la base',\n",
      "       'Justification de l'attachement en bas',\n",
      "       'Décalage de l'attachement en haut',\n",
      "       'Justification de l'attachement en haut'],\n",
      "      dtype='object')\n"
     ]
    }
   ],
   "source": [
    "import excel_data_loader\n",
    "data = excel_data_loader.load_data(maquettes_path)\n",
    "\n",
    "\n",
    "# Access the DataFrames\n",
    "murs_df = data.get('Murs')\n",
    "sols_df = data.get('Sols')\n",
    "poutres_df = data.get('Poutres')\n",
    "poteaux_df = data.get('Poteaux')\n",
    "\n",
    "# Display basic info\n",
    "print(\"Murs DataFrame Shape:\", murs_df.shape)\n",
    "print(\"Sols DataFrame Shape:\", sols_df.shape)\n",
    "print(\"Poutres DataFrame Shape:\", poutres_df.shape)\n",
    "print(\"Poteaux DataFrame Shape:\", poteaux_df.shape)\n",
    "\n",
    "# Display column names\n",
    "for sheet_name, df in data.items():\n",
    "    print(f\"\\n{sheet_name} DataFrame Preview:\")\n",
    "    print(df.columns)"
   ]
  },
  {
   "cell_type": "markdown",
   "id": "b9bd8d5c",
   "metadata": {},
   "source": [
    "## Part 2: Data Preprocessing and Relationship Mapping\n"
   ]
  },
  {
   "cell_type": "code",
   "execution_count": 5,
   "id": "ab5e2deb",
   "metadata": {},
   "outputs": [
    {
     "name": "stdout",
     "output_type": "stream",
     "text": [
      "📂 Loading and sanitizing Excel file...\n",
      "✅ Murs: Sanitized 31 columns\n",
      "✅ Sols: Sanitized 23 columns\n",
      "✅ Poutres: Sanitized 23 columns\n",
      "✅ Poteaux: Sanitized 26 columns\n",
      "🔍 COLUMN MAPPING ANALYSIS\n",
      "==================================================\n",
      "\n",
      "📊 DataFrame Column Counts:\n",
      "   Murs: 31 columns\n",
      "   Sols: 23 columns\n",
      "   Poutres: 23 columns\n",
      "   Poteaux: 26 columns\n",
      "\n",
      "🌐 Total Unique Columns Across All DataFrames: 103\n",
      "\n",
      "🤝 Common Columns (found in multiple DataFrames): 0\n",
      "\n",
      "🔗 Relationship Columns (coupés/coupants mappings): 15\n",
      "   'Poteau_Poutres_coupants_Ids' in Poteaux → references 'Poutre_Id' in Poutres\n",
      "   'Mur_Sols_coupants_Ids' in Murs → references 'Sol_Id' in Sols\n",
      "   'Poteau_Sols_coupés_Ids' in Poteaux → references 'Sol_Id' in Sols\n",
      "   'Poteau_Sols_coupants_Ids' in Poteaux → references 'Sol_Id' in Sols\n",
      "   'Poteau_Poutres_coupés_Ids' in Poteaux → references 'Poutre_Id' in Poutres\n",
      "   'Mur_Sols_coupés_Ids' in Murs → references 'Sol_Id' in Sols\n",
      "   'Sol_Murs_coupants_Ids' in Sols → references 'Mur_Id' in Murs\n",
      "   'Sol_Murs_coupés_Ids' in Sols → references 'Mur_Id' in Murs\n",
      "   'Sol_Poteaux_coupés_Ids' in Sols → references 'Poteau_Id' in Poteaux\n",
      "   'Sol_Poteaux_coupants_Ids' in Sols → references 'Poteau_Id' in Poteaux\n",
      "   'Poutre_Sols_coupés_Ids' in Poutres → references 'Sol_Id' in Sols\n",
      "   'Sol_Poutres_coupés_Ids' in Sols → references 'Poutre_Id' in Poutres\n",
      "   'Sol_Poutres_coupants_Ids' in Sols → references 'Poutre_Id' in Poutres\n",
      "   'Poutre_Sols_coupants_Ids' in Poutres → references 'Sol_Id' in Sols\n",
      "   'Poutre_Poteaux_coupés_Ids' in Poutres → references 'Poteau_Id' in Poteaux\n",
      "\n",
      "🎯 DataFrame-Specific Columns: 88\n",
      "\n",
      "   Murs unique columns (29):\n",
      "      - Mur_011EC_Lot\n",
      "      - Mur_012EC_Ouvrage\n",
      "      - Mur_013EC_Localisation\n",
      "      - Mur_014EC_Mode_Constructif\n",
      "      - Mur_AI\n",
      "      - Mur_AS\n",
      "      - Mur_Décalage_inférieur\n",
      "      - Mur_Décalage_supérieur\n",
      "      - Mur_Epaisseur\n",
      "      - Mur_Extension_inférieure\n",
      "      ... and 19 more\n",
      "\n",
      "   Poteaux unique columns (22):\n",
      "      - Poteau_011EC_Lot\n",
      "      - Poteau_012EC_Ouvrage\n",
      "      - Poteau_013EC_Localisation\n",
      "      - Poteau_014EC_Mode_Constructif\n",
      "      - Poteau_AI\n",
      "      - Poteau_AS\n",
      "      - Poteau_Décalage_inférieur\n",
      "      - Poteau_Décalage_supérieur\n",
      "      - Poteau_Hauteur\n",
      "      - Poteau_Id\n",
      "      ... and 12 more\n",
      "\n",
      "   Sols unique columns (17):\n",
      "      - Sol_011EC_Lot\n",
      "      - Sol_012EC_Ouvrage\n",
      "      - Sol_013EC_Localisation\n",
      "      - Sol_014EC_Mode_Constructif\n",
      "      - Sol_Id\n",
      "      - Sol_Matériau_structurel\n",
      "      - Sol_Murs_coupants_u\n",
      "      - Sol_Murs_coupés_u\n",
      "      - Sol_Murs_en_intersection\n",
      "      - Sol_Poteaux_coupants_u\n",
      "      ... and 7 more\n",
      "\n",
      "   Poutres unique columns (20):\n",
      "      - Poutre_011EC_Lot\n",
      "      - Poutre_012EC_Ouvrage\n",
      "      - Poutre_013EC_Localisation\n",
      "      - Poutre_014EC_Mode_Constructif\n",
      "      - Poutre_AI\n",
      "      - Poutre_AS\n",
      "      - Poutre_Elévation_à_la_base\n",
      "      - Poutre_Hauteur\n",
      "      - Poutre_Hauteur_totale\n",
      "      - Poutre_Id\n",
      "      ... and 10 more\n",
      "\n",
      "📋 COMMON COLUMNS MATRIX:\n"
     ]
    },
    {
     "data": {
      "application/vnd.microsoft.datawrangler.viewer.v0+json": {
       "columns": [
        {
         "name": "index",
         "rawType": "object",
         "type": "string"
        },
        {
         "name": "Murs",
         "rawType": "object",
         "type": "string"
        },
        {
         "name": "Sols",
         "rawType": "object",
         "type": "string"
        },
        {
         "name": "Poutres",
         "rawType": "object",
         "type": "string"
        },
        {
         "name": "Poteaux",
         "rawType": "object",
         "type": "string"
        }
       ],
       "ref": "14cf797f-35ef-4eeb-bd54-32fd9be09428",
       "rows": [],
       "shape": {
        "columns": 4,
        "rows": 0
       }
      },
      "text/html": [
       "<div>\n",
       "<style scoped>\n",
       "    .dataframe tbody tr th:only-of-type {\n",
       "        vertical-align: middle;\n",
       "    }\n",
       "\n",
       "    .dataframe tbody tr th {\n",
       "        vertical-align: top;\n",
       "    }\n",
       "\n",
       "    .dataframe thead th {\n",
       "        text-align: right;\n",
       "    }\n",
       "</style>\n",
       "<table border=\"1\" class=\"dataframe\">\n",
       "  <thead>\n",
       "    <tr style=\"text-align: right;\">\n",
       "      <th></th>\n",
       "      <th>Murs</th>\n",
       "      <th>Sols</th>\n",
       "      <th>Poutres</th>\n",
       "      <th>Poteaux</th>\n",
       "    </tr>\n",
       "  </thead>\n",
       "  <tbody>\n",
       "  </tbody>\n",
       "</table>\n",
       "</div>"
      ],
      "text/plain": [
       "Empty DataFrame\n",
       "Columns: [Murs, Sols, Poutres, Poteaux]\n",
       "Index: []"
      ]
     },
     "metadata": {},
     "output_type": "display_data"
    },
    {
     "data": {
      "image/png": "[encoded data removed]",
      "text/plain": [
       "<Figure size 1200x800 with 1 Axes>"
      ]
     },
     "metadata": {},
     "output_type": "display_data"
    }
   ],
   "source": [
    "### ========================================\n",
    "### Sanitization and Relationship Analysis\n",
    "### ========================================\n",
    "### Import the cleaner and mapper\n",
    "from excel_essential_columns_cleaner import load_and_sanitize_data\n",
    "from excel_map_sanitized_columns import analyze_relationships, display_column_mapping_results, generate_relationship_graph_matplotlib\n",
    "\n",
    "# 1. Load and fully sanitize the data\n",
    "sanitized_data = load_and_sanitize_data(maquettes_path)\n",
    "\n",
    "### Now ALL subsequent operations use the sanitized data\n",
    "### --------------------------------------------------\n",
    "\n",
    "### 2. Analyze relationships\n",
    "relationships = analyze_relationships(sanitized_data)\n",
    "\n",
    "### 3. Display results\n",
    "display_column_mapping_results(relationships, sanitized_data)\n",
    "\n",
    "\n",
    "### Now work exclusively with sanitized_data for all operations\n",
    "murs_df = sanitized_data['Murs']\n",
    "sols_df = sanitized_data['Sols']\n",
    "poutres_df = sanitized_data['Poutres']\n",
    "poteaux_df = sanitized_data['Poteaux']\n",
    "\n",
    "### 4. Generate graph\n",
    "generate_relationship_graph_matplotlib(relationships)\n",
    "### save the graph if not already saved\n",
    "graph_path = os.path.join(plots_folder, \"relationship_graph.png\")\n",
    "if not os.path.exists(graph_path):\n",
    "    plt.savefig(graph_path, bbox_inches='tight')\n",
    "    print(f\"Graph saved to {graph_path}\")"
   ]
  },
  {
   "cell_type": "code",
   "execution_count": 6,
   "id": "cb458ba4",
   "metadata": {},
   "outputs": [
    {
     "name": "stdout",
     "output_type": "stream",
     "text": [
      "🛁 Starting ID columns cleaning...\n",
      "\n",
      "📋 Murs:\n",
      "\n",
      " 🔄 Processing: Mur_Sols_coupés_u ↔ Mur_Sols_coupés_Ids\n"
     ]
    },
    {
     "data": {
      "application/vnd.microsoft.datawrangler.viewer.v0+json": {
       "columns": [
        {
         "name": "index",
         "rawType": "int64",
         "type": "integer"
        },
        {
         "name": "Before_u",
         "rawType": "int64",
         "type": "integer"
        },
        {
         "name": "After_u",
         "rawType": "int64",
         "type": "integer"
        },
        {
         "name": "Before_ids",
         "rawType": "object",
         "type": "string"
        },
        {
         "name": "After_ids",
         "rawType": "object",
         "type": "string"
        }
       ],
       "ref": "c88697ad-acc1-4e74-add7-7fbf766203d5",
       "rows": [
        [
         "0",
         "0",
         "0",
         "nan",
         "0"
        ],
        [
         "1",
         "0",
         "0",
         "nan",
         "0"
        ],
        [
         "2",
         "0",
         "0",
         "nan",
         "0"
        ]
       ],
       "shape": {
        "columns": 4,
        "rows": 3
       }
      },
      "text/html": [
       "<div>\n",
       "<style scoped>\n",
       "    .dataframe tbody tr th:only-of-type {\n",
       "        vertical-align: middle;\n",
       "    }\n",
       "\n",
       "    .dataframe tbody tr th {\n",
       "        vertical-align: top;\n",
       "    }\n",
       "\n",
       "    .dataframe thead th {\n",
       "        text-align: right;\n",
       "    }\n",
       "</style>\n",
       "<table border=\"1\" class=\"dataframe\">\n",
       "  <thead>\n",
       "    <tr style=\"text-align: right;\">\n",
       "      <th></th>\n",
       "      <th>Before_u</th>\n",
       "      <th>After_u</th>\n",
       "      <th>Before_ids</th>\n",
       "      <th>After_ids</th>\n",
       "    </tr>\n",
       "  </thead>\n",
       "  <tbody>\n",
       "    <tr>\n",
       "      <th>0</th>\n",
       "      <td>0</td>\n",
       "      <td>0</td>\n",
       "      <td>nan</td>\n",
       "      <td>0</td>\n",
       "    </tr>\n",
       "    <tr>\n",
       "      <th>1</th>\n",
       "      <td>0</td>\n",
       "      <td>0</td>\n",
       "      <td>nan</td>\n",
       "      <td>0</td>\n",
       "    </tr>\n",
       "    <tr>\n",
       "      <th>2</th>\n",
       "      <td>0</td>\n",
       "      <td>0</td>\n",
       "      <td>nan</td>\n",
       "      <td>0</td>\n",
       "    </tr>\n",
       "  </tbody>\n",
       "</table>\n",
       "</div>"
      ],
      "text/plain": [
       "   Before_u  After_u Before_ids After_ids\n",
       "0         0        0        nan         0\n",
       "1         0        0        nan         0\n",
       "2         0        0        nan         0"
      ]
     },
     "metadata": {},
     "output_type": "display_data"
    },
    {
     "name": "stdout",
     "output_type": "stream",
     "text": [
      " ✨ Renamed to: Mur_Sols_coupés_Ids_cleaned\n",
      "──────────────────────────────────────────────────\n",
      "\n",
      " 🔄 Processing: Mur_Sols_coupants_u ↔ Mur_Sols_coupants_Ids\n"
     ]
    },
    {
     "data": {
      "application/vnd.microsoft.datawrangler.viewer.v0+json": {
       "columns": [
        {
         "name": "index",
         "rawType": "int64",
         "type": "integer"
        },
        {
         "name": "Before_u",
         "rawType": "int64",
         "type": "integer"
        },
        {
         "name": "After_u",
         "rawType": "int64",
         "type": "integer"
        },
        {
         "name": "Before_ids",
         "rawType": "object",
         "type": "string"
        },
        {
         "name": "After_ids",
         "rawType": "object",
         "type": "string"
        }
       ],
       "ref": "219d46f2-cb3b-4520-8a17-68aa26b0e60d",
       "rows": [
        [
         "0",
         "3",
         "3",
         "1788267,1788458,1790282",
         "1788267,1788458,1790282"
        ],
        [
         "1",
         "1",
         "1",
         "1788267",
         "1788267"
        ],
        [
         "2",
         "1",
         "1",
         "1788267",
         "1788267"
        ]
       ],
       "shape": {
        "columns": 4,
        "rows": 3
       }
      },
      "text/html": [
       "<div>\n",
       "<style scoped>\n",
       "    .dataframe tbody tr th:only-of-type {\n",
       "        vertical-align: middle;\n",
       "    }\n",
       "\n",
       "    .dataframe tbody tr th {\n",
       "        vertical-align: top;\n",
       "    }\n",
       "\n",
       "    .dataframe thead th {\n",
       "        text-align: right;\n",
       "    }\n",
       "</style>\n",
       "<table border=\"1\" class=\"dataframe\">\n",
       "  <thead>\n",
       "    <tr style=\"text-align: right;\">\n",
       "      <th></th>\n",
       "      <th>Before_u</th>\n",
       "      <th>After_u</th>\n",
       "      <th>Before_ids</th>\n",
       "      <th>After_ids</th>\n",
       "    </tr>\n",
       "  </thead>\n",
       "  <tbody>\n",
       "    <tr>\n",
       "      <th>0</th>\n",
       "      <td>3</td>\n",
       "      <td>3</td>\n",
       "      <td>1788267,1788458,1790282</td>\n",
       "      <td>1788267,1788458,1790282</td>\n",
       "    </tr>\n",
       "    <tr>\n",
       "      <th>1</th>\n",
       "      <td>1</td>\n",
       "      <td>1</td>\n",
       "      <td>1788267</td>\n",
       "      <td>1788267</td>\n",
       "    </tr>\n",
       "    <tr>\n",
       "      <th>2</th>\n",
       "      <td>1</td>\n",
       "      <td>1</td>\n",
       "      <td>1788267</td>\n",
       "      <td>1788267</td>\n",
       "    </tr>\n",
       "  </tbody>\n",
       "</table>\n",
       "</div>"
      ],
      "text/plain": [
       "   Before_u  After_u               Before_ids                After_ids\n",
       "0         3        3  1788267,1788458,1790282  1788267,1788458,1790282\n",
       "1         1        1                  1788267                  1788267\n",
       "2         1        1                  1788267                  1788267"
      ]
     },
     "metadata": {},
     "output_type": "display_data"
    },
    {
     "name": "stdout",
     "output_type": "stream",
     "text": [
      " ✨ Renamed to: Mur_Sols_coupants_Ids_cleaned\n",
      "──────────────────────────────────────────────────\n",
      "📋 Sols:\n",
      "\n",
      " 🔄 Processing: Sol_Murs_coupés_u ↔ Sol_Murs_coupés_Ids\n"
     ]
    },
    {
     "data": {
      "application/vnd.microsoft.datawrangler.viewer.v0+json": {
       "columns": [
        {
         "name": "index",
         "rawType": "int64",
         "type": "integer"
        },
        {
         "name": "Before_u",
         "rawType": "int64",
         "type": "integer"
        },
        {
         "name": "After_u",
         "rawType": "int64",
         "type": "integer"
        },
        {
         "name": "Before_ids",
         "rawType": "object",
         "type": "string"
        },
        {
         "name": "After_ids",
         "rawType": "object",
         "type": "string"
        }
       ],
       "ref": "fcf8a99f-79bf-42f5-95cc-a30e7a5d80f0",
       "rows": [
        [
         "0",
         "0",
         "0",
         "nan",
         "0"
        ],
        [
         "1",
         "9",
         "9",
         "1787858,1787860,1787874,1789104,1789106,1790261,1790277,1790353,1790706",
         "1787858,1787860,1787874,1789104,1789106,1790261,1790277,1790353,1790706"
        ],
        [
         "2",
         "3",
         "3",
         "1788054,1789308,1794860",
         "1788054,1789308,1794860"
        ]
       ],
       "shape": {
        "columns": 4,
        "rows": 3
       }
      },
      "text/html": [
       "<div>\n",
       "<style scoped>\n",
       "    .dataframe tbody tr th:only-of-type {\n",
       "        vertical-align: middle;\n",
       "    }\n",
       "\n",
       "    .dataframe tbody tr th {\n",
       "        vertical-align: top;\n",
       "    }\n",
       "\n",
       "    .dataframe thead th {\n",
       "        text-align: right;\n",
       "    }\n",
       "</style>\n",
       "<table border=\"1\" class=\"dataframe\">\n",
       "  <thead>\n",
       "    <tr style=\"text-align: right;\">\n",
       "      <th></th>\n",
       "      <th>Before_u</th>\n",
       "      <th>After_u</th>\n",
       "      <th>Before_ids</th>\n",
       "      <th>After_ids</th>\n",
       "    </tr>\n",
       "  </thead>\n",
       "  <tbody>\n",
       "    <tr>\n",
       "      <th>0</th>\n",
       "      <td>0</td>\n",
       "      <td>0</td>\n",
       "      <td>nan</td>\n",
       "      <td>0</td>\n",
       "    </tr>\n",
       "    <tr>\n",
       "      <th>1</th>\n",
       "      <td>9</td>\n",
       "      <td>9</td>\n",
       "      <td>1787858,1787860,1787874,1789104,1789106,179026...</td>\n",
       "      <td>1787858,1787860,1787874,1789104,1789106,179026...</td>\n",
       "    </tr>\n",
       "    <tr>\n",
       "      <th>2</th>\n",
       "      <td>3</td>\n",
       "      <td>3</td>\n",
       "      <td>1788054,1789308,1794860</td>\n",
       "      <td>1788054,1789308,1794860</td>\n",
       "    </tr>\n",
       "  </tbody>\n",
       "</table>\n",
       "</div>"
      ],
      "text/plain": [
       "   Before_u  After_u                                         Before_ids  \\\n",
       "0         0        0                                                nan   \n",
       "1         9        9  1787858,1787860,1787874,1789104,1789106,179026...   \n",
       "2         3        3                            1788054,1789308,1794860   \n",
       "\n",
       "                                           After_ids  \n",
       "0                                                  0  \n",
       "1  1787858,1787860,1787874,1789104,1789106,179026...  \n",
       "2                            1788054,1789308,1794860  "
      ]
     },
     "metadata": {},
     "output_type": "display_data"
    },
    {
     "name": "stdout",
     "output_type": "stream",
     "text": [
      " ✨ Renamed to: Sol_Murs_coupés_Ids_cleaned\n",
      "──────────────────────────────────────────────────\n",
      "\n",
      " 🔄 Processing: Sol_Murs_coupants_u ↔ Sol_Murs_coupants_Ids\n"
     ]
    },
    {
     "data": {
      "application/vnd.microsoft.datawrangler.viewer.v0+json": {
       "columns": [
        {
         "name": "index",
         "rawType": "int64",
         "type": "integer"
        },
        {
         "name": "Before_u",
         "rawType": "int64",
         "type": "integer"
        },
        {
         "name": "After_u",
         "rawType": "int64",
         "type": "integer"
        },
        {
         "name": "Before_ids",
         "rawType": "object",
         "type": "string"
        },
        {
         "name": "After_ids",
         "rawType": "object",
         "type": "string"
        }
       ],
       "ref": "79d94f03-3469-4cbe-af4a-434609f37f4a",
       "rows": [
        [
         "0",
         "0",
         "0",
         "nan",
         "0"
        ],
        [
         "1",
         "0",
         "0",
         "nan",
         "0"
        ],
        [
         "2",
         "0",
         "0",
         "nan",
         "0"
        ]
       ],
       "shape": {
        "columns": 4,
        "rows": 3
       }
      },
      "text/html": [
       "<div>\n",
       "<style scoped>\n",
       "    .dataframe tbody tr th:only-of-type {\n",
       "        vertical-align: middle;\n",
       "    }\n",
       "\n",
       "    .dataframe tbody tr th {\n",
       "        vertical-align: top;\n",
       "    }\n",
       "\n",
       "    .dataframe thead th {\n",
       "        text-align: right;\n",
       "    }\n",
       "</style>\n",
       "<table border=\"1\" class=\"dataframe\">\n",
       "  <thead>\n",
       "    <tr style=\"text-align: right;\">\n",
       "      <th></th>\n",
       "      <th>Before_u</th>\n",
       "      <th>After_u</th>\n",
       "      <th>Before_ids</th>\n",
       "      <th>After_ids</th>\n",
       "    </tr>\n",
       "  </thead>\n",
       "  <tbody>\n",
       "    <tr>\n",
       "      <th>0</th>\n",
       "      <td>0</td>\n",
       "      <td>0</td>\n",
       "      <td>nan</td>\n",
       "      <td>0</td>\n",
       "    </tr>\n",
       "    <tr>\n",
       "      <th>1</th>\n",
       "      <td>0</td>\n",
       "      <td>0</td>\n",
       "      <td>nan</td>\n",
       "      <td>0</td>\n",
       "    </tr>\n",
       "    <tr>\n",
       "      <th>2</th>\n",
       "      <td>0</td>\n",
       "      <td>0</td>\n",
       "      <td>nan</td>\n",
       "      <td>0</td>\n",
       "    </tr>\n",
       "  </tbody>\n",
       "</table>\n",
       "</div>"
      ],
      "text/plain": [
       "   Before_u  After_u Before_ids After_ids\n",
       "0         0        0        nan         0\n",
       "1         0        0        nan         0\n",
       "2         0        0        nan         0"
      ]
     },
     "metadata": {},
     "output_type": "display_data"
    },
    {
     "name": "stdout",
     "output_type": "stream",
     "text": [
      " ✨ Renamed to: Sol_Murs_coupants_Ids_cleaned\n",
      "──────────────────────────────────────────────────\n",
      "\n",
      " 🔄 Processing: Sol_Poutres_coupés_u ↔ Sol_Poutres_coupés_Ids\n"
     ]
    },
    {
     "data": {
      "application/vnd.microsoft.datawrangler.viewer.v0+json": {
       "columns": [
        {
         "name": "index",
         "rawType": "int64",
         "type": "integer"
        },
        {
         "name": "Before_u",
         "rawType": "int64",
         "type": "integer"
        },
        {
         "name": "After_u",
         "rawType": "int64",
         "type": "integer"
        },
        {
         "name": "Before_ids",
         "rawType": "object",
         "type": "string"
        },
        {
         "name": "After_ids",
         "rawType": "object",
         "type": "string"
        }
       ],
       "ref": "782a2b26-04fc-4a2a-a132-209eb3ceaf95",
       "rows": [
        [
         "0",
         "1",
         "1",
         "1793428",
         "1793428"
        ],
        [
         "1",
         "1",
         "1",
         "1788274",
         "1788274"
        ],
        [
         "2",
         "0",
         "0",
         "nan",
         "0"
        ]
       ],
       "shape": {
        "columns": 4,
        "rows": 3
       }
      },
      "text/html": [
       "<div>\n",
       "<style scoped>\n",
       "    .dataframe tbody tr th:only-of-type {\n",
       "        vertical-align: middle;\n",
       "    }\n",
       "\n",
       "    .dataframe tbody tr th {\n",
       "        vertical-align: top;\n",
       "    }\n",
       "\n",
       "    .dataframe thead th {\n",
       "        text-align: right;\n",
       "    }\n",
       "</style>\n",
       "<table border=\"1\" class=\"dataframe\">\n",
       "  <thead>\n",
       "    <tr style=\"text-align: right;\">\n",
       "      <th></th>\n",
       "      <th>Before_u</th>\n",
       "      <th>After_u</th>\n",
       "      <th>Before_ids</th>\n",
       "      <th>After_ids</th>\n",
       "    </tr>\n",
       "  </thead>\n",
       "  <tbody>\n",
       "    <tr>\n",
       "      <th>0</th>\n",
       "      <td>1</td>\n",
       "      <td>1</td>\n",
       "      <td>1793428</td>\n",
       "      <td>1793428</td>\n",
       "    </tr>\n",
       "    <tr>\n",
       "      <th>1</th>\n",
       "      <td>1</td>\n",
       "      <td>1</td>\n",
       "      <td>1788274</td>\n",
       "      <td>1788274</td>\n",
       "    </tr>\n",
       "    <tr>\n",
       "      <th>2</th>\n",
       "      <td>0</td>\n",
       "      <td>0</td>\n",
       "      <td>nan</td>\n",
       "      <td>0</td>\n",
       "    </tr>\n",
       "  </tbody>\n",
       "</table>\n",
       "</div>"
      ],
      "text/plain": [
       "   Before_u  After_u Before_ids After_ids\n",
       "0         1        1    1793428   1793428\n",
       "1         1        1    1788274   1788274\n",
       "2         0        0        nan         0"
      ]
     },
     "metadata": {},
     "output_type": "display_data"
    },
    {
     "name": "stdout",
     "output_type": "stream",
     "text": [
      " ✨ Renamed to: Sol_Poutres_coupés_Ids_cleaned\n",
      "──────────────────────────────────────────────────\n",
      "\n",
      " 🔄 Processing: Sol_Poutres_coupants_u ↔ Sol_Poutres_coupants_Ids\n"
     ]
    },
    {
     "data": {
      "application/vnd.microsoft.datawrangler.viewer.v0+json": {
       "columns": [
        {
         "name": "index",
         "rawType": "int64",
         "type": "integer"
        },
        {
         "name": "Before_u",
         "rawType": "int64",
         "type": "integer"
        },
        {
         "name": "After_u",
         "rawType": "int64",
         "type": "integer"
        },
        {
         "name": "Before_ids",
         "rawType": "object",
         "type": "string"
        },
        {
         "name": "After_ids",
         "rawType": "object",
         "type": "string"
        }
       ],
       "ref": "d4475be9-c61d-47a1-8260-1bf7a5cd2b96",
       "rows": [
        [
         "0",
         "0",
         "0",
         "nan",
         "0"
        ],
        [
         "1",
         "0",
         "0",
         "nan",
         "0"
        ],
        [
         "2",
         "0",
         "0",
         "nan",
         "0"
        ]
       ],
       "shape": {
        "columns": 4,
        "rows": 3
       }
      },
      "text/html": [
       "<div>\n",
       "<style scoped>\n",
       "    .dataframe tbody tr th:only-of-type {\n",
       "        vertical-align: middle;\n",
       "    }\n",
       "\n",
       "    .dataframe tbody tr th {\n",
       "        vertical-align: top;\n",
       "    }\n",
       "\n",
       "    .dataframe thead th {\n",
       "        text-align: right;\n",
       "    }\n",
       "</style>\n",
       "<table border=\"1\" class=\"dataframe\">\n",
       "  <thead>\n",
       "    <tr style=\"text-align: right;\">\n",
       "      <th></th>\n",
       "      <th>Before_u</th>\n",
       "      <th>After_u</th>\n",
       "      <th>Before_ids</th>\n",
       "      <th>After_ids</th>\n",
       "    </tr>\n",
       "  </thead>\n",
       "  <tbody>\n",
       "    <tr>\n",
       "      <th>0</th>\n",
       "      <td>0</td>\n",
       "      <td>0</td>\n",
       "      <td>nan</td>\n",
       "      <td>0</td>\n",
       "    </tr>\n",
       "    <tr>\n",
       "      <th>1</th>\n",
       "      <td>0</td>\n",
       "      <td>0</td>\n",
       "      <td>nan</td>\n",
       "      <td>0</td>\n",
       "    </tr>\n",
       "    <tr>\n",
       "      <th>2</th>\n",
       "      <td>0</td>\n",
       "      <td>0</td>\n",
       "      <td>nan</td>\n",
       "      <td>0</td>\n",
       "    </tr>\n",
       "  </tbody>\n",
       "</table>\n",
       "</div>"
      ],
      "text/plain": [
       "   Before_u  After_u Before_ids After_ids\n",
       "0         0        0        nan         0\n",
       "1         0        0        nan         0\n",
       "2         0        0        nan         0"
      ]
     },
     "metadata": {},
     "output_type": "display_data"
    },
    {
     "name": "stdout",
     "output_type": "stream",
     "text": [
      " ✨ Renamed to: Sol_Poutres_coupants_Ids_cleaned\n",
      "──────────────────────────────────────────────────\n",
      "\n",
      " 🔄 Processing: Sol_Poteaux_coupés_u ↔ Sol_Poteaux_coupés_Ids\n"
     ]
    },
    {
     "data": {
      "application/vnd.microsoft.datawrangler.viewer.v0+json": {
       "columns": [
        {
         "name": "index",
         "rawType": "int64",
         "type": "integer"
        },
        {
         "name": "Before_u",
         "rawType": "int64",
         "type": "integer"
        },
        {
         "name": "After_u",
         "rawType": "int64",
         "type": "integer"
        },
        {
         "name": "Before_ids",
         "rawType": "object",
         "type": "string"
        },
        {
         "name": "After_ids",
         "rawType": "object",
         "type": "string"
        }
       ],
       "ref": "1bac22c3-410d-4627-96c8-2ea94b9a8631",
       "rows": [
        [
         "0",
         "0",
         "0",
         "nan",
         "0"
        ],
        [
         "1",
         "0",
         "0",
         "nan",
         "0"
        ],
        [
         "2",
         "0",
         "0",
         "nan",
         "0"
        ]
       ],
       "shape": {
        "columns": 4,
        "rows": 3
       }
      },
      "text/html": [
       "<div>\n",
       "<style scoped>\n",
       "    .dataframe tbody tr th:only-of-type {\n",
       "        vertical-align: middle;\n",
       "    }\n",
       "\n",
       "    .dataframe tbody tr th {\n",
       "        vertical-align: top;\n",
       "    }\n",
       "\n",
       "    .dataframe thead th {\n",
       "        text-align: right;\n",
       "    }\n",
       "</style>\n",
       "<table border=\"1\" class=\"dataframe\">\n",
       "  <thead>\n",
       "    <tr style=\"text-align: right;\">\n",
       "      <th></th>\n",
       "      <th>Before_u</th>\n",
       "      <th>After_u</th>\n",
       "      <th>Before_ids</th>\n",
       "      <th>After_ids</th>\n",
       "    </tr>\n",
       "  </thead>\n",
       "  <tbody>\n",
       "    <tr>\n",
       "      <th>0</th>\n",
       "      <td>0</td>\n",
       "      <td>0</td>\n",
       "      <td>nan</td>\n",
       "      <td>0</td>\n",
       "    </tr>\n",
       "    <tr>\n",
       "      <th>1</th>\n",
       "      <td>0</td>\n",
       "      <td>0</td>\n",
       "      <td>nan</td>\n",
       "      <td>0</td>\n",
       "    </tr>\n",
       "    <tr>\n",
       "      <th>2</th>\n",
       "      <td>0</td>\n",
       "      <td>0</td>\n",
       "      <td>nan</td>\n",
       "      <td>0</td>\n",
       "    </tr>\n",
       "  </tbody>\n",
       "</table>\n",
       "</div>"
      ],
      "text/plain": [
       "   Before_u  After_u Before_ids After_ids\n",
       "0         0        0        nan         0\n",
       "1         0        0        nan         0\n",
       "2         0        0        nan         0"
      ]
     },
     "metadata": {},
     "output_type": "display_data"
    },
    {
     "name": "stdout",
     "output_type": "stream",
     "text": [
      " ✨ Renamed to: Sol_Poteaux_coupés_Ids_cleaned\n",
      "──────────────────────────────────────────────────\n",
      "\n",
      " 🔄 Processing: Sol_Poteaux_coupants_u ↔ Sol_Poteaux_coupants_Ids\n"
     ]
    },
    {
     "data": {
      "application/vnd.microsoft.datawrangler.viewer.v0+json": {
       "columns": [
        {
         "name": "index",
         "rawType": "int64",
         "type": "integer"
        },
        {
         "name": "Before_u",
         "rawType": "int64",
         "type": "integer"
        },
        {
         "name": "After_u",
         "rawType": "int64",
         "type": "integer"
        },
        {
         "name": "Before_ids",
         "rawType": "object",
         "type": "string"
        },
        {
         "name": "After_ids",
         "rawType": "object",
         "type": "string"
        }
       ],
       "ref": "b37bbc7e-5da8-4018-97d6-9e6a957c5adf",
       "rows": [
        [
         "0",
         "0",
         "0",
         "nan",
         "0"
        ],
        [
         "1",
         "0",
         "0",
         "nan",
         "0"
        ],
        [
         "2",
         "0",
         "0",
         "nan",
         "0"
        ]
       ],
       "shape": {
        "columns": 4,
        "rows": 3
       }
      },
      "text/html": [
       "<div>\n",
       "<style scoped>\n",
       "    .dataframe tbody tr th:only-of-type {\n",
       "        vertical-align: middle;\n",
       "    }\n",
       "\n",
       "    .dataframe tbody tr th {\n",
       "        vertical-align: top;\n",
       "    }\n",
       "\n",
       "    .dataframe thead th {\n",
       "        text-align: right;\n",
       "    }\n",
       "</style>\n",
       "<table border=\"1\" class=\"dataframe\">\n",
       "  <thead>\n",
       "    <tr style=\"text-align: right;\">\n",
       "      <th></th>\n",
       "      <th>Before_u</th>\n",
       "      <th>After_u</th>\n",
       "      <th>Before_ids</th>\n",
       "      <th>After_ids</th>\n",
       "    </tr>\n",
       "  </thead>\n",
       "  <tbody>\n",
       "    <tr>\n",
       "      <th>0</th>\n",
       "      <td>0</td>\n",
       "      <td>0</td>\n",
       "      <td>nan</td>\n",
       "      <td>0</td>\n",
       "    </tr>\n",
       "    <tr>\n",
       "      <th>1</th>\n",
       "      <td>0</td>\n",
       "      <td>0</td>\n",
       "      <td>nan</td>\n",
       "      <td>0</td>\n",
       "    </tr>\n",
       "    <tr>\n",
       "      <th>2</th>\n",
       "      <td>0</td>\n",
       "      <td>0</td>\n",
       "      <td>nan</td>\n",
       "      <td>0</td>\n",
       "    </tr>\n",
       "  </tbody>\n",
       "</table>\n",
       "</div>"
      ],
      "text/plain": [
       "   Before_u  After_u Before_ids After_ids\n",
       "0         0        0        nan         0\n",
       "1         0        0        nan         0\n",
       "2         0        0        nan         0"
      ]
     },
     "metadata": {},
     "output_type": "display_data"
    },
    {
     "name": "stdout",
     "output_type": "stream",
     "text": [
      " ✨ Renamed to: Sol_Poteaux_coupants_Ids_cleaned\n",
      "──────────────────────────────────────────────────\n",
      "📋 Poutres:\n",
      "\n",
      " 🔄 Processing: Poutre_Sols_coupés_u ↔ Poutre_Sols_coupés_Ids\n"
     ]
    },
    {
     "data": {
      "application/vnd.microsoft.datawrangler.viewer.v0+json": {
       "columns": [
        {
         "name": "index",
         "rawType": "int64",
         "type": "integer"
        },
        {
         "name": "Before_u",
         "rawType": "int64",
         "type": "integer"
        },
        {
         "name": "After_u",
         "rawType": "int64",
         "type": "integer"
        },
        {
         "name": "Before_ids",
         "rawType": "object",
         "type": "string"
        },
        {
         "name": "After_ids",
         "rawType": "object",
         "type": "string"
        }
       ],
       "ref": "358113a2-2970-4cbe-bcbe-3c7a3b383e19",
       "rows": [
        [
         "0",
         "0",
         "0",
         "nan",
         "0"
        ],
        [
         "1",
         "0",
         "0",
         "nan",
         "0"
        ],
        [
         "2",
         "0",
         "0",
         "nan",
         "0"
        ]
       ],
       "shape": {
        "columns": 4,
        "rows": 3
       }
      },
      "text/html": [
       "<div>\n",
       "<style scoped>\n",
       "    .dataframe tbody tr th:only-of-type {\n",
       "        vertical-align: middle;\n",
       "    }\n",
       "\n",
       "    .dataframe tbody tr th {\n",
       "        vertical-align: top;\n",
       "    }\n",
       "\n",
       "    .dataframe thead th {\n",
       "        text-align: right;\n",
       "    }\n",
       "</style>\n",
       "<table border=\"1\" class=\"dataframe\">\n",
       "  <thead>\n",
       "    <tr style=\"text-align: right;\">\n",
       "      <th></th>\n",
       "      <th>Before_u</th>\n",
       "      <th>After_u</th>\n",
       "      <th>Before_ids</th>\n",
       "      <th>After_ids</th>\n",
       "    </tr>\n",
       "  </thead>\n",
       "  <tbody>\n",
       "    <tr>\n",
       "      <th>0</th>\n",
       "      <td>0</td>\n",
       "      <td>0</td>\n",
       "      <td>nan</td>\n",
       "      <td>0</td>\n",
       "    </tr>\n",
       "    <tr>\n",
       "      <th>1</th>\n",
       "      <td>0</td>\n",
       "      <td>0</td>\n",
       "      <td>nan</td>\n",
       "      <td>0</td>\n",
       "    </tr>\n",
       "    <tr>\n",
       "      <th>2</th>\n",
       "      <td>0</td>\n",
       "      <td>0</td>\n",
       "      <td>nan</td>\n",
       "      <td>0</td>\n",
       "    </tr>\n",
       "  </tbody>\n",
       "</table>\n",
       "</div>"
      ],
      "text/plain": [
       "   Before_u  After_u Before_ids After_ids\n",
       "0         0        0        nan         0\n",
       "1         0        0        nan         0\n",
       "2         0        0        nan         0"
      ]
     },
     "metadata": {},
     "output_type": "display_data"
    },
    {
     "name": "stdout",
     "output_type": "stream",
     "text": [
      " ✨ Renamed to: Poutre_Sols_coupés_Ids_cleaned\n",
      "──────────────────────────────────────────────────\n",
      "\n",
      " 🔄 Processing: Poutre_Sols_coupants_u ↔ Poutre_Sols_coupants_Ids\n"
     ]
    },
    {
     "data": {
      "application/vnd.microsoft.datawrangler.viewer.v0+json": {
       "columns": [
        {
         "name": "index",
         "rawType": "int64",
         "type": "integer"
        },
        {
         "name": "Before_u",
         "rawType": "int64",
         "type": "integer"
        },
        {
         "name": "After_u",
         "rawType": "int64",
         "type": "integer"
        },
        {
         "name": "Before_ids",
         "rawType": "object",
         "type": "string"
        },
        {
         "name": "After_ids",
         "rawType": "object",
         "type": "string"
        }
       ],
       "ref": "31341284-5886-4a2c-b398-ced056e75bf0",
       "rows": [
        [
         "0",
         "0",
         "0",
         "nan",
         "0"
        ],
        [
         "1",
         "0",
         "0",
         "nan",
         "0"
        ],
        [
         "2",
         "0",
         "0",
         "nan",
         "0"
        ]
       ],
       "shape": {
        "columns": 4,
        "rows": 3
       }
      },
      "text/html": [
       "<div>\n",
       "<style scoped>\n",
       "    .dataframe tbody tr th:only-of-type {\n",
       "        vertical-align: middle;\n",
       "    }\n",
       "\n",
       "    .dataframe tbody tr th {\n",
       "        vertical-align: top;\n",
       "    }\n",
       "\n",
       "    .dataframe thead th {\n",
       "        text-align: right;\n",
       "    }\n",
       "</style>\n",
       "<table border=\"1\" class=\"dataframe\">\n",
       "  <thead>\n",
       "    <tr style=\"text-align: right;\">\n",
       "      <th></th>\n",
       "      <th>Before_u</th>\n",
       "      <th>After_u</th>\n",
       "      <th>Before_ids</th>\n",
       "      <th>After_ids</th>\n",
       "    </tr>\n",
       "  </thead>\n",
       "  <tbody>\n",
       "    <tr>\n",
       "      <th>0</th>\n",
       "      <td>0</td>\n",
       "      <td>0</td>\n",
       "      <td>nan</td>\n",
       "      <td>0</td>\n",
       "    </tr>\n",
       "    <tr>\n",
       "      <th>1</th>\n",
       "      <td>0</td>\n",
       "      <td>0</td>\n",
       "      <td>nan</td>\n",
       "      <td>0</td>\n",
       "    </tr>\n",
       "    <tr>\n",
       "      <th>2</th>\n",
       "      <td>0</td>\n",
       "      <td>0</td>\n",
       "      <td>nan</td>\n",
       "      <td>0</td>\n",
       "    </tr>\n",
       "  </tbody>\n",
       "</table>\n",
       "</div>"
      ],
      "text/plain": [
       "   Before_u  After_u Before_ids After_ids\n",
       "0         0        0        nan         0\n",
       "1         0        0        nan         0\n",
       "2         0        0        nan         0"
      ]
     },
     "metadata": {},
     "output_type": "display_data"
    },
    {
     "name": "stdout",
     "output_type": "stream",
     "text": [
      " ✨ Renamed to: Poutre_Sols_coupants_Ids_cleaned\n",
      "──────────────────────────────────────────────────\n",
      "\n",
      " 🔄 Processing: Poutre_Poteaux_coupés_u ↔ Poutre_Poteaux_coupés_Ids\n"
     ]
    },
    {
     "data": {
      "application/vnd.microsoft.datawrangler.viewer.v0+json": {
       "columns": [
        {
         "name": "index",
         "rawType": "int64",
         "type": "integer"
        },
        {
         "name": "Before_u",
         "rawType": "int64",
         "type": "integer"
        },
        {
         "name": "After_u",
         "rawType": "int64",
         "type": "integer"
        },
        {
         "name": "Before_ids",
         "rawType": "object",
         "type": "string"
        },
        {
         "name": "After_ids",
         "rawType": "object",
         "type": "string"
        }
       ],
       "ref": "5c6f3265-3632-41f4-9e4c-e1d5f6e1c2db",
       "rows": [
        [
         "0",
         "0",
         "0",
         "nan",
         "0"
        ],
        [
         "1",
         "0",
         "0",
         "nan",
         "0"
        ],
        [
         "2",
         "0",
         "0",
         "nan",
         "0"
        ]
       ],
       "shape": {
        "columns": 4,
        "rows": 3
       }
      },
      "text/html": [
       "<div>\n",
       "<style scoped>\n",
       "    .dataframe tbody tr th:only-of-type {\n",
       "        vertical-align: middle;\n",
       "    }\n",
       "\n",
       "    .dataframe tbody tr th {\n",
       "        vertical-align: top;\n",
       "    }\n",
       "\n",
       "    .dataframe thead th {\n",
       "        text-align: right;\n",
       "    }\n",
       "</style>\n",
       "<table border=\"1\" class=\"dataframe\">\n",
       "  <thead>\n",
       "    <tr style=\"text-align: right;\">\n",
       "      <th></th>\n",
       "      <th>Before_u</th>\n",
       "      <th>After_u</th>\n",
       "      <th>Before_ids</th>\n",
       "      <th>After_ids</th>\n",
       "    </tr>\n",
       "  </thead>\n",
       "  <tbody>\n",
       "    <tr>\n",
       "      <th>0</th>\n",
       "      <td>0</td>\n",
       "      <td>0</td>\n",
       "      <td>nan</td>\n",
       "      <td>0</td>\n",
       "    </tr>\n",
       "    <tr>\n",
       "      <th>1</th>\n",
       "      <td>0</td>\n",
       "      <td>0</td>\n",
       "      <td>nan</td>\n",
       "      <td>0</td>\n",
       "    </tr>\n",
       "    <tr>\n",
       "      <th>2</th>\n",
       "      <td>0</td>\n",
       "      <td>0</td>\n",
       "      <td>nan</td>\n",
       "      <td>0</td>\n",
       "    </tr>\n",
       "  </tbody>\n",
       "</table>\n",
       "</div>"
      ],
      "text/plain": [
       "   Before_u  After_u Before_ids After_ids\n",
       "0         0        0        nan         0\n",
       "1         0        0        nan         0\n",
       "2         0        0        nan         0"
      ]
     },
     "metadata": {},
     "output_type": "display_data"
    },
    {
     "name": "stdout",
     "output_type": "stream",
     "text": [
      " ✨ Renamed to: Poutre_Poteaux_coupés_Ids_cleaned\n",
      "──────────────────────────────────────────────────\n",
      " ⚠️ Poutre_Poteaux_coupants_u → No matching IDs column\n",
      "📋 Poteaux:\n",
      "\n",
      " 🔄 Processing: Poteau_Sols_coupés_u ↔ Poteau_Sols_coupés_Ids\n"
     ]
    },
    {
     "data": {
      "application/vnd.microsoft.datawrangler.viewer.v0+json": {
       "columns": [
        {
         "name": "index",
         "rawType": "int64",
         "type": "integer"
        },
        {
         "name": "Before_u",
         "rawType": "int64",
         "type": "integer"
        },
        {
         "name": "After_u",
         "rawType": "int64",
         "type": "integer"
        },
        {
         "name": "Before_ids",
         "rawType": "object",
         "type": "string"
        },
        {
         "name": "After_ids",
         "rawType": "object",
         "type": "string"
        }
       ],
       "ref": "9d81ea0a-0145-4db9-a08f-c31286bb99c2",
       "rows": [
        [
         "0",
         "0",
         "0",
         "nan",
         "0"
        ],
        [
         "1",
         "0",
         "0",
         "nan",
         "0"
        ],
        [
         "2",
         "0",
         "0",
         "nan",
         "0"
        ]
       ],
       "shape": {
        "columns": 4,
        "rows": 3
       }
      },
      "text/html": [
       "<div>\n",
       "<style scoped>\n",
       "    .dataframe tbody tr th:only-of-type {\n",
       "        vertical-align: middle;\n",
       "    }\n",
       "\n",
       "    .dataframe tbody tr th {\n",
       "        vertical-align: top;\n",
       "    }\n",
       "\n",
       "    .dataframe thead th {\n",
       "        text-align: right;\n",
       "    }\n",
       "</style>\n",
       "<table border=\"1\" class=\"dataframe\">\n",
       "  <thead>\n",
       "    <tr style=\"text-align: right;\">\n",
       "      <th></th>\n",
       "      <th>Before_u</th>\n",
       "      <th>After_u</th>\n",
       "      <th>Before_ids</th>\n",
       "      <th>After_ids</th>\n",
       "    </tr>\n",
       "  </thead>\n",
       "  <tbody>\n",
       "    <tr>\n",
       "      <th>0</th>\n",
       "      <td>0</td>\n",
       "      <td>0</td>\n",
       "      <td>nan</td>\n",
       "      <td>0</td>\n",
       "    </tr>\n",
       "    <tr>\n",
       "      <th>1</th>\n",
       "      <td>0</td>\n",
       "      <td>0</td>\n",
       "      <td>nan</td>\n",
       "      <td>0</td>\n",
       "    </tr>\n",
       "    <tr>\n",
       "      <th>2</th>\n",
       "      <td>0</td>\n",
       "      <td>0</td>\n",
       "      <td>nan</td>\n",
       "      <td>0</td>\n",
       "    </tr>\n",
       "  </tbody>\n",
       "</table>\n",
       "</div>"
      ],
      "text/plain": [
       "   Before_u  After_u Before_ids After_ids\n",
       "0         0        0        nan         0\n",
       "1         0        0        nan         0\n",
       "2         0        0        nan         0"
      ]
     },
     "metadata": {},
     "output_type": "display_data"
    },
    {
     "name": "stdout",
     "output_type": "stream",
     "text": [
      " ✨ Renamed to: Poteau_Sols_coupés_Ids_cleaned\n",
      "──────────────────────────────────────────────────\n",
      "\n",
      " 🔄 Processing: Poteau_Sols_coupants_u ↔ Poteau_Sols_coupants_Ids\n"
     ]
    },
    {
     "data": {
      "application/vnd.microsoft.datawrangler.viewer.v0+json": {
       "columns": [
        {
         "name": "index",
         "rawType": "int64",
         "type": "integer"
        },
        {
         "name": "Before_u",
         "rawType": "int64",
         "type": "integer"
        },
        {
         "name": "After_u",
         "rawType": "int64",
         "type": "integer"
        },
        {
         "name": "Before_ids",
         "rawType": "object",
         "type": "string"
        },
        {
         "name": "After_ids",
         "rawType": "object",
         "type": "string"
        }
       ],
       "ref": "6a55c86d-805d-4dc0-8035-4e10855280d1",
       "rows": [
        [
         "0",
         "1",
         "1",
         "1788810",
         "1788810"
        ],
        [
         "1",
         "0",
         "0",
         "nan",
         "0"
        ],
        [
         "2",
         "0",
         "0",
         "nan",
         "0"
        ]
       ],
       "shape": {
        "columns": 4,
        "rows": 3
       }
      },
      "text/html": [
       "<div>\n",
       "<style scoped>\n",
       "    .dataframe tbody tr th:only-of-type {\n",
       "        vertical-align: middle;\n",
       "    }\n",
       "\n",
       "    .dataframe tbody tr th {\n",
       "        vertical-align: top;\n",
       "    }\n",
       "\n",
       "    .dataframe thead th {\n",
       "        text-align: right;\n",
       "    }\n",
       "</style>\n",
       "<table border=\"1\" class=\"dataframe\">\n",
       "  <thead>\n",
       "    <tr style=\"text-align: right;\">\n",
       "      <th></th>\n",
       "      <th>Before_u</th>\n",
       "      <th>After_u</th>\n",
       "      <th>Before_ids</th>\n",
       "      <th>After_ids</th>\n",
       "    </tr>\n",
       "  </thead>\n",
       "  <tbody>\n",
       "    <tr>\n",
       "      <th>0</th>\n",
       "      <td>1</td>\n",
       "      <td>1</td>\n",
       "      <td>1788810</td>\n",
       "      <td>1788810</td>\n",
       "    </tr>\n",
       "    <tr>\n",
       "      <th>1</th>\n",
       "      <td>0</td>\n",
       "      <td>0</td>\n",
       "      <td>nan</td>\n",
       "      <td>0</td>\n",
       "    </tr>\n",
       "    <tr>\n",
       "      <th>2</th>\n",
       "      <td>0</td>\n",
       "      <td>0</td>\n",
       "      <td>nan</td>\n",
       "      <td>0</td>\n",
       "    </tr>\n",
       "  </tbody>\n",
       "</table>\n",
       "</div>"
      ],
      "text/plain": [
       "   Before_u  After_u Before_ids After_ids\n",
       "0         1        1    1788810   1788810\n",
       "1         0        0        nan         0\n",
       "2         0        0        nan         0"
      ]
     },
     "metadata": {},
     "output_type": "display_data"
    },
    {
     "name": "stdout",
     "output_type": "stream",
     "text": [
      " ✨ Renamed to: Poteau_Sols_coupants_Ids_cleaned\n",
      "──────────────────────────────────────────────────\n",
      "\n",
      " 🔄 Processing: Poteau_Poutres_coupés_u ↔ Poteau_Poutres_coupés_Ids\n"
     ]
    },
    {
     "data": {
      "application/vnd.microsoft.datawrangler.viewer.v0+json": {
       "columns": [
        {
         "name": "index",
         "rawType": "int64",
         "type": "integer"
        },
        {
         "name": "Before_u",
         "rawType": "int64",
         "type": "integer"
        },
        {
         "name": "After_u",
         "rawType": "int64",
         "type": "integer"
        },
        {
         "name": "Before_ids",
         "rawType": "object",
         "type": "string"
        },
        {
         "name": "After_ids",
         "rawType": "object",
         "type": "string"
        }
       ],
       "ref": "2376e56d-63d2-41b1-a1d1-9a26f9219571",
       "rows": [
        [
         "0",
         "2",
         "2",
         "1788966,1795639",
         "1788966,1795639"
        ],
        [
         "1",
         "1",
         "1",
         "1788934",
         "1788934"
        ],
        [
         "2",
         "1",
         "1",
         "1788936",
         "1788936"
        ]
       ],
       "shape": {
        "columns": 4,
        "rows": 3
       }
      },
      "text/html": [
       "<div>\n",
       "<style scoped>\n",
       "    .dataframe tbody tr th:only-of-type {\n",
       "        vertical-align: middle;\n",
       "    }\n",
       "\n",
       "    .dataframe tbody tr th {\n",
       "        vertical-align: top;\n",
       "    }\n",
       "\n",
       "    .dataframe thead th {\n",
       "        text-align: right;\n",
       "    }\n",
       "</style>\n",
       "<table border=\"1\" class=\"dataframe\">\n",
       "  <thead>\n",
       "    <tr style=\"text-align: right;\">\n",
       "      <th></th>\n",
       "      <th>Before_u</th>\n",
       "      <th>After_u</th>\n",
       "      <th>Before_ids</th>\n",
       "      <th>After_ids</th>\n",
       "    </tr>\n",
       "  </thead>\n",
       "  <tbody>\n",
       "    <tr>\n",
       "      <th>0</th>\n",
       "      <td>2</td>\n",
       "      <td>2</td>\n",
       "      <td>1788966,1795639</td>\n",
       "      <td>1788966,1795639</td>\n",
       "    </tr>\n",
       "    <tr>\n",
       "      <th>1</th>\n",
       "      <td>1</td>\n",
       "      <td>1</td>\n",
       "      <td>1788934</td>\n",
       "      <td>1788934</td>\n",
       "    </tr>\n",
       "    <tr>\n",
       "      <th>2</th>\n",
       "      <td>1</td>\n",
       "      <td>1</td>\n",
       "      <td>1788936</td>\n",
       "      <td>1788936</td>\n",
       "    </tr>\n",
       "  </tbody>\n",
       "</table>\n",
       "</div>"
      ],
      "text/plain": [
       "   Before_u  After_u       Before_ids        After_ids\n",
       "0         2        2  1788966,1795639  1788966,1795639\n",
       "1         1        1          1788934          1788934\n",
       "2         1        1          1788936          1788936"
      ]
     },
     "metadata": {},
     "output_type": "display_data"
    },
    {
     "name": "stdout",
     "output_type": "stream",
     "text": [
      " ✨ Renamed to: Poteau_Poutres_coupés_Ids_cleaned\n",
      "──────────────────────────────────────────────────\n",
      "\n",
      " 🔄 Processing: Poteau_Poutres_coupants_u ↔ Poteau_Poutres_coupants_Ids\n"
     ]
    },
    {
     "data": {
      "application/vnd.microsoft.datawrangler.viewer.v0+json": {
       "columns": [
        {
         "name": "index",
         "rawType": "int64",
         "type": "integer"
        },
        {
         "name": "Before_u",
         "rawType": "int64",
         "type": "integer"
        },
        {
         "name": "After_u",
         "rawType": "int64",
         "type": "integer"
        },
        {
         "name": "Before_ids",
         "rawType": "object",
         "type": "string"
        },
        {
         "name": "After_ids",
         "rawType": "object",
         "type": "string"
        }
       ],
       "ref": "2eb9b10f-4a66-4075-99ed-db97c8de3626",
       "rows": [
        [
         "0",
         "0",
         "0",
         "nan",
         "0"
        ],
        [
         "1",
         "0",
         "0",
         "nan",
         "0"
        ],
        [
         "2",
         "0",
         "0",
         "nan",
         "0"
        ]
       ],
       "shape": {
        "columns": 4,
        "rows": 3
       }
      },
      "text/html": [
       "<div>\n",
       "<style scoped>\n",
       "    .dataframe tbody tr th:only-of-type {\n",
       "        vertical-align: middle;\n",
       "    }\n",
       "\n",
       "    .dataframe tbody tr th {\n",
       "        vertical-align: top;\n",
       "    }\n",
       "\n",
       "    .dataframe thead th {\n",
       "        text-align: right;\n",
       "    }\n",
       "</style>\n",
       "<table border=\"1\" class=\"dataframe\">\n",
       "  <thead>\n",
       "    <tr style=\"text-align: right;\">\n",
       "      <th></th>\n",
       "      <th>Before_u</th>\n",
       "      <th>After_u</th>\n",
       "      <th>Before_ids</th>\n",
       "      <th>After_ids</th>\n",
       "    </tr>\n",
       "  </thead>\n",
       "  <tbody>\n",
       "    <tr>\n",
       "      <th>0</th>\n",
       "      <td>0</td>\n",
       "      <td>0</td>\n",
       "      <td>nan</td>\n",
       "      <td>0</td>\n",
       "    </tr>\n",
       "    <tr>\n",
       "      <th>1</th>\n",
       "      <td>0</td>\n",
       "      <td>0</td>\n",
       "      <td>nan</td>\n",
       "      <td>0</td>\n",
       "    </tr>\n",
       "    <tr>\n",
       "      <th>2</th>\n",
       "      <td>0</td>\n",
       "      <td>0</td>\n",
       "      <td>nan</td>\n",
       "      <td>0</td>\n",
       "    </tr>\n",
       "  </tbody>\n",
       "</table>\n",
       "</div>"
      ],
      "text/plain": [
       "   Before_u  After_u Before_ids After_ids\n",
       "0         0        0        nan         0\n",
       "1         0        0        nan         0\n",
       "2         0        0        nan         0"
      ]
     },
     "metadata": {},
     "output_type": "display_data"
    },
    {
     "name": "stdout",
     "output_type": "stream",
     "text": [
      " ✨ Renamed to: Poteau_Poutres_coupants_Ids_cleaned\n",
      "──────────────────────────────────────────────────\n",
      "\n",
      "✅ FINAL COLUMNS PER DATAFRAME:\n",
      "\n",
      "📌 Murs columns:\n",
      " • Mur_Id \n",
      " • Mur_011EC_Lot \n",
      " • Mur_012EC_Ouvrage \n",
      " • Mur_013EC_Localisation \n",
      " • Mur_014EC_Mode_Constructif \n",
      " • Mur_Hauteur \n",
      " • Mur_Epaisseur \n",
      " • Mur_AI \n",
      " • Mur_AS \n",
      " • Mur_Sols_en_intersection \n",
      " • Mur_Sols_coupés_u \n",
      " • Mur_Sols_coupés_Ids_cleaned (renamed)\n",
      " • Mur_Sols_coupants_u \n",
      " • Mur_Sols_coupants_Ids_cleaned (renamed)\n",
      " • Mur_Sol_au-dessus \n",
      " • Mur_Sol_en-dessous \n",
      " • Mur_Fenêtres \n",
      " • Mur_Portes \n",
      " • Mur_Ouvertures \n",
      " • Mur_Murs_imbriqués \n",
      " • Mur_Mur_multicouche \n",
      " • Mur_Profil_modifié \n",
      " • Mur_Extension_inférieure \n",
      " • Mur_Extension_supérieure \n",
      " • Mur_Volume \n",
      " • Mur_Surface \n",
      " • Mur_Partie_inférieure_attachée \n",
      " • Mur_Partie_supérieure_attachée \n",
      " • Mur_Décalage_supérieur \n",
      " • Mur_Décalage_inférieur \n",
      " • Mur_Matériau_structurel \n",
      "\n",
      "📌 Sols columns:\n",
      " • Sol_Id \n",
      " • Sol_011EC_Lot \n",
      " • Sol_012EC_Ouvrage \n",
      " • Sol_013EC_Localisation \n",
      " • Sol_014EC_Mode_Constructif \n",
      " • Sol_Murs_en_intersection \n",
      " • Sol_Murs_coupés_u \n",
      " • Sol_Murs_coupés_Ids_cleaned (renamed)\n",
      " • Sol_Murs_coupants_u \n",
      " • Sol_Murs_coupants_Ids_cleaned (renamed)\n",
      " • Sol_Poutres_en_intersection \n",
      " • Sol_Poutres_coupés_u \n",
      " • Sol_Poutres_coupés_Ids_cleaned (renamed)\n",
      " • Sol_Poutres_coupants_u \n",
      " • Sol_Poutres_coupants_Ids_cleaned (renamed)\n",
      " • Sol_Poteaux_en_intersection \n",
      " • Sol_Poteaux_coupés_u \n",
      " • Sol_Poteaux_coupés_Ids_cleaned (renamed)\n",
      " • Sol_Poteaux_coupants_u \n",
      " • Sol_Poteaux_coupants_Ids_cleaned (renamed)\n",
      " • Sol_Volume \n",
      " • Sol_Surface \n",
      " • Sol_Matériau_structurel \n",
      "\n",
      "📌 Poutres columns:\n",
      " • Poutre_Id \n",
      " • Poutre_011EC_Lot \n",
      " • Poutre_012EC_Ouvrage \n",
      " • Poutre_013EC_Localisation \n",
      " • Poutre_014EC_Mode_Constructif \n",
      " • Poutre_AI \n",
      " • Poutre_AS \n",
      " • Poutre_Hauteur_totale \n",
      " • Poutre_Hauteur \n",
      " • Poutre_Sols_en_intersection \n",
      " • Poutre_Sols_coupés_u \n",
      " • Poutre_Sols_coupés_Ids_cleaned (renamed)\n",
      " • Poutre_Sols_coupants_u \n",
      " • Poutre_Sols_coupants_Ids_cleaned (renamed)\n",
      " • Poutre_Sol_au-dessus \n",
      " • Poutre_Sol_en-dessous \n",
      " • Poutre_Poteaux_en_intersection \n",
      " • Poutre_Poteaux_coupés_u \n",
      " • Poutre_Poteaux_coupés_Ids_cleaned (renamed)\n",
      " • Poutre_Poteaux_coupants_u \n",
      " • Poutre_Matériau_structurel \n",
      " • Poutre_Elévation_à_la_base \n",
      " • Poutre_Longueur_de_coupe \n",
      "\n",
      "📌 Poteaux columns:\n",
      " • Poteau_Id \n",
      " • Poteau_011EC_Lot \n",
      " • Poteau_012EC_Ouvrage \n",
      " • Poteau_013EC_Localisation \n",
      " • Poteau_014EC_Mode_Constructif \n",
      " • Poteau_Nom \n",
      " • Poteau_AI \n",
      " • Poteau_AS \n",
      " • Poteau_Hauteur \n",
      " • Poteau_Longueur \n",
      " • Poteau_Partie_inférieure_attachée \n",
      " • Poteau_Partie_supérieure_attachée \n",
      " • Poteau_Sols_en_intersection \n",
      " • Poteau_Sols_coupés_u \n",
      " • Poteau_Sols_coupés_Ids_cleaned (renamed)\n",
      " • Poteau_Sols_coupants_u \n",
      " • Poteau_Sols_coupants_Ids_cleaned (renamed)\n",
      " • Poteau_Poutres_en_intersection \n",
      " • Poteau_Poutres_coupés_u \n",
      " • Poteau_Poutres_coupés_Ids_cleaned (renamed)\n",
      " • Poteau_Poutres_coupants_u \n",
      " • Poteau_Poutres_coupants_Ids_cleaned (renamed)\n",
      " • Poteau_Matériau_structurel \n",
      " • Poteau_Marque_d'emplacement_du_poteau \n",
      " • Poteau_Décalage_supérieur \n",
      " • Poteau_Décalage_inférieur \n"
     ]
    }
   ],
   "source": [
    "import excel_clean_ids_columns\n",
    "\n",
    "df_dict = {'Murs': murs_df, 'Sols': sols_df, 'Poutres': poutres_df, 'Poteaux': poteaux_df}\n",
    "\n",
    "cleaned_dfs, renamed_columns = excel_clean_ids_columns.clean_ids_columns(df_dict)"
   ]
  },
  {
   "cell_type": "code",
   "execution_count": 7,
   "id": "a53ecf84",
   "metadata": {},
   "outputs": [
    {
     "name": "stdout",
     "output_type": "stream",
     "text": [
      "\n",
      "🔍 Processing Murs...\n",
      "✅ Found & Processed: Mur_Sols_coupés_Ids_cleaned, Added Count Column: Mur_Sols_coupés_Ids_cleaned_count\n",
      "✅ Found & Processed: Mur_Sols_coupants_Ids_cleaned, Added Count Column: Mur_Sols_coupants_Ids_cleaned_count\n",
      "\n",
      "🔍 Processing Sols...\n",
      "✅ Found & Processed: Sol_Murs_coupés_Ids_cleaned, Added Count Column: Sol_Murs_coupés_Ids_cleaned_count\n",
      "✅ Found & Processed: Sol_Murs_coupants_Ids_cleaned, Added Count Column: Sol_Murs_coupants_Ids_cleaned_count\n",
      "✅ Found & Processed: Sol_Poutres_coupés_Ids_cleaned, Added Count Column: Sol_Poutres_coupés_Ids_cleaned_count\n",
      "✅ Found & Processed: Sol_Poutres_coupants_Ids_cleaned, Added Count Column: Sol_Poutres_coupants_Ids_cleaned_count\n",
      "✅ Found & Processed: Sol_Poteaux_coupés_Ids_cleaned, Added Count Column: Sol_Poteaux_coupés_Ids_cleaned_count\n",
      "✅ Found & Processed: Sol_Poteaux_coupants_Ids_cleaned, Added Count Column: Sol_Poteaux_coupants_Ids_cleaned_count\n",
      "\n",
      "🔍 Processing Poutres...\n",
      "✅ Found & Processed: Poutre_Sols_coupés_Ids_cleaned, Added Count Column: Poutre_Sols_coupés_Ids_cleaned_count\n",
      "✅ Found & Processed: Poutre_Sols_coupants_Ids_cleaned, Added Count Column: Poutre_Sols_coupants_Ids_cleaned_count\n",
      "✅ Found & Processed: Poutre_Poteaux_coupés_Ids_cleaned, Added Count Column: Poutre_Poteaux_coupés_Ids_cleaned_count\n",
      "\n",
      "🔍 Processing Poteaux...\n",
      "✅ Found & Processed: Poteau_Sols_coupés_Ids_cleaned, Added Count Column: Poteau_Sols_coupés_Ids_cleaned_count\n",
      "✅ Found & Processed: Poteau_Sols_coupants_Ids_cleaned, Added Count Column: Poteau_Sols_coupants_Ids_cleaned_count\n",
      "✅ Found & Processed: Poteau_Poutres_coupés_Ids_cleaned, Added Count Column: Poteau_Poutres_coupés_Ids_cleaned_count\n",
      "✅ Found & Processed: Poteau_Poutres_coupants_Ids_cleaned, Added Count Column: Poteau_Poutres_coupants_Ids_cleaned_count\n",
      "\n",
      "🆕 Processed Columns:\n",
      "Detected & counted: Mur_Sols_coupés_Ids_cleaned\n",
      "Detected & counted: Mur_Sols_coupants_Ids_cleaned\n",
      "Detected & counted: Sol_Murs_coupés_Ids_cleaned\n",
      "Detected & counted: Sol_Murs_coupants_Ids_cleaned\n",
      "Detected & counted: Sol_Poutres_coupés_Ids_cleaned\n",
      "Detected & counted: Sol_Poutres_coupants_Ids_cleaned\n",
      "Detected & counted: Sol_Poteaux_coupés_Ids_cleaned\n",
      "Detected & counted: Sol_Poteaux_coupants_Ids_cleaned\n",
      "Detected & counted: Poutre_Sols_coupés_Ids_cleaned\n",
      "Detected & counted: Poutre_Sols_coupants_Ids_cleaned\n",
      "Detected & counted: Poutre_Poteaux_coupés_Ids_cleaned\n",
      "Detected & counted: Poteau_Sols_coupés_Ids_cleaned\n",
      "Detected & counted: Poteau_Sols_coupants_Ids_cleaned\n",
      "Detected & counted: Poteau_Poutres_coupés_Ids_cleaned\n",
      "Detected & counted: Poteau_Poutres_coupants_Ids_cleaned\n",
      "\n",
      "Murs DataFrame count columns:\n",
      "   Mur_Sols_coupés_Ids_cleaned_count  Mur_Sols_coupants_Ids_cleaned_count\n",
      "0                                  0                                    3\n",
      "1                                  0                                    1\n",
      "2                                  0                                    1\n",
      "3                                  0                                    0\n",
      "4                                  0                                    2\n",
      "\n",
      "Sols DataFrame count columns:\n",
      "   Sol_Murs_coupés_Ids_cleaned_count  Sol_Murs_coupants_Ids_cleaned_count  \\\n",
      "0                                  0                                    0   \n",
      "1                                  9                                    0   \n",
      "2                                  3                                    0   \n",
      "3                                 12                                    0   \n",
      "4                                  0                                    0   \n",
      "\n",
      "   Sol_Poutres_coupés_Ids_cleaned_count  \\\n",
      "0                                     1   \n",
      "1                                     1   \n",
      "2                                     0   \n",
      "3                                     0   \n",
      "4                                     0   \n",
      "\n",
      "   Sol_Poutres_coupants_Ids_cleaned_count  \\\n",
      "0                                       0   \n",
      "1                                       0   \n",
      "2                                       0   \n",
      "3                                       0   \n",
      "4                                       0   \n",
      "\n",
      "   Sol_Poteaux_coupés_Ids_cleaned_count  \\\n",
      "0                                     0   \n",
      "1                                     0   \n",
      "2                                     0   \n",
      "3                                     0   \n",
      "4                                     0   \n",
      "\n",
      "   Sol_Poteaux_coupants_Ids_cleaned_count  \n",
      "0                                       0  \n",
      "1                                       0  \n",
      "2                                       0  \n",
      "3                                       0  \n",
      "4                                       0  \n",
      "\n",
      "Poutres DataFrame count columns:\n",
      "   Poutre_Sols_coupés_Ids_cleaned_count  \\\n",
      "0                                     0   \n",
      "1                                     0   \n",
      "2                                     0   \n",
      "3                                     0   \n",
      "4                                     0   \n",
      "\n",
      "   Poutre_Sols_coupants_Ids_cleaned_count  \\\n",
      "0                                       0   \n",
      "1                                       0   \n",
      "2                                       0   \n",
      "3                                       0   \n",
      "4                                       0   \n",
      "\n",
      "   Poutre_Poteaux_coupés_Ids_cleaned_count  \n",
      "0                                        0  \n",
      "1                                        0  \n",
      "2                                        0  \n",
      "3                                        0  \n",
      "4                                        0  \n",
      "\n",
      "Poteaux DataFrame count columns:\n",
      "   Poteau_Sols_coupés_Ids_cleaned_count  \\\n",
      "0                                     0   \n",
      "1                                     0   \n",
      "2                                     0   \n",
      "3                                     0   \n",
      "4                                     0   \n",
      "\n",
      "   Poteau_Sols_coupants_Ids_cleaned_count  \\\n",
      "0                                       1   \n",
      "1                                       0   \n",
      "2                                       0   \n",
      "3                                       2   \n",
      "4                                       1   \n",
      "\n",
      "   Poteau_Poutres_coupés_Ids_cleaned_count  \\\n",
      "0                                        2   \n",
      "1                                        1   \n",
      "2                                        1   \n",
      "3                                        2   \n",
      "4                                        0   \n",
      "\n",
      "   Poteau_Poutres_coupants_Ids_cleaned_count  \n",
      "0                                          0  \n",
      "1                                          0  \n",
      "2                                          0  \n",
      "3                                          0  \n",
      "4                                          0  \n"
     ]
    },
    {
     "data": {
      "image/png": "[encoded data removed]",
      "text/plain": [
       "<Figure size 1200x600 with 1 Axes>"
      ]
     },
     "metadata": {},
     "output_type": "display_data"
    }
   ],
   "source": [
    "from excel_insertions_ids_counter import count_ids_per_row, plot_id_counts\n",
    "\n",
    "df_dict, renamed_columns = count_ids_per_row(df_dict)\n",
    "### ======================\n",
    "### Show detected columns\n",
    "### ======================\n",
    "print(\"\\n🆕 Processed Columns:\")\n",
    "for col_name in renamed_columns.keys():\n",
    "    print(f\"Detected & counted: {col_name}\")\n",
    "\n",
    "### ========================================\n",
    "### Validate count columns in each DataFrame\n",
    "### ========================================\n",
    "for name, df in df_dict.items():\n",
    "    df_count_cols = [col + \"_count\" for col in renamed_columns.keys() if (col + \"_count\") in df.columns]\n",
    "    print(f\"\\n{name} DataFrame count columns:\")\n",
    "    if df_count_cols:\n",
    "        print(df[df_count_cols].head())\n",
    "    else:\n",
    "        print(\"⚠️ No count columns found.\")\n",
    "\n",
    "### ========================================\n",
    "### Generate plot based on processed data\n",
    "### ========================================\n",
    "plot_id_counts(df_dict, renamed_columns)\n",
    "### save the graph if not already saved\n",
    "graph_path = os.path.join(plots_folder, \"id_counts.png\")\n",
    "if not os.path.exists(graph_path):\n",
    "    plt.savefig(graph_path, bbox_inches='tight')\n",
    "    print(f\"Graph saved to {graph_path}\")"
   ]
  },
  {
   "cell_type": "code",
   "execution_count": null,
   "id": "d1a1e52b",
   "metadata": {},
   "outputs": [
    {
     "name": "stdout",
     "output_type": "stream",
     "text": [
      "\n",
      "🔍 Processing relationships for Murs...\n",
      "🔗 Linking Mur_Sols_coupés_Ids_cleaned in Murs → Sols\n",
      "✅ Successfully linked 28 features from Sols\n",
      "🔗 Linking Mur_Sols_coupants_Ids_cleaned in Murs → Sols\n",
      "❌ Failed to process Mur_Sols_coupants_Ids_cleaned: cannot reindex on an axis with duplicate labels\n",
      "🔗 Linking Mur_Sols_coupés_Ids_cleaned_count in Murs → Sols\n",
      "✅ Successfully linked 28 features from Sols\n",
      "🔗 Linking Mur_Sols_coupants_Ids_cleaned_count in Murs → Sols\n",
      "✅ Successfully linked 28 features from Sols\n",
      "\n",
      "🔍 Processing relationships for Sols...\n",
      "🔗 Linking Sol_Murs_coupés_Ids_cleaned in Sols → Murs\n",
      "❌ Failed to process Sol_Murs_coupés_Ids_cleaned: cannot reindex on an axis with duplicate labels\n",
      "🔗 Linking Sol_Murs_coupants_Ids_cleaned in Sols → Murs\n",
      "✅ Successfully linked 60 features from Murs\n",
      "🔗 Linking Sol_Poutres_coupés_Ids_cleaned in Sols → Poutres\n",
      "❌ Failed to process Sol_Poutres_coupés_Ids_cleaned: cannot reindex on an axis with duplicate labels\n",
      "🔗 Linking Sol_Poutres_coupants_Ids_cleaned in Sols → Poutres\n",
      "✅ Successfully linked 25 features from Poutres\n",
      "🔗 Linking Sol_Poteaux_coupés_Ids_cleaned in Sols → Poteaux\n",
      "❌ Failed to process Sol_Poteaux_coupés_Ids_cleaned: cannot reindex on an axis with duplicate labels\n",
      "🔗 Linking Sol_Poteaux_coupants_Ids_cleaned in Sols → Poteaux\n",
      "✅ Successfully linked 29 features from Poteaux\n",
      "🔗 Linking Sol_Murs_coupés_Ids_cleaned_count in Sols → Murs\n",
      "✅ Successfully linked 60 features from Murs\n",
      "🔗 Linking Sol_Murs_coupants_Ids_cleaned_count in Sols → Murs\n",
      "✅ Successfully linked 60 features from Murs\n",
      "🔗 Linking Sol_Poutres_coupés_Ids_cleaned_count in Sols → Poutres\n",
      "✅ Successfully linked 25 features from Poutres\n",
      "🔗 Linking Sol_Poutres_coupants_Ids_cleaned_count in Sols → Poutres\n",
      "✅ Successfully linked 25 features from Poutres\n",
      "🔗 Linking Sol_Poteaux_coupés_Ids_cleaned_count in Sols → Poteaux\n",
      "✅ Successfully linked 29 features from Poteaux\n",
      "🔗 Linking Sol_Poteaux_coupants_Ids_cleaned_count in Sols → Poteaux\n",
      "✅ Successfully linked 29 features from Poteaux\n",
      "\n",
      "🔍 Processing relationships for Poutres...\n",
      "🔗 Linking Poutre_Sols_coupés_Ids_cleaned in Poutres → Sols\n",
      "✅ Successfully linked 142 features from Sols\n",
      "🔗 Linking Poutre_Sols_coupants_Ids_cleaned in Poutres → Sols\n",
      "❌ Failed to process Poutre_Sols_coupants_Ids_cleaned: cannot reindex on an axis with duplicate labels\n",
      "🔗 Linking Poutre_Poteaux_coupés_Ids_cleaned in Poutres → Poteaux\n",
      "❌ Failed to process Poutre_Poteaux_coupés_Ids_cleaned: cannot reindex on an axis with duplicate labels\n",
      "🔗 Linking Poutre_Sols_coupés_Ids_cleaned_count in Poutres → Sols\n",
      "✅ Successfully linked 142 features from Sols\n",
      "🔗 Linking Poutre_Sols_coupants_Ids_cleaned_count in Poutres → Sols\n",
      "✅ Successfully linked 142 features from Sols\n",
      "🔗 Linking Poutre_Poteaux_coupés_Ids_cleaned_count in Poutres → Poteaux\n",
      "✅ Successfully linked 29 features from Poteaux\n",
      "\n",
      "🔍 Processing relationships for Poteaux...\n",
      "🔗 Linking Poteau_Sols_coupés_Ids_cleaned in Poteaux → Sols\n",
      "✅ Successfully linked 142 features from Sols\n",
      "🔗 Linking Poteau_Sols_coupants_Ids_cleaned in Poteaux → Sols\n",
      "❌ Failed to process Poteau_Sols_coupants_Ids_cleaned: cannot reindex on an axis with duplicate labels\n",
      "🔗 Linking Poteau_Poutres_coupés_Ids_cleaned in Poteaux → Poutres\n",
      "❌ Failed to process Poteau_Poutres_coupés_Ids_cleaned: cannot reindex on an axis with duplicate labels\n",
      "🔗 Linking Poteau_Poutres_coupants_Ids_cleaned in Poteaux → Poutres\n",
      "✅ Successfully linked 196 features from Poutres\n",
      "🔗 Linking Poteau_Sols_coupés_Ids_cleaned_count in Poteaux → Sols\n",
      "✅ Successfully linked 142 features from Sols\n",
      "🔗 Linking Poteau_Sols_coupants_Ids_cleaned_count in Poteaux → Sols\n",
      "✅ Successfully linked 142 features from Sols\n",
      "🔗 Linking Poteau_Poutres_coupés_Ids_cleaned_count in Poteaux → Poutres\n",
      "✅ Successfully linked 196 features from Poutres\n",
      "🔗 Linking Poteau_Poutres_coupants_Ids_cleaned_count in Poteaux → Poutres\n",
      "✅ Successfully linked 196 features from Poutres\n"
     ]
    },
    {
     "data": {
      "image/png": "[encoded data removed]",
      "text/plain": [
       "<Figure size 1000x600 with 1 Axes>"
      ]
     },
     "metadata": {},
     "output_type": "display_data"
    },
    {
     "name": "stdout",
     "output_type": "stream",
     "text": [
      "Interactive graph saved to ../../plot/linked_relationships.html\n"
     ]
    }
   ],
   "source": [
    "### ======================\n",
    "### Link ID relationships\n",
    "### ====================\n",
    "from excel_link_id_relationships import link_id_relationships, plot_linked_relationships, plotly_network_graph\n",
    "df_dict = {\n",
    "    \"Murs\": murs_df,\n",
    "    \"Sols\": sols_df,\n",
    "    \"Poutres\": poutres_df,\n",
    "    \"Poteaux\": poteaux_df\n",
    "}\n",
    "df_dict, linked_columns = link_id_relationships(df_dict)\n",
    "\n",
    "### ====================================\n",
    "### Visualize the linked relationships\n",
    "### ====================================\n",
    "plot_linked_relationships(df_dict, linked_columns)\n",
    "\n",
    "### save the graph if not already saved\n",
    "graph_path = os.path.join(plots_folder, \"linked_relationships.png\")\n",
    "if not os.path.exists(graph_path):\n",
    "    plt.savefig(graph_path, bbox_inches='tight')\n",
    "    print(f\"Graph saved to {graph_path}\")\n",
    "\n",
    "\n",
    "### Generate relationship graph\n",
    "graph_links = plotly_network_graph(df_dict, linked_columns)\n",
    "html_path = os.path.join(plots_folder, \"linked_relationships.html\")\n",
    "graph_links.write_html(html_path)\n",
    "print(f\"Interactive graph saved to {html_path}\")\n"
   ]
  },
  {
   "cell_type": "code",
   "execution_count": null,
   "id": "d9128d17",
   "metadata": {},
   "outputs": [
    {
     "name": "stdout",
     "output_type": "stream",
     "text": [
      "✅ Interactive Quantity graph saved to plots/network_graph_quantities.html\n"
     ]
    }
   ],
   "source": [
    "import plotly.graph_objects as go\n",
    "import networkx as nx\n",
    "\n",
    "def plotly_quantity_graph(df_dict):\n",
    "    \"\"\"\n",
    "    Creates an interactive network graph using Plotly and NetworkX based on `*_coupés_u*` and `*_coupantes_u*` columns.\n",
    "\n",
    "    Args:\n",
    "        df_dict (dict): Dictionary containing DataFrames.\n",
    "\n",
    "    Returns:\n",
    "        Plotly figure object.\n",
    "    \"\"\"\n",
    "    G_quantities = nx.Graph()\n",
    "    edge_x_quantities, edge_y_quantities = [], []\n",
    "\n",
    "    # Build the graph using only `*_coupés_u*` and `*_coupantes_u*` columns\n",
    "    for main_df_name, main_df in df_dict.items():\n",
    "        G_quantities.add_node(main_df_name, label=main_df_name, type='dataframe')\n",
    "\n",
    "        for column in main_df.columns:\n",
    "            if \"_coupés_u\" in column or \"_coupantes_u\" in column:\n",
    "                total_count = main_df[column].sum()  # Aggregate count\n",
    "\n",
    "                # Define node type based on relationship\n",
    "                relation_type = \"coupés\" if \"_coupés_u\" in column else \"coupantes\"\n",
    "                new_node_name = f\"{main_df_name} {relation_type}_u ({total_count})\"\n",
    "\n",
    "                # Add aggregated count node\n",
    "                G_quantities.add_node(new_node_name, label=new_node_name, type='quantity')\n",
    "                G_quantities.add_edge(main_df_name, new_node_name)\n",
    "\n",
    "    # Position nodes using a spring layout\n",
    "    pos_quantities = nx.spring_layout(G_quantities, seed=42)\n",
    "\n",
    "    # Function to create graph traces\n",
    "    def create_graph_trace(G, pos, edge_x, edge_y):\n",
    "        \"\"\" Helper function to generate graph traces \"\"\"\n",
    "        for edge in G.edges():\n",
    "            x0, y0 = pos[edge[0]]\n",
    "            x1, y1 = pos[edge[1]]\n",
    "            edge_x += [x0, x1, None]\n",
    "            edge_y += [y0, y1, None]\n",
    "\n",
    "        edge_trace = go.Scatter(x=edge_x, y=edge_y, line=dict(width=0.5, color='#888'), hoverinfo='none', mode='lines')\n",
    "\n",
    "        node_x, node_y, node_text, node_color = [], [], [], []\n",
    "        for node in G.nodes():\n",
    "            x, y = pos[node]\n",
    "            node_x.append(x)\n",
    "            node_y.append(y)\n",
    "            node_text.append(G.nodes[node]['label'])\n",
    "            node_color.append('blue' if G.nodes[node]['type'] == 'dataframe' else 'green')\n",
    "\n",
    "        node_trace = go.Scatter(\n",
    "            x=node_x, y=node_y,\n",
    "            mode='markers+text',\n",
    "            text=node_text,\n",
    "            textposition=\"top center\",\n",
    "            hoverinfo='text',\n",
    "            marker=dict(showscale=False, color=node_color, size=18, line_width=2)\n",
    "        )\n",
    "        return edge_trace, node_trace\n",
    "\n",
    "    # Create Quantity-based graph\n",
    "    edge_trace_quantities, node_trace_quantities = create_graph_trace(G_quantities, pos_quantities, edge_x_quantities, edge_y_quantities)\n",
    "    fig_quantity_graph = go.Figure(data=[edge_trace_quantities, node_trace_quantities],\n",
    "                                   layout=go.Layout(\n",
    "                                       title=dict(text='📊 Quantity Relationship Network (coupés & coupantes)', font=dict(size=16)),\n",
    "                                       showlegend=False,\n",
    "                                       hovermode='closest',\n",
    "                                       margin=dict(b=20, l=5, r=5, t=40),\n",
    "                                       xaxis=dict(showgrid=False, zeroline=False, showticklabels=False),\n",
    "                                       yaxis=dict(showgrid=False, zeroline=False, showticklabels=False)\n",
    "                                   ))\n",
    "\n",
    "    return fig_quantity_graph\n",
    "\n",
    "# Generate both graphs\n",
    "fig_quantity_graph = plotly_quantity_graph(df_dict)\n",
    "\n",
    "# Save interactive graphs\n",
    "os.makedirs(plots_folder, exist_ok=True)\n",
    "fig_quantity_graph.write_html(os.path.join(plots_folder, \"network_graph_quantities.html\"))\n",
    "\n",
    "print(f\"✅ Interactive Quantity graph saved to {plots_folder}/network_graph_quantities.html\")\n"
   ]
  },
  {
   "cell_type": "code",
   "execution_count": 15,
   "id": "30ac07c9",
   "metadata": {},
   "outputs": [
    {
     "data": {
      "text/plain": [
       "True"
      ]
     },
     "execution_count": 15,
     "metadata": {},
     "output_type": "execute_result"
    }
   ],
   "source": [
    "import webbrowser\n",
    "webbrowser.open(os.path.join(plots_folder, \"network_graph_quantities.html\"))  # Adjust path if needed"
   ]
  },
  {
   "cell_type": "code",
   "execution_count": 17,
   "id": "4e1488b9",
   "metadata": {},
   "outputs": [
    {
     "ename": "NameError",
     "evalue": "name 'relation_mapping' is not defined",
     "output_type": "error",
     "traceback": [
      "\u001b[0;31m---------------------------------------------------------------------------\u001b[0m",
      "\u001b[0;31mNameError\u001b[0m                                 Traceback (most recent call last)",
      "Cell \u001b[0;32mIn[17], line 3\u001b[0m\n\u001b[1;32m      1\u001b[0m plt\u001b[38;5;241m.\u001b[39mfigure(figsize\u001b[38;5;241m=\u001b[39m(\u001b[38;5;241m14\u001b[39m, \u001b[38;5;241m10\u001b[39m))\n\u001b[0;32m----> 3\u001b[0m \u001b[38;5;28;01mfor\u001b[39;00m i, (ids_col, target_df) \u001b[38;5;129;01min\u001b[39;00m \u001b[38;5;28menumerate\u001b[39m(\u001b[43mrelation_mapping\u001b[49m\u001b[38;5;241m.\u001b[39mitems(), \u001b[38;5;241m1\u001b[39m):\n\u001b[1;32m      4\u001b[0m     count_col \u001b[38;5;241m=\u001b[39m \u001b[38;5;124mf\u001b[39m\u001b[38;5;124m\"\u001b[39m\u001b[38;5;132;01m{\u001b[39;00mids_col\u001b[38;5;132;01m}\u001b[39;00m\u001b[38;5;124m_count\u001b[39m\u001b[38;5;124m\"\u001b[39m\n\u001b[1;32m      5\u001b[0m     volume_col \u001b[38;5;241m=\u001b[39m \u001b[38;5;124mf\u001b[39m\u001b[38;5;124m\"\u001b[39m\u001b[38;5;132;01m{\u001b[39;00mtarget_df\u001b[38;5;132;01m}\u001b[39;00m\u001b[38;5;124m_Volume\u001b[39m\u001b[38;5;124m\"\u001b[39m\n",
      "\u001b[0;31mNameError\u001b[0m: name 'relation_mapping' is not defined"
     ]
    },
    {
     "data": {
      "text/plain": [
       "<Figure size 1400x1000 with 0 Axes>"
      ]
     },
     "metadata": {},
     "output_type": "display_data"
    }
   ],
   "source": [
    "plt.figure(figsize=(14, 10))\n",
    "\n",
    "for i, (ids_col, target_df) in enumerate(relation_mapping.items(), 1):\n",
    "    count_col = f\"{ids_col}_count\"\n",
    "    volume_col = f\"{target_df}_Volume\"\n",
    "\n",
    "    if count_col in murs_df.columns and volume_col in murs_df.columns:\n",
    "        plt.subplot(2, 4, i)\n",
    "        sns.scatterplot(x=murs_df[count_col], y=murs_df[volume_col])\n",
    "        plt.xlabel(f\"Linked {target_df} IDs\")\n",
    "        plt.ylabel(f\"{target_df} Volume\")\n",
    "        plt.title(ids_col.split(\"(\")[0].strip())\n",
    "        plt.grid(True, alpha=0.3)\n",
    "    else:\n",
    "        print(f\"⚠️ Skipping {ids_col}: Missing {count_col} or {volume_col}\")\n",
    "\n",
    "plt.tight_layout()\n",
    "plt.show()"
   ]
  },
  {
   "cell_type": "code",
   "execution_count": null,
   "id": "9f2be75d",
   "metadata": {},
   "outputs": [],
   "source": [
    "def full_validation():\n",
    "    \"\"\"Run a concise validation suite across all DataFrames.\"\"\"\n",
    "\n",
    "    dfs = {\"Murs\": murs_df, \"Sols\": sols_df, \"Poutres\": poutres_df, \"Poteaux\": poteaux_df}\n",
    "\n",
    "    for name, df in dfs.items():\n",
    "        if not isinstance(df, pd.DataFrame):\n",
    "            print(f\"❌ {name}: Not a valid DataFrame\")\n",
    "            continue\n",
    "\n",
    "        print(f\"\\n🔍 Validating {name}: Shape {df.shape}, Columns: {len(df.columns)}\")\n",
    "        rel_cols = [c for c in df.columns if \"coup\" in c.lower()]\n",
    "        created_features = [c for c in df.columns if any(x in c for x in [\"sol_\", \"mur_\", \"poutre_\", \"poteau_\"])]\n",
    "\n",
    "        print(f\"🔗 Relationship columns ({len(rel_cols)}): {rel_cols}\")\n",
    "        print(f\"🆕 Created features ({len(created_features)}): {created_features[:5] if created_features else 'None'}\")\n",
    "\n",
    "    for main, rel, prefix in [\n",
    "        (murs_df, sols_df, \"sol\"),\n",
    "        (murs_df, sols_df, \"sol\"),\n",
    "        (sols_df, murs_df, \"murs\"),\n",
    "        (sols_df, poutres_df, \"poutres\"),\n",
    "        (poutres_df, poteaux_df, \"poteaux\")\n",
    "    ]:\n",
    "        if isinstance(main, pd.DataFrame) and rel is not None and prefix + \"_Hauteur\" in main.columns:\n",
    "            print(f\"\\n✅ {prefix}: Features validated in {main.shape[0]} rows\")\n",
    "            print(main[[prefix + \"_Hauteur\", prefix + \"_Epaisseur\"]].head(2))\n",
    "\n",
    "full_validation()"
   ]
  },
  {
   "cell_type": "code",
   "execution_count": null,
   "id": "624907f1",
   "metadata": {},
   "outputs": [],
   "source": [
    "# Extract numerical columns for correlation mapping\n",
    "corr_matrix = murs_df.select_dtypes(include=['number']).corr()\n",
    "\n",
    "# Plot correlation heatmap\n",
    "plt.figure(figsize=(21, 21))\n",
    "sns.heatmap(corr_matrix, annot=True, cmap='coolwarm', fmt=\".2f\")\n",
    "plt.title(\"Feature Correlation Matrix\")\n",
    "plt.show()"
   ]
  },
  {
   "cell_type": "markdown",
   "id": "572f4d6b",
   "metadata": {},
   "source": [
    "## Part 3: Feature Engineering and Target Preparation"
   ]
  },
  {
   "cell_type": "code",
   "execution_count": null,
   "id": "bd559d47",
   "metadata": {},
   "outputs": [],
   "source": [
    "# Feature selection for Murs DataFrame\n",
    "# We'll exclude the target columns and ID columns from features\n",
    "excluded_features = target_columns + ['Id', 'Sols coupés (Ids)', 'Sols coupants (Ids)']\n",
    "features = [col for col in mur_df.columns if col not in excluded_features]\n",
    "\n",
    "# Separate features and targets\n",
    "X = mur_df[features]\n",
    "y = mur_df[target_columns]\n",
    "\n",
    "# Handle categorical features (text with special French characters)\n",
    "categorical_cols = X.select_dtypes(include=['object']).columns\n",
    "numeric_cols = X.select_dtypes(include=np.number).columns\n",
    "\n",
    "print(\"Categorical columns:\", categorical_cols)\n",
    "print(\"Numeric columns:\", numeric_cols)\n",
    "\n",
    "# Preprocessing pipeline\n",
    "from sklearn.compose import ColumnTransformer\n",
    "from sklearn.pipeline import Pipeline\n",
    "from sklearn.impute import SimpleImputer\n",
    "from sklearn.preprocessing import OneHotEncoder, StandardScaler\n",
    "\n",
    "# Numeric transformer\n",
    "numeric_transformer = Pipeline(steps=[\n",
    "    ('imputer', SimpleImputer(strategy='median')),\n",
    "    ('scaler', StandardScaler())\n",
    "])\n",
    "\n",
    "# Categorical transformer\n",
    "categorical_transformer = Pipeline(steps=[\n",
    "    ('imputer', SimpleImputer(strategy='constant', fill_value='missing')),\n",
    "    ('onehot', OneHotEncoder(handle_unknown='ignore'))\n",
    "])\n",
    "\n",
    "# Combine transformers\n",
    "preprocessor = ColumnTransformer(\n",
    "    transformers=[\n",
    "        ('num', numeric_transformer, numeric_cols),\n",
    "        ('cat', categorical_transformer, categorical_cols)\n",
    "    ])\n",
    "\n",
    "# Apply preprocessing\n",
    "X_processed = preprocessor.fit_transform(X)\n",
    "\n",
    "# For multi-label classification, we'll use separate models for each target\n",
    "# Or we can combine them into a single target (less recommended due to different natures)\n",
    "# Here we'll proceed with separate models\n",
    "\n",
    "# Get feature names after one-hot encoding\n",
    "# For numeric features\n",
    "numeric_feature_names = numeric_cols.tolist()\n",
    "\n",
    "# For categorical features\n",
    "if len(categorical_cols) > 0:\n",
    "    ohe = preprocessor.named_transformers_['cat'].named_steps['onehot']\n",
    "    categorical_feature_names = ohe.get_feature_names_out(categorical_cols).tolist()\n",
    "    all_feature_names = numeric_feature_names + categorical_feature_names\n",
    "else:\n",
    "    all_feature_names = numeric_feature_names\n",
    "\n",
    "print(f\"Total features after preprocessing: {len(all_feature_names)}\")"
   ]
  },
  {
   "cell_type": "markdown",
   "id": "aa95fecb",
   "metadata": {},
   "source": [
    "## Part 4: Exploratory Data Analysis and Correlation Analysis"
   ]
  },
  {
   "cell_type": "code",
   "execution_count": null,
   "id": "fa05eb39",
   "metadata": {},
   "outputs": [],
   "source": [
    "# Correlation analysis for each target variable\n",
    "plt.figure(figsize=(15, 10))\n",
    "\n",
    "# For numeric features only (correlation requires numeric data)\n",
    "numeric_df = X[numeric_cols]\n",
    "\n",
    "# Add targets to the numeric_df for correlation\n",
    "for target in target_columns:\n",
    "    if target in mur_df.columns:\n",
    "        # Encode target for correlation\n",
    "        le = LabelEncoder()\n",
    "        encoded_target = le.fit_transform(mur_df[target])\n",
    "        numeric_df[target] = encoded_target\n",
    "\n",
    "# Compute correlation matrix\n",
    "corr_matrix = numeric_df.corr()\n",
    "\n",
    "# Plot heatmap for each target\n",
    "for i, target in enumerate(target_columns, 1):\n",
    "    if target in numeric_df.columns:\n",
    "        plt.subplot(2, 2, i)\n",
    "        target_corr = corr_matrix[target].sort_values(ascending=False)\n",
    "        sns.barplot(x=target_corr.values[1:11], y=target_corr.index[1:11])\n",
    "        plt.title(f'Top 10 Features Correlated with {target}')\n",
    "        plt.tight_layout()\n",
    "\n",
    "plt.show()\n",
    "\n",
    "# Analyze distribution of target variables\n",
    "plt.figure(figsize=(15, 10))\n",
    "for i, target in enumerate(target_columns, 1):\n",
    "    if target in mur_df.columns:\n",
    "        plt.subplot(2, 2, i)\n",
    "        sns.countplot(y=mur_df[target], order=mur_df[target].value_counts().index)\n",
    "        plt.title(f'Distribution of {target}')\n",
    "        plt.tight_layout()\n",
    "\n",
    "plt.show()\n",
    "\n",
    "# SHAP analysis for feature importance (sample for one target)\n",
    "if '012EC_Ouvrage' in mur_df.columns:\n",
    "    # Sample a subset for faster SHAP computation\n",
    "    X_sample = X_processed[:1000] if X_processed.shape[0] > 1000 else X_processed\n",
    "\n",
    "    # Train a model for this target\n",
    "    y_target = mur_df['012EC_Ouvrage']\n",
    "    le = LabelEncoder()\n",
    "    y_encoded = le.fit_transform(y_target)\n",
    "\n",
    "    # Split data\n",
    "    X_train, X_test, y_train, y_test = train_test_split(\n",
    "        X_sample, y_encoded, test_size=0.2, random_state=42)\n",
    "\n",
    "    # Train a model\n",
    "    model = RandomForestClassifier(n_estimators=100, random_state=42)\n",
    "    model.fit(X_train, y_train)\n",
    "\n",
    "    # Compute SHAP values\n",
    "    explainer = shap.TreeExplainer(model)\n",
    "    shap_values = explainer.shap_values(X_test)\n",
    "\n",
    "    # Plot summary\n",
    "    plt.figure()\n",
    "    shap.summary_plot(shap_values, X_test, feature_names=all_feature_names, class_names=le.classes_)\n",
    "    plt.title('SHAP Summary for 012EC_Ouvrage Prediction')\n",
    "    plt.show()"
   ]
  },
  {
   "cell_type": "markdown",
   "id": "501a9247",
   "metadata": {},
   "source": [
    "## Part 5: Model Training and Evaluation\n"
   ]
  },
  {
   "cell_type": "code",
   "execution_count": null,
   "id": "9e94e88e",
   "metadata": {},
   "outputs": [],
   "source": [
    "# Function to train and evaluate models for a target variable\n",
    "def train_evaluate_models(X, y, target_name, models):\n",
    "    \"\"\"\n",
    "    Train and evaluate multiple models for a target variable\n",
    "\n",
    "    Args:\n",
    "        X: Features (processed)\n",
    "        y: Target variable\n",
    "        target_name: Name of the target variable\n",
    "        models: Dictionary of models to evaluate\n",
    "\n",
    "    Returns:\n",
    "        Dictionary of model performances\n",
    "    \"\"\"\n",
    "    # Encode target if categorical\n",
    "    if y.dtype == 'object':\n",
    "        le = LabelEncoder()\n",
    "        y = le.fit_transform(y)\n",
    "\n",
    "    # Split data\n",
    "    X_train, X_test, y_train, y_test = train_test_split(\n",
    "        X, y, test_size=0.2, random_state=42)\n",
    "\n",
    "    results = {}\n",
    "\n",
    "    for model_name, model in models.items():\n",
    "        print(f\"\\nTraining {model_name} for {target_name}...\")\n",
    "\n",
    "        try:\n",
    "            # Train model\n",
    "            model.fit(X_train, y_train)\n",
    "\n",
    "            # Predict\n",
    "            y_pred = model.predict(X_test)\n",
    "\n",
    "            # Evaluate\n",
    "            accuracy = accuracy_score(y_test, y_pred)\n",
    "            report = classification_report(y_test, y_pred, output_dict=True)\n",
    "\n",
    "            # Store results\n",
    "            results[model_name] = {\n",
    "                'accuracy': accuracy,\n",
    "                'precision': report['weighted avg']['precision'],\n",
    "                'recall': report['weighted avg']['recall'],\n",
    "                'f1': report['weighted avg']['f1-score']\n",
    "            }\n",
    "\n",
    "            print(f\"{model_name} Accuracy: {accuracy:.4f}\")\n",
    "\n",
    "            # Save model based on type\n",
    "            if hasattr(model, 'layers'):  # Keras model\n",
    "                model_path = f\"dlmodels/{target_name}_{model_name}.h5\"\n",
    "                model.save(model_path)\n",
    "            elif 'boost' in model_name.lower() or 'forest' in model_name.lower():\n",
    "                model_path = f\"mlmodels/{target_name}_{model_name}.pkl\"\n",
    "                import joblib\n",
    "                joblib.dump(model, model_path)\n",
    "            else:\n",
    "                model_path = f\"simplemodels/{target_name}_{model_name}.pkl\"\n",
    "                import joblib\n",
    "                joblib.dump(model, model_path)\n",
    "\n",
    "        except Exception as e:\n",
    "            print(f\"Error with {model_name}: {e}\")\n",
    "            results[model_name] = None\n",
    "\n",
    "    return results\n",
    "\n",
    "# Define models to evaluate\n",
    "models = {\n",
    "    'LogisticRegression': LogisticRegression(max_iter=1000, random_state=42),\n",
    "    'RandomForest': RandomForestClassifier(n_estimators=100, random_state=42),\n",
    "    'SVM': SVC(kernel='rbf', probability=True, random_state=42),\n",
    "    'XGBoost': XGBClassifier(random_state=42, use_label_encoder=False, eval_metric='logloss'),\n",
    "    'LightGBM': LGBMClassifier(random_state=42),\n",
    "}\n",
    "\n",
    "# Add a simple neural network\n",
    "def create_nn_model(input_dim, output_dim):\n",
    "    model = Sequential([\n",
    "        Dense(128, activation='relu', input_dim=input_dim),\n",
    "        Dropout(0.2),\n",
    "        Dense(64, activation='relu'),\n",
    "        Dropout(0.2),\n",
    "        Dense(output_dim, activation='softmax')\n",
    "    ])\n",
    "    model.compile(optimizer=Adam(0.001),\n",
    "                 loss='sparse_categorical_crossentropy',\n",
    "                 metrics=['accuracy'])\n",
    "    return model\n",
    "\n",
    "# For each target variable, train and evaluate models\n",
    "all_results = {}\n",
    "\n",
    "for target in target_columns:\n",
    "    if target in mur_df.columns:\n",
    "        print(f\"\\n{'='*50}\")\n",
    "        print(f\"Training models for target: {target}\")\n",
    "        print(f\"{'='*50}\")\n",
    "\n",
    "        y_target = mur_df[target]\n",
    "\n",
    "        # Skip if all values are the same\n",
    "        if len(y_target.unique()) == 1:\n",
    "            print(f\"Skipping {target} - only one class present.\")\n",
    "            continue\n",
    "\n",
    "        # Add neural network to models\n",
    "        output_dim = len(y_target.unique())\n",
    "        nn_model = create_nn_model(X_processed.shape[1], output_dim)\n",
    "        models['NeuralNetwork'] = nn_model\n",
    "\n",
    "        # Train and evaluate\n",
    "        results = train_evaluate_models(X_processed, y_target, target, models)\n",
    "        all_results[target] = results\n",
    "\n",
    "        # Remove NN for next target (to recreate with correct output dim)\n",
    "        del models['NeuralNetwork']\n",
    "\n",
    "        # Plot model comparison\n",
    "        if results:\n",
    "            df_results = pd.DataFrame(results).T\n",
    "            df_results['accuracy'].plot(kind='bar', title=f'Model Accuracy for {target}')\n",
    "            plt.ylabel('Accuracy')\n",
    "            plt.xticks(rotation=45)\n",
    "            plt.tight_layout()\n",
    "            plt.show()\n",
    "\n",
    "# Display all results\n",
    "for target, results in all_results.items():\n",
    "    print(f\"\\nResults for {target}:\")\n",
    "    if results:\n",
    "        display(pd.DataFrame(results).T)"
   ]
  },
  {
   "cell_type": "markdown",
   "id": "1c6b79ed",
   "metadata": {},
   "source": [
    "## Part 6: Model Interpretation and Deployment"
   ]
  },
  {
   "cell_type": "code",
   "execution_count": null,
   "id": "490629b3",
   "metadata": {},
   "outputs": [],
   "source": [
    "# Function to interpret best model for each target\n",
    "def interpret_best_model(target, results, X_processed, y_target):\n",
    "    \"\"\"\n",
    "    Interpret the best model for a target using SHAP\n",
    "\n",
    "    Args:\n",
    "        target: Target variable name\n",
    "        results: Dictionary of model results\n",
    "        X_processed: Processed features\n",
    "        y_target: Target values\n",
    "    \"\"\"\n",
    "    if not results:\n",
    "        return\n",
    "\n",
    "    # Find best model by accuracy\n",
    "    df_results = pd.DataFrame(results).T\n",
    "    best_model_name = df_results['accuracy'].idxmax()\n",
    "    best_model_accuracy = df_results.loc[best_model_name, 'accuracy']\n",
    "\n",
    "    print(f\"\\nInterpreting best model for {target}: {best_model_name} (Accuracy: {best_model_accuracy:.4f})\")\n",
    "\n",
    "    # Load the best model\n",
    "    if 'NeuralNetwork' in best_model_name:\n",
    "        model_path = f\"dlmodels/{target}_{best_model_name}.h5\"\n",
    "        best_model = tf.keras.models.load_model(model_path)\n",
    "\n",
    "        # For neural networks, we'll use a different explainer\n",
    "        # Sample data for faster computation\n",
    "        X_sample = X_processed[:100] if X_processed.shape[0] > 100 else X_processed\n",
    "\n",
    "        # Create a SHAP explainer\n",
    "        explainer = shap.DeepExplainer(best_model, X_sample)\n",
    "        shap_values = explainer.shap_values(X_sample)\n",
    "\n",
    "        # Plot summary\n",
    "        plt.figure()\n",
    "        shap.summary_plot(shap_values, X_sample, feature_names=all_feature_names)\n",
    "        plt.title(f'SHAP Summary for {target} ({best_model_name})')\n",
    "        plt.show()\n",
    "\n",
    "    else:\n",
    "        if 'boost' in best_model_name.lower() or 'forest' in best_model_name.lower():\n",
    "            model_path = f\"mlmodels/{target}_{best_model_name}.pkl\"\n",
    "        else:\n",
    "            model_path = f\"simplemodels/{target}_{best_model_name}.pkl\"\n",
    "\n",
    "        import joblib\n",
    "        best_model = joblib.load(model_path)\n",
    "\n",
    "        # Create SHAP explainer\n",
    "        X_sample = X_processed[:100] if X_processed.shape[0] > 100 else X_processed\n",
    "\n",
    "        if hasattr(best_model, 'predict_proba'):\n",
    "            explainer = shap.TreeExplainer(best_model)\n",
    "            shap_values = explainer.shap_values(X_sample)\n",
    "\n",
    "            # Plot summary\n",
    "            plt.figure()\n",
    "            shap.summary_plot(shap_values, X_sample, feature_names=all_feature_names)\n",
    "            plt.title(f'SHAP Summary for {target} ({best_model_name})')\n",
    "            plt.show()\n",
    "        else:\n",
    "            print(f\"Cannot create SHAP explainer for {best_model_name}\")\n",
    "\n",
    "# Interpret best models for each target\n",
    "for target, results in all_results.items():\n",
    "    y_target = mur_df[target]\n",
    "    interpret_best_model(target, results, X_processed, y_target)\n",
    "\n",
    "# Final recommendations\n",
    "print(\"\\nFinal Recommendations:\")\n",
    "print(\"1. The best performing models have been saved in their respective folders (simplemodels/, mlmodels/, dlmodels/)\")\n",
    "print(\"2. SHAP analysis has been provided for model interpretability\")\n",
    "print(\"3. Consider feature engineering based on the correlation and SHAP analysis\")\n",
    "print(\"4. For deployment, use the best model for each target variable\")\n",
    "print(\"5. Monitor model performance over time as new data becomes available\")"
   ]
  },
  {
   "cell_type": "markdown",
   "id": "7f0590ec",
   "metadata": {},
   "source": [
    "## Part 7: Learning Curves and Model Analysis"
   ]
  },
  {
   "cell_type": "code",
   "execution_count": null,
   "id": "19c2ef38",
   "metadata": {},
   "outputs": [],
   "source": [
    "# Function to plot learning curves\n",
    "def plot_learning_curve(model, X, y, model_name, target_name):\n",
    "    \"\"\"\n",
    "    Plot learning curves for a model\n",
    "\n",
    "    Args:\n",
    "        model: The model to evaluate\n",
    "        X: Features\n",
    "        y: Target\n",
    "        model_name: Name of the model\n",
    "        target_name: Name of the target variable\n",
    "    \"\"\"\n",
    "    from sklearn.model_selection import learning_curve\n",
    "\n",
    "    # If y is categorical, encode it\n",
    "    if y.dtype == 'object':\n",
    "        le = LabelEncoder()\n",
    "        y = le.fit_transform(y)\n",
    "\n",
    "    # Create CV training and test scores for various training set sizes\n",
    "    train_sizes, train_scores, test_scores = learning_curve(\n",
    "        model, X, y, cv=5, scoring='accuracy',\n",
    "        train_sizes=np.linspace(0.1, 1.0, 5))\n",
    "\n",
    "    # Calculate mean and standard deviation for training set scores\n",
    "    train_mean = np.mean(train_scores, axis=1)\n",
    "    train_std = np.std(train_scores, axis=1)\n",
    "\n",
    "    # Calculate mean and standard deviation for test set scores\n",
    "    test_mean = np.mean(test_scores, axis=1)\n",
    "    test_std = np.std(test_scores, axis=1)\n",
    "\n",
    "    # Plot learning curves\n",
    "    plt.figure(figsize=(10, 6))\n",
    "    plt.plot(train_sizes, train_mean, 'o-', color='blue', label='Training score')\n",
    "    plt.plot(train_sizes, test_mean, 'o-', color='green', label='Cross-validation score')\n",
    "\n",
    "    # Draw bands\n",
    "    plt.fill_between(train_sizes, train_mean - train_std, train_mean + train_std, alpha=0.1, color='blue')\n",
    "    plt.fill_between(train_sizes, test_mean - test_std, test_mean + test_std, alpha=0.1, color='green')\n",
    "\n",
    "    # Create plot\n",
    "    plt.title(f'Learning Curve for {model_name} ({target_name})')\n",
    "    plt.xlabel('Training Set Size')\n",
    "    plt.ylabel('Accuracy Score')\n",
    "    plt.legend(loc='best')\n",
    "    plt.grid()\n",
    "    plt.show()\n",
    "\n",
    "# Plot learning curves for best models\n",
    "for target, results in all_results.items():\n",
    "    if results:\n",
    "        # Find best model by accuracy\n",
    "        df_results = pd.DataFrame(results).T\n",
    "        best_model_name = df_results['accuracy'].idxmax()\n",
    "\n",
    "        # Load the best model\n",
    "        if 'NeuralNetwork' in best_model_name:\n",
    "            model_path = f\"dlmodels/{target}_{best_model_name}.h5\"\n",
    "            best_model = tf.keras.models.load_model(model_path)\n",
    "        elif 'boost' in best_model_name.lower() or 'forest' in best_model_name.lower():\n",
    "            model_path = f\"mlmodels/{target}_{best_model_name}.pkl\"\n",
    "            import joblib\n",
    "            best_model = joblib.load(model_path)\n",
    "        else:\n",
    "            model_path = f\"simplemodels/{target}_{best_model_name}.pkl\"\n",
    "            import joblib\n",
    "            best_model = joblib.load(model_path)\n",
    "\n",
    "        # Get target data\n",
    "        y_target = mur_df[target]\n",
    "\n",
    "        # Plot learning curve\n",
    "        plot_learning_curve(best_model, X_processed, y_target, best_model_name, target)"
   ]
  },
  {
   "cell_type": "markdown",
   "id": "16ad02ea",
   "metadata": {},
   "source": [
    "Explanation and Next Steps\n",
    "This comprehensive solution provides:\n",
    "\n",
    "Data Loading and Preprocessing: Handles the complex relationships between different BIM elements (Murs, Sols, Poutres, Poteaux) and processes the French text data with special characters.\n",
    "\n",
    "Feature Engineering: Creates relationship features between different BIM elements based on their intersections and cuts.\n",
    "\n",
    "Exploratory Data Analysis: Includes correlation analysis and target distribution visualization.\n",
    "\n",
    "Model Training: Evaluates multiple machine learning models (Logistic Regression, Random Forest, SVM, XGBoost, LightGBM) and a neural network for each target variable.\n",
    "\n",
    "Model Interpretation: Uses SHAP values to explain model predictions and identify important features.\n",
    "\n",
    "Model Saving: Saves the best models in appropriate folders based on their complexity (simplemodels/, mlmodels/, dlmodels/).\n",
    "\n",
    "Learning Curves: Visualizes model performance with increasing training data size.\n",
    "\n",
    "Next Steps:\n",
    "\n",
    "Deploy the best models for each target variable in your BIM system.\n",
    "\n",
    "Set up monitoring to track model performance over time.\n",
    "\n",
    "Consider implementing an ensemble approach if prediction accuracy needs improvement.\n",
    "\n",
    "Explore more sophisticated deep learning architectures if you have sufficient data.\n",
    "\n",
    "Regularly update the models with new project data to maintain accuracy.\n",
    "\n"
   ]
  }
 ],
 "metadata": {
  "kernelspec": {
   "display_name": "BImpredict2",
   "language": "python",
   "name": "python3"
  },
  "language_info": {
   "codemirror_mode": {
    "name": "ipython",
    "version": 3
   },
   "file_extension": ".py",
   "mimetype": "text/x-python",
   "name": "python",
   "nbconvert_exporter": "python",
   "pygments_lexer": "ipython3",
   "version": "3.10.6"
  }
 },
 "nbformat": 4,
 "nbformat_minor": 5
}
