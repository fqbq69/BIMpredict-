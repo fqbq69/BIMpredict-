{
 "cells": [
  {
   "cell_type": "code",
   "execution_count": null,
   "id": "83a3dbdd",
   "metadata": {
    "vscode": {
     "languageId": "plaintext"
    }
   },
   "outputs": [],
   "source": [
    "fefe"
   ]
  },
  {
   "cell_type": "markdown",
   "id": "8daf575b",
   "metadata": {},
   "source": [
    "e"
   ]
  }
 ],
 "metadata": {
  "language_info": {
   "name": "python"
  }
 },
 "nbformat": 4,
 "nbformat_minor": 5
}
