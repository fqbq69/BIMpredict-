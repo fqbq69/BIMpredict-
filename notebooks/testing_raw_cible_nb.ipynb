{
 "cells": [
  {
   "cell_type": "markdown",
   "id": "8daf575b",
   "metadata": {},
   "source": [
    "e"
   ]
  }
 ],
 "metadata": {
  "language_info": {
   "name": "python"
  }
 },
 "nbformat": 4,
 "nbformat_minor": 5
}
